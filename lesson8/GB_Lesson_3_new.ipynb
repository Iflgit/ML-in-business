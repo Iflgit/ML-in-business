{
 "cells": [
  {
   "cell_type": "markdown",
   "metadata": {
    "id": "yQ07PWonvIMC"
   },
   "source": [
    "# Введение"
   ]
  },
  {
   "cell_type": "markdown",
   "metadata": {
    "id": "iq8PkFlUvIa0"
   },
   "source": [
    "**Основные задачи, решаемые в страховании**\n",
    "* Классические задачи:\n",
    "    * тарификация\n",
    "    * антифрод\n",
    "    * расчет комиссии посредников\n",
    "* ML дало развитие задачам:\n",
    "    * скоринг клиентов\n",
    "    * оценка риска\n",
    "    * оценка ущерба (резерва)\n",
    "    * вероятность пролонгации\n",
    "    * вероятность покупки опций\n",
    "    * вероятность кросс-продаж\n",
    "    * оценка параметров, неизвестных на начальном этапе (например, балл БКИ на предварительном расчете)\n",
    "    * варианты развития убытка (вероятность отказа в выплате, вероятность суда, мошенничества)\n",
    "    * распознавание марок-моделей ТС по фото\n",
    "    * распознавание повреждений ТС по фото"
   ]
  },
  {
   "cell_type": "markdown",
   "metadata": {
    "id": "H8nB8W5DvIeo"
   },
   "source": [
    "**Риски, оцениваемые в автостраховании**\n",
    "* Повреждения кузова\n",
    "  * наш клиент виновен / невиновен\n",
    "  * крупные / мелкие убытки\n",
    "* Ущерб здоровью и жизни\n",
    "* Обязательная гражданская ответственность (ОСАГО)\n",
    "* Добровольная гражданская ответственность (ДАГО)\n",
    "* Повреждения в результате действия третьих лиц\n",
    "* Тоталь\n",
    "* Угон\n",
    "* Прочее"
   ]
  },
  {
   "cell_type": "markdown",
   "metadata": {
    "id": "Lg-MAKgmzlc7"
   },
   "source": [
    "**Основная идея метода бустинга**\n",
    "* Строится модель, прогнозирующая целевую переменную\n",
    "* Находятся отклонения между прогнозными и фактическими значениями\n",
    "* Отклонения - новая целевая переменная\n",
    "* Строится модель, прогнозирующая отклонения\n",
    "* Находятся новые отклонения после применения двух моделей\n",
    "* Новые отклонения - снова целевая переменная\n",
    "* ..."
   ]
  },
  {
   "cell_type": "markdown",
   "metadata": {
    "id": "UrxoSphE6Cul"
   },
   "source": [
    "  ![](https://drive.google.com/uc?export=view&id=1S6rBG3Jn0nTww-X_Fs3h00F9OvkXHgUA)"
   ]
  },
  {
   "cell_type": "markdown",
   "metadata": {
    "id": "kk3ufmUZvIjL"
   },
   "source": [
    "**Особенности бустинга \"деревянных\" моделей**\n",
    "* Бόльшая склонность к переобучению, чем у линейных моделей\n",
    "* Требовательность к подбору гиперпараметров\n",
    "* Сложность с трактовкой значимости параметров"
   ]
  },
  {
   "cell_type": "markdown",
   "metadata": {
    "id": "OuIRGr4N4oNU"
   },
   "source": [
    "**Схема решающего дерева для задачи классификации**"
   ]
  },
  {
   "cell_type": "markdown",
   "metadata": {
    "id": "UsAQWN9bvlLK"
   },
   "source": [
    "  ![](https://drive.google.com/uc?export=view&id=1WlLe4akj2-8LsEeWoS8lCDzATkMKzcO1)\n",
    "\n"
   ]
  },
  {
   "cell_type": "markdown",
   "metadata": {
    "id": "gBcPjfd-zCk1"
   },
   "source": [
    "Основная мера неоднородности при построении деревьев - энтропия Шеннона\n",
    "  ![](https://drive.google.com/uc?export=view&id=16FWKv29X4qFkvi8W0MMN9rkOm4TFByq8) ,\n",
    "где p - вероятность состояния, i - состояние системы. Чем выше энтропия, тем больше хаоса."
   ]
  },
  {
   "cell_type": "markdown",
   "metadata": {
    "id": "TgnvU9RvzCrg"
   },
   "source": [
    "  ![](https://drive.google.com/uc?export=view&id=1Dl9u-uwnpBn6a4ORFBXrXMFMDrbBjLtH)"
   ]
  },
  {
   "cell_type": "markdown",
   "metadata": {
    "id": "xYFeIrBs15dX"
   },
   "source": [
    "  ![](https://drive.google.com/uc?export=view&id=1f77y84obWiPmX2W57N5cdm4RlVQCz3wf)"
   ]
  },
  {
   "cell_type": "markdown",
   "metadata": {
    "id": "wazDBTu815iZ"
   },
   "source": [
    "  ![](https://drive.google.com/uc?export=view&id=1amL7hYh0D3LEJQt0Ntr1JdqClEgNDODV)"
   ]
  },
  {
   "cell_type": "markdown",
   "metadata": {
    "id": "j5Zxmajg2d6A"
   },
   "source": [
    " Прирост информации (изменение энтропии)\n",
    "  ![](https://drive.google.com/uc?export=view&id=1LPgPB2aSvvhVYa2qD3Kgy-XTD-2oVx5G)"
   ]
  },
  {
   "cell_type": "markdown",
   "metadata": {
    "id": "nlQYXnZs3HwT"
   },
   "source": [
    "**Алгоритм построения решающих деревьев**\n",
    "* Вычисляем энтропию исходного множества\n",
    "* Если энтропия равна 0, значит все объекты принадлежат к одному классу\n",
    "* Разбиваем исходное множество на два подмножества, вычисляем изменение энтропии\n",
    "* Среди всех возможных разбиений выбираем то, у которого изменение энтропии наибольшее\n",
    "* Повторяем процесс: разбиваем каждое из полученных подмножеств"
   ]
  },
  {
   "cell_type": "markdown",
   "metadata": {
    "id": "c1Hi6sNA3H2G"
   },
   "source": [
    "  ![](https://drive.google.com/uc?export=view&id=1Q-qEQLZ-sjPQrei-EBxpmBS9yfZTKU2o)"
   ]
  },
  {
   "cell_type": "markdown",
   "metadata": {
    "id": "yfYyD7_d5g1p"
   },
   "source": [
    "**Для задачи регрессии**\n",
    "* Мера неоднородности - это ошибка на выборке"
   ]
  },
  {
   "cell_type": "markdown",
   "metadata": {
    "id": "0ifmx84H7N1A"
   },
   "source": [
    "**Градиентный спуск**\n",
    "* Поиск минимума ошибки за счет движения в сторону антиградиента"
   ]
  },
  {
   "cell_type": "markdown",
   "metadata": {
    "id": "9pOVIoN52eIn"
   },
   "source": [
    "**Что работает лучше, деревья решений или линейные модели?**\n",
    "* Ответ зависит от ситуации с данными\n",
    "* В страховых задачах оценки риска преимущество \"деревянных\" моделей неочевидно"
   ]
  },
  {
   "cell_type": "markdown",
   "metadata": {
    "id": "yMNkbEHLvlPX"
   },
   "source": [
    "# Решение задачи оценки ожидаемых выплат по полису КАСКО методом градиентного бустинга"
   ]
  },
  {
   "cell_type": "markdown",
   "metadata": {
    "id": "D80mTflmZ_bd"
   },
   "source": [
    "# Предобработка данных"
   ]
  },
  {
   "cell_type": "code",
   "execution_count": 38,
   "metadata": {
    "colab": {
     "base_uri": "https://localhost:8080/"
    },
    "id": "8y1iwnRvZ_bf",
    "outputId": "ee086959-1851-4203-a308-9735455c6e06"
   },
   "outputs": [],
   "source": [
    "# Подключение к Google drive\n",
    "\n",
    "# from google.colab import drive\n",
    "# drive.mount('/content/drive')"
   ]
  },
  {
   "cell_type": "code",
   "execution_count": 39,
   "metadata": {
    "id": "5_kh5pdFZ_bn"
   },
   "outputs": [],
   "source": [
    "import numpy as np\n",
    "import pandas as pd"
   ]
  },
  {
   "cell_type": "code",
   "execution_count": 40,
   "metadata": {
    "id": "3IXQriBopC7_"
   },
   "outputs": [],
   "source": [
    "import matplotlib.pyplot as plt\n",
    "import seaborn as sns\n",
    "import warnings\n",
    "\n",
    "# warnings.filterwarnings = 'ignore'"
   ]
  },
  {
   "cell_type": "markdown",
   "metadata": {
    "id": "7dox3dTJN5JP"
   },
   "source": [
    "## Специфические преобразования"
   ]
  },
  {
   "cell_type": "code",
   "execution_count": 41,
   "metadata": {
    "id": "OyV4sOZH83Mi"
   },
   "outputs": [],
   "source": [
    "# PATH = '/content/drive/MyDrive/мои временные ряды/'\n",
    "PATH = ''"
   ]
  },
  {
   "cell_type": "code",
   "execution_count": 42,
   "metadata": {
    "id": "W_VNF0C8Z_br"
   },
   "outputs": [],
   "source": [
    "# Загрузим набор данных\n",
    "\n",
    "df = pd.read_csv(PATH+'freMPL-R.csv', low_memory=False)\n",
    "df = df.loc[df.Dataset.isin([5, 6, 7, 8, 9])]\n",
    "df.drop('Dataset', axis=1, inplace=True)\n",
    "df.dropna(axis=1, how='all', inplace=True)\n",
    "df.drop_duplicates(inplace=True)\n",
    "df.reset_index(drop=True, inplace=True)"
   ]
  },
  {
   "cell_type": "markdown",
   "metadata": {
    "id": "Ec5kqa_DZ_bx"
   },
   "source": [
    "В предыдущем уроке мы заметили отрицательную величину убытка для некоторых наблюдений. Заметим, что для всех таких полисов переменная \"ClaimInd\" принимает только значение 0. Поэтому заменим все соответствующие значения \"ClaimAmount\" нулями."
   ]
  },
  {
   "cell_type": "code",
   "execution_count": 43,
   "metadata": {
    "colab": {
     "base_uri": "https://localhost:8080/",
     "height": 221
    },
    "id": "qA6JELtxZ_bx",
    "outputId": "1dcbd86c-4963-45dd-f335-775536223fae"
   },
   "outputs": [
    {
     "name": "stdout",
     "output_type": "stream",
     "text": [
      "Unique values of ClaimInd: [0]\n"
     ]
    },
    {
     "data": {
      "text/html": [
       "<div>\n",
       "<style scoped>\n",
       "    .dataframe tbody tr th:only-of-type {\n",
       "        vertical-align: middle;\n",
       "    }\n",
       "\n",
       "    .dataframe tbody tr th {\n",
       "        vertical-align: top;\n",
       "    }\n",
       "\n",
       "    .dataframe thead th {\n",
       "        text-align: right;\n",
       "    }\n",
       "</style>\n",
       "<table border=\"1\" class=\"dataframe\">\n",
       "  <thead>\n",
       "    <tr style=\"text-align: right;\">\n",
       "      <th></th>\n",
       "      <th>ClaimAmount</th>\n",
       "      <th>ClaimInd</th>\n",
       "    </tr>\n",
       "  </thead>\n",
       "  <tbody>\n",
       "    <tr>\n",
       "      <th>82</th>\n",
       "      <td>-74.206042</td>\n",
       "      <td>0</td>\n",
       "    </tr>\n",
       "    <tr>\n",
       "      <th>175</th>\n",
       "      <td>-1222.585196</td>\n",
       "      <td>0</td>\n",
       "    </tr>\n",
       "    <tr>\n",
       "      <th>177</th>\n",
       "      <td>-316.288822</td>\n",
       "      <td>0</td>\n",
       "    </tr>\n",
       "    <tr>\n",
       "      <th>363</th>\n",
       "      <td>-666.758610</td>\n",
       "      <td>0</td>\n",
       "    </tr>\n",
       "    <tr>\n",
       "      <th>375</th>\n",
       "      <td>-1201.600604</td>\n",
       "      <td>0</td>\n",
       "    </tr>\n",
       "  </tbody>\n",
       "</table>\n",
       "</div>"
      ],
      "text/plain": [
       "     ClaimAmount  ClaimInd\n",
       "82    -74.206042         0\n",
       "175 -1222.585196         0\n",
       "177  -316.288822         0\n",
       "363  -666.758610         0\n",
       "375 -1201.600604         0"
      ]
     },
     "execution_count": 43,
     "metadata": {},
     "output_type": "execute_result"
    }
   ],
   "source": [
    "NegClaimAmount = df.loc[df.ClaimAmount < 0, ['ClaimAmount','ClaimInd']]\n",
    "print('Unique values of ClaimInd:', NegClaimAmount.ClaimInd.unique())\n",
    "NegClaimAmount.head()"
   ]
  },
  {
   "cell_type": "code",
   "execution_count": 44,
   "metadata": {
    "id": "7pZuno3BZ_b3"
   },
   "outputs": [],
   "source": [
    "df.loc[df.ClaimAmount < 0, 'ClaimAmount'] = 0"
   ]
  },
  {
   "cell_type": "code",
   "execution_count": 45,
   "metadata": {
    "colab": {
     "base_uri": "https://localhost:8080/",
     "height": 309
    },
    "id": "uX6JWBm89Xak",
    "outputId": "4792a083-f2d0-4842-fc1a-b2ced1c971e3"
   },
   "outputs": [
    {
     "data": {
      "text/html": [
       "<div>\n",
       "<style scoped>\n",
       "    .dataframe tbody tr th:only-of-type {\n",
       "        vertical-align: middle;\n",
       "    }\n",
       "\n",
       "    .dataframe tbody tr th {\n",
       "        vertical-align: top;\n",
       "    }\n",
       "\n",
       "    .dataframe thead th {\n",
       "        text-align: right;\n",
       "    }\n",
       "</style>\n",
       "<table border=\"1\" class=\"dataframe\">\n",
       "  <thead>\n",
       "    <tr style=\"text-align: right;\">\n",
       "      <th></th>\n",
       "      <th>Exposure</th>\n",
       "      <th>LicAge</th>\n",
       "      <th>RecordBeg</th>\n",
       "      <th>RecordEnd</th>\n",
       "      <th>Gender</th>\n",
       "      <th>MariStat</th>\n",
       "      <th>SocioCateg</th>\n",
       "      <th>VehUsage</th>\n",
       "      <th>DrivAge</th>\n",
       "      <th>HasKmLimit</th>\n",
       "      <th>BonusMalus</th>\n",
       "      <th>ClaimAmount</th>\n",
       "      <th>ClaimInd</th>\n",
       "      <th>ClaimNbResp</th>\n",
       "      <th>ClaimNbNonResp</th>\n",
       "      <th>ClaimNbParking</th>\n",
       "      <th>ClaimNbFireTheft</th>\n",
       "      <th>ClaimNbWindscreen</th>\n",
       "      <th>OutUseNb</th>\n",
       "      <th>RiskArea</th>\n",
       "    </tr>\n",
       "  </thead>\n",
       "  <tbody>\n",
       "    <tr>\n",
       "      <th>0</th>\n",
       "      <td>0.083</td>\n",
       "      <td>332</td>\n",
       "      <td>2004-01-01</td>\n",
       "      <td>2004-02-01</td>\n",
       "      <td>Male</td>\n",
       "      <td>Other</td>\n",
       "      <td>CSP50</td>\n",
       "      <td>Professional</td>\n",
       "      <td>46</td>\n",
       "      <td>0</td>\n",
       "      <td>50</td>\n",
       "      <td>0.0</td>\n",
       "      <td>0</td>\n",
       "      <td>0.0</td>\n",
       "      <td>1.0</td>\n",
       "      <td>0.0</td>\n",
       "      <td>0.0</td>\n",
       "      <td>0.0</td>\n",
       "      <td>0.0</td>\n",
       "      <td>9.0</td>\n",
       "    </tr>\n",
       "    <tr>\n",
       "      <th>1</th>\n",
       "      <td>0.916</td>\n",
       "      <td>333</td>\n",
       "      <td>2004-02-01</td>\n",
       "      <td>NaN</td>\n",
       "      <td>Male</td>\n",
       "      <td>Other</td>\n",
       "      <td>CSP50</td>\n",
       "      <td>Professional</td>\n",
       "      <td>46</td>\n",
       "      <td>0</td>\n",
       "      <td>50</td>\n",
       "      <td>0.0</td>\n",
       "      <td>0</td>\n",
       "      <td>0.0</td>\n",
       "      <td>1.0</td>\n",
       "      <td>0.0</td>\n",
       "      <td>0.0</td>\n",
       "      <td>0.0</td>\n",
       "      <td>0.0</td>\n",
       "      <td>9.0</td>\n",
       "    </tr>\n",
       "    <tr>\n",
       "      <th>2</th>\n",
       "      <td>0.550</td>\n",
       "      <td>173</td>\n",
       "      <td>2004-05-15</td>\n",
       "      <td>2004-12-03</td>\n",
       "      <td>Male</td>\n",
       "      <td>Other</td>\n",
       "      <td>CSP50</td>\n",
       "      <td>Private+trip to office</td>\n",
       "      <td>32</td>\n",
       "      <td>0</td>\n",
       "      <td>68</td>\n",
       "      <td>0.0</td>\n",
       "      <td>0</td>\n",
       "      <td>0.0</td>\n",
       "      <td>2.0</td>\n",
       "      <td>0.0</td>\n",
       "      <td>0.0</td>\n",
       "      <td>0.0</td>\n",
       "      <td>0.0</td>\n",
       "      <td>7.0</td>\n",
       "    </tr>\n",
       "    <tr>\n",
       "      <th>3</th>\n",
       "      <td>0.089</td>\n",
       "      <td>364</td>\n",
       "      <td>2004-11-29</td>\n",
       "      <td>NaN</td>\n",
       "      <td>Female</td>\n",
       "      <td>Other</td>\n",
       "      <td>CSP55</td>\n",
       "      <td>Private+trip to office</td>\n",
       "      <td>52</td>\n",
       "      <td>0</td>\n",
       "      <td>50</td>\n",
       "      <td>0.0</td>\n",
       "      <td>0</td>\n",
       "      <td>0.0</td>\n",
       "      <td>0.0</td>\n",
       "      <td>0.0</td>\n",
       "      <td>0.0</td>\n",
       "      <td>0.0</td>\n",
       "      <td>0.0</td>\n",
       "      <td>8.0</td>\n",
       "    </tr>\n",
       "    <tr>\n",
       "      <th>4</th>\n",
       "      <td>0.233</td>\n",
       "      <td>426</td>\n",
       "      <td>2004-02-07</td>\n",
       "      <td>2004-05-01</td>\n",
       "      <td>Male</td>\n",
       "      <td>Other</td>\n",
       "      <td>CSP60</td>\n",
       "      <td>Private</td>\n",
       "      <td>57</td>\n",
       "      <td>0</td>\n",
       "      <td>50</td>\n",
       "      <td>0.0</td>\n",
       "      <td>0</td>\n",
       "      <td>0.0</td>\n",
       "      <td>0.0</td>\n",
       "      <td>0.0</td>\n",
       "      <td>0.0</td>\n",
       "      <td>0.0</td>\n",
       "      <td>0.0</td>\n",
       "      <td>7.0</td>\n",
       "    </tr>\n",
       "  </tbody>\n",
       "</table>\n",
       "</div>"
      ],
      "text/plain": [
       "   Exposure  LicAge   RecordBeg   RecordEnd  Gender MariStat SocioCateg  \\\n",
       "0     0.083     332  2004-01-01  2004-02-01    Male    Other      CSP50   \n",
       "1     0.916     333  2004-02-01         NaN    Male    Other      CSP50   \n",
       "2     0.550     173  2004-05-15  2004-12-03    Male    Other      CSP50   \n",
       "3     0.089     364  2004-11-29         NaN  Female    Other      CSP55   \n",
       "4     0.233     426  2004-02-07  2004-05-01    Male    Other      CSP60   \n",
       "\n",
       "                 VehUsage  DrivAge  HasKmLimit  BonusMalus  ClaimAmount  \\\n",
       "0            Professional       46           0          50          0.0   \n",
       "1            Professional       46           0          50          0.0   \n",
       "2  Private+trip to office       32           0          68          0.0   \n",
       "3  Private+trip to office       52           0          50          0.0   \n",
       "4                 Private       57           0          50          0.0   \n",
       "\n",
       "   ClaimInd  ClaimNbResp  ClaimNbNonResp  ClaimNbParking  ClaimNbFireTheft  \\\n",
       "0         0          0.0             1.0             0.0               0.0   \n",
       "1         0          0.0             1.0             0.0               0.0   \n",
       "2         0          0.0             2.0             0.0               0.0   \n",
       "3         0          0.0             0.0             0.0               0.0   \n",
       "4         0          0.0             0.0             0.0               0.0   \n",
       "\n",
       "   ClaimNbWindscreen  OutUseNb  RiskArea  \n",
       "0                0.0       0.0       9.0  \n",
       "1                0.0       0.0       9.0  \n",
       "2                0.0       0.0       7.0  \n",
       "3                0.0       0.0       8.0  \n",
       "4                0.0       0.0       7.0  "
      ]
     },
     "execution_count": 45,
     "metadata": {},
     "output_type": "execute_result"
    }
   ],
   "source": [
    "df.head()"
   ]
  },
  {
   "cell_type": "markdown",
   "metadata": {
    "id": "8H5hPTqmZ_b7"
   },
   "source": [
    "Для моделирования частоты убытков сгенерируем показатель как сумму индикатора того, что убыток произошел (\"ClaimInd\") и количества заявленных убытков по различным видам ущерба за 4 предшествующих года (\"ClaimNbResp\", \"ClaimNbNonResp\", \"ClaimNbParking\", \"ClaimNbFireTheft\", \"ClaimNbWindscreen\").\n",
    "\n",
    "В случаях, если соответствующая величина убытка равняется нулю, сгенерированную частоту также обнулим."
   ]
  },
  {
   "cell_type": "code",
   "execution_count": 46,
   "metadata": {
    "colab": {
     "base_uri": "https://localhost:8080/"
    },
    "id": "IV1_GLd89esW",
    "outputId": "9bd172d7-9f4a-40fd-b124-19c53e37c5ed"
   },
   "outputs": [
    {
     "data": {
      "text/plain": [
       "Index(['Exposure', 'LicAge', 'RecordBeg', 'RecordEnd', 'Gender', 'MariStat',\n",
       "       'SocioCateg', 'VehUsage', 'DrivAge', 'HasKmLimit', 'BonusMalus',\n",
       "       'ClaimAmount', 'ClaimInd', 'ClaimNbResp', 'ClaimNbNonResp',\n",
       "       'ClaimNbParking', 'ClaimNbFireTheft', 'ClaimNbWindscreen', 'OutUseNb',\n",
       "       'RiskArea'],\n",
       "      dtype='object')"
      ]
     },
     "execution_count": 46,
     "metadata": {},
     "output_type": "execute_result"
    }
   ],
   "source": [
    "df.columns"
   ]
  },
  {
   "cell_type": "code",
   "execution_count": 47,
   "metadata": {
    "id": "5I-7xLLxZ_b7"
   },
   "outputs": [],
   "source": [
    "df['ClaimsCount'] = df.ClaimInd + df.ClaimNbResp + df.ClaimNbNonResp + df.ClaimNbParking + df.ClaimNbFireTheft + df.ClaimNbWindscreen\n",
    "df.loc[df.ClaimAmount == 0, 'ClaimsCount'] = 0\n",
    "df.drop([\"ClaimNbResp\", \"ClaimNbNonResp\", \"ClaimNbParking\", \"ClaimNbFireTheft\", \"ClaimNbWindscreen\"], axis=1, inplace=True)"
   ]
  },
  {
   "cell_type": "code",
   "execution_count": 48,
   "metadata": {
    "colab": {
     "base_uri": "https://localhost:8080/",
     "height": 390
    },
    "id": "XKvjzOr1Z_b-",
    "outputId": "3461c469-c2c4-409d-8706-9cfd5ba1d152"
   },
   "outputs": [
    {
     "data": {
      "text/html": [
       "<div>\n",
       "<style scoped>\n",
       "    .dataframe tbody tr th:only-of-type {\n",
       "        vertical-align: middle;\n",
       "    }\n",
       "\n",
       "    .dataframe tbody tr th {\n",
       "        vertical-align: top;\n",
       "    }\n",
       "\n",
       "    .dataframe thead th {\n",
       "        text-align: right;\n",
       "    }\n",
       "</style>\n",
       "<table border=\"1\" class=\"dataframe\">\n",
       "  <thead>\n",
       "    <tr style=\"text-align: right;\">\n",
       "      <th></th>\n",
       "      <th>Policies</th>\n",
       "    </tr>\n",
       "  </thead>\n",
       "  <tbody>\n",
       "    <tr>\n",
       "      <th>0.0</th>\n",
       "      <td>104286</td>\n",
       "    </tr>\n",
       "    <tr>\n",
       "      <th>2.0</th>\n",
       "      <td>3529</td>\n",
       "    </tr>\n",
       "    <tr>\n",
       "      <th>1.0</th>\n",
       "      <td>3339</td>\n",
       "    </tr>\n",
       "    <tr>\n",
       "      <th>3.0</th>\n",
       "      <td>2310</td>\n",
       "    </tr>\n",
       "    <tr>\n",
       "      <th>4.0</th>\n",
       "      <td>1101</td>\n",
       "    </tr>\n",
       "    <tr>\n",
       "      <th>5.0</th>\n",
       "      <td>428</td>\n",
       "    </tr>\n",
       "    <tr>\n",
       "      <th>6.0</th>\n",
       "      <td>127</td>\n",
       "    </tr>\n",
       "    <tr>\n",
       "      <th>7.0</th>\n",
       "      <td>26</td>\n",
       "    </tr>\n",
       "    <tr>\n",
       "      <th>8.0</th>\n",
       "      <td>6</td>\n",
       "    </tr>\n",
       "    <tr>\n",
       "      <th>9.0</th>\n",
       "      <td>2</td>\n",
       "    </tr>\n",
       "    <tr>\n",
       "      <th>11.0</th>\n",
       "      <td>1</td>\n",
       "    </tr>\n",
       "  </tbody>\n",
       "</table>\n",
       "</div>"
      ],
      "text/plain": [
       "      Policies\n",
       "0.0     104286\n",
       "2.0       3529\n",
       "1.0       3339\n",
       "3.0       2310\n",
       "4.0       1101\n",
       "5.0        428\n",
       "6.0        127\n",
       "7.0         26\n",
       "8.0          6\n",
       "9.0          2\n",
       "11.0         1"
      ]
     },
     "execution_count": 48,
     "metadata": {},
     "output_type": "execute_result"
    }
   ],
   "source": [
    "pd.DataFrame(df.ClaimsCount.value_counts()).rename({'ClaimsCount': 'Policies'}, axis=1)"
   ]
  },
  {
   "cell_type": "code",
   "execution_count": 49,
   "metadata": {
    "colab": {
     "base_uri": "https://localhost:8080/",
     "height": 295
    },
    "id": "BxD_wrQZZ_cC",
    "outputId": "37dba48e-b233-4195-ccb3-fbedf01659fb"
   },
   "outputs": [
    {
     "data": {
      "image/png": "[encoded data removed]",
      "text/plain": [
       "<Figure size 432x288 with 1 Axes>"
      ]
     },
     "metadata": {
      "needs_background": "light"
     },
     "output_type": "display_data"
    }
   ],
   "source": [
    "\n",
    "sns.scatterplot( x = df['ClaimsCount'],y = df['ClaimAmount'], hue = df.Gender)\n",
    "plt.title('Зависимость между частотой и величиной убытков')\n",
    "plt.show()"
   ]
  },
  {
   "cell_type": "markdown",
   "metadata": {
    "id": "KWT_qc_UZ_cK"
   },
   "source": [
    "Для моделирования среднего убытка можем рассчитать его как отношение величины убытков к их частоте."
   ]
  },
  {
   "cell_type": "code",
   "execution_count": 50,
   "metadata": {
    "id": "CmPKyzHLZ_cK"
   },
   "outputs": [],
   "source": [
    "df.loc[df.ClaimsCount > 0, 'AvgClaim'] = df['ClaimAmount']/df['ClaimsCount']"
   ]
  },
  {
   "cell_type": "markdown",
   "metadata": {
    "id": "oR02DxanOGDk"
   },
   "source": [
    "## Общие преобразования"
   ]
  },
  {
   "cell_type": "markdown",
   "metadata": {
    "id": "JbIX5hsRR2qA"
   },
   "source": [
    "Класс для общих случаев"
   ]
  },
  {
   "cell_type": "code",
   "execution_count": 51,
   "metadata": {
    "id": "Yam47yC5KkWF"
   },
   "outputs": [],
   "source": [
    "class InsDataFrame:\n",
    "\n",
    "\n",
    "    ''' Load data method '''\n",
    "\n",
    "    def load_pd(self, pd_dataframe):\n",
    "        self._df = pd_dataframe\n",
    "\n",
    "\n",
    "    ''' Columns match method '''\n",
    "\n",
    "    def columns_match(self, match_from_to):\n",
    "        self._df.rename(columns=match_from_to, inplace=True)\n",
    "\n",
    "\n",
    "    ''' Person data methods '''\n",
    "\n",
    "    # Gender\n",
    "    _gender_dict = {'Male':0, 'Female':1}\n",
    "\n",
    "    def transform_gender(self):\n",
    "        self._df['Gender'] = self._df['Gender'].map(self._gender_dict)\n",
    "\n",
    "        \n",
    "\n",
    "    # Age\n",
    "    @staticmethod\n",
    "    def _age(age, age_max):\n",
    "        if pd.isnull(age):\n",
    "            age = None\n",
    "        elif age < 18:\n",
    "            age = None\n",
    "        elif age > age_max:\n",
    "            age = age_max\n",
    "        return age\n",
    "      \n",
    "    def transform_age(self, age_max=70):\n",
    "        self._df['driver_minage'] = self._df['driver_minage'].apply(self._age, args=(age_max,))\n",
    "\n",
    "    # Age M/F\n",
    "    @staticmethod\n",
    "    def _age_gender(age_gender):\n",
    "        _age = age_gender[0]\n",
    "        _gender = age_gender[1]\n",
    "        if _gender == 0: #Male\n",
    "            _driver_minage_m = _age\n",
    "            _driver_minage_f = 18\n",
    "        elif _gender == 1: #Female\n",
    "            _driver_minage_m = 18\n",
    "            _driver_minage_f = _age\n",
    "        else:\n",
    "            _driver_minage_m = 18\n",
    "            _driver_minage_f = 18\n",
    "        return [_driver_minage_m, _driver_minage_f]\n",
    "    \n",
    "    def transform_age_gender(self):\n",
    "        self._df['driver_minage_m'],self._df['driver_minage_f'] = zip(*self._df[['driver_minage','Gender']].apply(self._age_gender, axis=1).to_frame()[0])\n",
    "\n",
    "    # Experience\n",
    "    @staticmethod\n",
    "    def _exp(exp, exp_max):\n",
    "        if pd.isnull(exp):\n",
    "            exp = None\n",
    "        elif exp < 0:\n",
    "            exp = None\n",
    "        elif exp > exp_max:\n",
    "            exp = exp_max\n",
    "        return exp\n",
    "\n",
    "    def transform_exp(self, exp_max=52):\n",
    "        self._df['driver_minexp'] = self._df['driver_minexp'].apply(self._exp, args=(exp_max,))\n",
    "\n",
    "\n",
    "    ''' Other data methods '''\n",
    "\n",
    "    def polynomizer(self, column, n=2):\n",
    "        if column in list(self._df.columns):\n",
    "            for i in range(2,n+1):\n",
    "                self._df[column+'_'+str(i)] = self._df[column]**i\n",
    "\n",
    "    def get_dummies(self, columns):\n",
    "        self._df = pd.get_dummies(self._df, columns=columns)\n",
    "\n",
    "\n",
    "    ''' General methods '''\n",
    "\n",
    "    def info(self):\n",
    "        return self._df.info()\n",
    "\n",
    "    def head(self, columns, n=5):\n",
    "        return self._df.head(n)\n",
    "\n",
    "    def len(self):\n",
    "        return len(self._df)\n",
    "\n",
    "    def get_pd(self, columns):\n",
    "        return self._df[columns]"
   ]
  },
  {
   "cell_type": "markdown",
   "metadata": {
    "id": "4kCFRjwRR7fR"
   },
   "source": [
    "Создаем класс-наследник, в котором переопределяем некоторые методы, специфические для конкретной ситуации, и создаем новые"
   ]
  },
  {
   "cell_type": "markdown",
   "metadata": {
    "id": "EM6EUhT3Z_cV"
   },
   "source": [
    "- В данных стаж \"LicAge\" измеряется в неделях.\n",
    "- Фактор \"SocioCateg\" содержит информацию о социальной категории в виде кодов классификации CSP. Агрегируем имеющиеся коды до 1 знака, а затем закодируем их с помощью one-hot encoding.\n",
    "\n",
    "[Wiki](https://fr.wikipedia.org/wiki/Professions_et_cat%C3%A9gories_socioprofessionnelles_en_France#Cr%C3%A9ation_de_la_nomenclature_des_PCS)\n",
    "\n",
    "[Более подробный классификатор](https://www.ast74.fr/upload/administratif/liste-des-codes-csp-copie.pdf)"
   ]
  },
  {
   "cell_type": "code",
   "execution_count": 52,
   "metadata": {
    "id": "iIaUlNP9Kkaa"
   },
   "outputs": [],
   "source": [
    "class InsDataFrame_Fr(InsDataFrame):\n",
    "\n",
    "    # Experience (weeks to years)\n",
    "    @staticmethod\n",
    "    def _exp(exp, exp_max):\n",
    "        if pd.isnull(exp):\n",
    "            exp = None\n",
    "        elif exp < 0:\n",
    "            exp = None\n",
    "        else:\n",
    "            exp * 7 // 365\n",
    "        if exp > exp_max:\n",
    "            exp = exp_max\n",
    "        return exp\n",
    "\n",
    "    # Marital status\n",
    "    _MariStat_dict = {'Other':0, 'Alone':1}\n",
    "\n",
    "    def transform_MariStat(self):\n",
    "        self._df['MariStat'] = self._df['MariStat'].map(self._MariStat_dict)\n",
    "    \n",
    "    # Social category\n",
    "    def transform_SocioCateg(self):\n",
    "        self._df['SocioCateg'] = self._df['SocioCateg'].str.slice(0,4)"
   ]
  },
  {
   "cell_type": "markdown",
   "metadata": {
    "id": "vitxWSSBTafg"
   },
   "source": [
    "Подгружаем данные"
   ]
  },
  {
   "cell_type": "code",
   "execution_count": 53,
   "metadata": {
    "id": "EChIUi3CKkdP"
   },
   "outputs": [],
   "source": [
    "data = InsDataFrame_Fr()"
   ]
  },
  {
   "cell_type": "code",
   "execution_count": 54,
   "metadata": {
    "id": "rrDsfQK8KkhM"
   },
   "outputs": [],
   "source": [
    "data.load_pd(df)"
   ]
  },
  {
   "cell_type": "code",
   "execution_count": 55,
   "metadata": {
    "colab": {
     "base_uri": "https://localhost:8080/"
    },
    "id": "T9A3J4AZUc79",
    "outputId": "17b5ee79-03a2-4e1c-e239-ebcdd5120983"
   },
   "outputs": [
    {
     "name": "stdout",
     "output_type": "stream",
     "text": [
      "<class 'pandas.core.frame.DataFrame'>\n",
      "RangeIndex: 115155 entries, 0 to 115154\n",
      "Data columns (total 17 columns):\n",
      " #   Column       Non-Null Count   Dtype  \n",
      "---  ------       --------------   -----  \n",
      " 0   Exposure     115155 non-null  float64\n",
      " 1   LicAge       115155 non-null  int64  \n",
      " 2   RecordBeg    115155 non-null  object \n",
      " 3   RecordEnd    59455 non-null   object \n",
      " 4   Gender       115155 non-null  object \n",
      " 5   MariStat     115155 non-null  object \n",
      " 6   SocioCateg   115155 non-null  object \n",
      " 7   VehUsage     115155 non-null  object \n",
      " 8   DrivAge      115155 non-null  int64  \n",
      " 9   HasKmLimit   115155 non-null  int64  \n",
      " 10  BonusMalus   115155 non-null  int64  \n",
      " 11  ClaimAmount  115155 non-null  float64\n",
      " 12  ClaimInd     115155 non-null  int64  \n",
      " 13  OutUseNb     115155 non-null  float64\n",
      " 14  RiskArea     115155 non-null  float64\n",
      " 15  ClaimsCount  115155 non-null  float64\n",
      " 16  AvgClaim     10869 non-null   float64\n",
      "dtypes: float64(6), int64(5), object(6)\n",
      "memory usage: 14.9+ MB\n"
     ]
    }
   ],
   "source": [
    "data.info()"
   ]
  },
  {
   "cell_type": "markdown",
   "metadata": {
    "id": "QoRagZL0V2gJ"
   },
   "source": [
    "Преобразовываем параметры"
   ]
  },
  {
   "cell_type": "code",
   "execution_count": 56,
   "metadata": {
    "id": "95FE5f2rWG7e"
   },
   "outputs": [],
   "source": [
    "# Переименовываем\n",
    "data.columns_match({'DrivAge':'driver_minage','LicAge':'driver_minexp'})"
   ]
  },
  {
   "cell_type": "code",
   "execution_count": 57,
   "metadata": {
    "id": "EJLDDNW_Uc99"
   },
   "outputs": [],
   "source": [
    "# Преобразовываем\n",
    "data.transform_age()\n",
    "data.transform_exp()\n",
    "data.transform_gender()\n",
    "data.transform_MariStat()\n",
    "data.transform_SocioCateg()"
   ]
  },
  {
   "cell_type": "code",
   "execution_count": 58,
   "metadata": {
    "id": "7ZoN-JXZUdCZ"
   },
   "outputs": [],
   "source": [
    "# Пересечение пола и возраста, их квадраты\n",
    "data.transform_age_gender()\n",
    "data.polynomizer('driver_minage_m')\n",
    "data.polynomizer('driver_minage_f')"
   ]
  },
  {
   "cell_type": "markdown",
   "metadata": {
    "id": "jgv_0o_iZ_c2"
   },
   "source": [
    "Для переменных, содержащих более 2 значений:\n",
    "- либо упорядочиваем значения,\n",
    "- либо используем фиктивные переменные (one-hot encoding)."
   ]
  },
  {
   "cell_type": "code",
   "execution_count": 59,
   "metadata": {
    "id": "eKCHRXxwUc6j"
   },
   "outputs": [],
   "source": [
    "# Onehot encoding\n",
    "data.get_dummies(['VehUsage','SocioCateg'])"
   ]
  },
  {
   "cell_type": "code",
   "execution_count": 60,
   "metadata": {
    "colab": {
     "base_uri": "https://localhost:8080/"
    },
    "id": "s675sGQtKkYq",
    "outputId": "ea394be9-cb51-48d7-a85f-bde5162b2881"
   },
   "outputs": [
    {
     "name": "stdout",
     "output_type": "stream",
     "text": [
      "<class 'pandas.core.frame.DataFrame'>\n",
      "RangeIndex: 115155 entries, 0 to 115154\n",
      "Data columns (total 30 columns):\n",
      " #   Column                           Non-Null Count   Dtype  \n",
      "---  ------                           --------------   -----  \n",
      " 0   Exposure                         115155 non-null  float64\n",
      " 1   driver_minexp                    115155 non-null  int64  \n",
      " 2   RecordBeg                        115155 non-null  object \n",
      " 3   RecordEnd                        59455 non-null   object \n",
      " 4   Gender                           115155 non-null  int64  \n",
      " 5   MariStat                         115155 non-null  int64  \n",
      " 6   driver_minage                    115155 non-null  int64  \n",
      " 7   HasKmLimit                       115155 non-null  int64  \n",
      " 8   BonusMalus                       115155 non-null  int64  \n",
      " 9   ClaimAmount                      115155 non-null  float64\n",
      " 10  ClaimInd                         115155 non-null  int64  \n",
      " 11  OutUseNb                         115155 non-null  float64\n",
      " 12  RiskArea                         115155 non-null  float64\n",
      " 13  ClaimsCount                      115155 non-null  float64\n",
      " 14  AvgClaim                         10869 non-null   float64\n",
      " 15  driver_minage_m                  115155 non-null  int64  \n",
      " 16  driver_minage_f                  115155 non-null  int64  \n",
      " 17  driver_minage_m_2                115155 non-null  int64  \n",
      " 18  driver_minage_f_2                115155 non-null  int64  \n",
      " 19  VehUsage_Private                 115155 non-null  uint8  \n",
      " 20  VehUsage_Private+trip to office  115155 non-null  uint8  \n",
      " 21  VehUsage_Professional            115155 non-null  uint8  \n",
      " 22  VehUsage_Professional run        115155 non-null  uint8  \n",
      " 23  SocioCateg_CSP1                  115155 non-null  uint8  \n",
      " 24  SocioCateg_CSP2                  115155 non-null  uint8  \n",
      " 25  SocioCateg_CSP3                  115155 non-null  uint8  \n",
      " 26  SocioCateg_CSP4                  115155 non-null  uint8  \n",
      " 27  SocioCateg_CSP5                  115155 non-null  uint8  \n",
      " 28  SocioCateg_CSP6                  115155 non-null  uint8  \n",
      " 29  SocioCateg_CSP7                  115155 non-null  uint8  \n",
      "dtypes: float64(6), int64(11), object(2), uint8(11)\n",
      "memory usage: 17.9+ MB\n"
     ]
    }
   ],
   "source": [
    "data.info()"
   ]
  },
  {
   "cell_type": "code",
   "execution_count": 61,
   "metadata": {
    "id": "2GplOpk-ZwKo"
   },
   "outputs": [],
   "source": [
    "col_features = [\n",
    "                'driver_minexp',\n",
    "                'Gender',\n",
    "                'MariStat',\n",
    "                'HasKmLimit',\n",
    "                'BonusMalus',\n",
    "                'OutUseNb',\n",
    "                'RiskArea',\n",
    "                'driver_minage_m',\n",
    "                'driver_minage_f',\n",
    "                'driver_minage_m_2',\n",
    "                'driver_minage_f_2',\n",
    "                'VehUsage_Private',\n",
    "                'VehUsage_Private+trip to office',\n",
    "                'VehUsage_Professional',\n",
    "                'VehUsage_Professional run',\n",
    "                'SocioCateg_CSP1',\n",
    "                'SocioCateg_CSP2',\n",
    "                'SocioCateg_CSP3',\n",
    "                'SocioCateg_CSP4',\n",
    "                'SocioCateg_CSP5',\n",
    "                'SocioCateg_CSP6',\n",
    "                'SocioCateg_CSP7'  \n",
    "]"
   ]
  },
  {
   "cell_type": "code",
   "execution_count": 62,
   "metadata": {
    "id": "fUtDoYin88Ni"
   },
   "outputs": [],
   "source": [
    "col_features1 = [\n",
    "                'driver_minexp',\n",
    "                'Gender',\n",
    "                'MariStat',\n",
    "                'HasKmLimit',\n",
    "                'BonusMalus',\n",
    "                'OutUseNb',\n",
    "                'RiskArea',\n",
    "                'driver_minage_m',\n",
    "                'driver_minage_f',\n",
    "                'driver_minage_m_2',\n",
    "                'driver_minage_f_2',\n",
    "                'VehUsage_Private',\n",
    "                'VehUsage_Private+trip to office',\n",
    "                'VehUsage_Professional',\n",
    "                'SocioCateg_CSP1',\n",
    "                'SocioCateg_CSP2',\n",
    "                'SocioCateg_CSP3',\n",
    "                'SocioCateg_CSP4',\n",
    "                'SocioCateg_CSP5',\n",
    "                'SocioCateg_CSP6',\n",
    "    \n",
    "]"
   ]
  },
  {
   "cell_type": "code",
   "execution_count": 63,
   "metadata": {
    "id": "D6jg_yJo9SCf"
   },
   "outputs": [],
   "source": [
    "col_features=col_features1"
   ]
  },
  {
   "cell_type": "code",
   "execution_count": 64,
   "metadata": {
    "id": "T6bKm8RBcC1v"
   },
   "outputs": [],
   "source": [
    "col_target = ['ClaimAmount', 'ClaimsCount', 'AvgClaim']"
   ]
  },
  {
   "cell_type": "code",
   "execution_count": 65,
   "metadata": {
    "id": "60BxEUC6dqtO"
   },
   "outputs": [],
   "source": [
    "df_freq = data.get_pd(col_features+col_target)"
   ]
  },
  {
   "cell_type": "code",
   "execution_count": 66,
   "metadata": {
    "id": "G9u4U7-Bd-ob"
   },
   "outputs": [],
   "source": [
    "df_ac = df_freq[df_freq['ClaimsCount'] > 0].reset_index().copy()"
   ]
  },
  {
   "cell_type": "markdown",
   "metadata": {
    "id": "VpYxkXdrLD01"
   },
   "source": [
    "## Разделение набора данных на обучающую, валидационную и тестовую выборки"
   ]
  },
  {
   "cell_type": "code",
   "execution_count": 67,
   "metadata": {
    "id": "piO1n8o2LFAJ"
   },
   "outputs": [],
   "source": [
    "from sklearn.model_selection import train_test_split"
   ]
  },
  {
   "cell_type": "code",
   "execution_count": 68,
   "metadata": {},
   "outputs": [],
   "source": [
    "import sklearn"
   ]
  },
  {
   "cell_type": "code",
   "execution_count": 69,
   "metadata": {
    "id": "dGvhYDXdLFoR"
   },
   "outputs": [],
   "source": [
    "# Разбиение датасета для частоты на train/val/test\n",
    "\n",
    "x_train_c, x_test_c, y_train_c, y_test_c = train_test_split(df_freq[col_features], df_freq.ClaimsCount, test_size=0.3, random_state=1)\n",
    "x_valid_c, x_test_c, y_valid_c, y_test_c = train_test_split(x_test_c, y_test_c, test_size=0.5, random_state=1)"
   ]
  },
  {
   "cell_type": "code",
   "execution_count": 70,
   "metadata": {
    "id": "XBBJ06RA96Xk"
   },
   "outputs": [],
   "source": [
    "# Разбиение датасета для среднего убытка на train/val/test \n",
    "\n",
    "x_train_ac, x_test_ac, y_train_ac, y_test_ac = train_test_split(df_ac[col_features], df_ac.AvgClaim, test_size=0.3, random_state=1)\n",
    "x_valid_ac, x_test_ac, y_valid_ac, y_test_ac = train_test_split(x_test_ac, y_test_ac, test_size=0.5, random_state=1)"
   ]
  },
  {
   "cell_type": "markdown",
   "metadata": {
    "id": "MVH6ncAFgWXF"
   },
   "source": [
    "# Градиентный бустинг"
   ]
  },
  {
   "cell_type": "markdown",
   "metadata": {
    "id": "BukxXDoCQUJe"
   },
   "source": [
    "Градиентный бустинг - ансамблевый метод машинного обучения, использующийся для задач классификации, регрессии и ранжирования. Ансамбль представляет собой композицию простых базовых алгоритмов, в качестве которых обычно используются деревья решений. \n",
    "\n",
    "Классический алгоритм GBM был предложен [Джеромом Фридманом в\n",
    "1999 году](https://statweb.stanford.edu/~jhf/ftp/trebst.pdf). Популярность методов GBM пришла в 2015-2016 гг. благодаря большому\n",
    "успеху библиотеки XGBoost в соревнованиях Kaggle.\n",
    "\n",
    "Популярные библиотеки для GBM:\n",
    "* XGBoost (eXtreme Gradient Boosting)\n",
    "    * скорость, масштабируемость, поддержка распределенных вычислений\n",
    "    * добавление компоненты регуляризации, отсутствовавшей в классическом алгоритме GBM\n",
    "* LightGBM\n",
    "    * использование алгоритмов, основанных на гистограммах, которые позволяют сократить время исполнения и потребление памяти в процессе обучения моделей. \n",
    "* CatBoost (Categorical Boosting)\n",
    "    * предназначается для эффективной работы с категориальными признаками\n",
    "\n",
    "Все перечисленные библиотеки зачастую имеют сравнимый результат."
   ]
  },
  {
   "cell_type": "markdown",
   "metadata": {
    "id": "Irg71_9zMJxT"
   },
   "source": [
    "### Теория (XGBoost)"
   ]
  },
  {
   "cell_type": "markdown",
   "metadata": {
    "id": "R5SOE8shgaDi"
   },
   "source": [
    "**Модель**\n",
    "\n",
    "Пусть $y_i$ – значение переменной, которое необходимо предсказать, $x_i$ – входные данные.\n",
    "\n",
    "Модель имеет вид\n",
    "$$\\hat{y}_i = \\sum_{k=1}^K f_k(x_i),\\hspace{10pt} f_k \\in \\mathcal{F},$$\n",
    "где $K$ – количество деревьев, $f$ – функция на пространстве $\\mathcal{F}$, которое содержит все возможные деревья решений."
   ]
  },
  {
   "cell_type": "markdown",
   "metadata": {
    "id": "Ym9L6IPcqVVI"
   },
   "source": [
    "**Целевая функция**\n",
    "$$\\text{Obj}(\\theta) = L(\\theta) + \\Omega(\\theta),$$\n",
    "где \n",
    "* $\\theta$ – параметры модели;\n",
    "* $L$ – величина потерь на обучающей выборке  (насколько хорошо модель описывает данные?);\n",
    "* $\\Omega$ – компонента, отвечающая за регуляризацию (насколько модель сложная?)."
   ]
  },
  {
   "cell_type": "markdown",
   "metadata": {
    "id": "vd3oGOeaoZh5"
   },
   "source": [
    "Тогда для представленной модели $\\theta = \\{f_1,f_2,\\cdots,f_K\\}$,\n",
    "\n",
    "$$\\text{Obj} = \\sum_{i=1}^n l(y_i, \\hat{y}_i) + \\sum_{k=1}^K\\Omega(f_k),$$\n",
    "где $l(y_i, \\hat{y}_i)$ – функция потерь."
   ]
  },
  {
   "cell_type": "markdown",
   "metadata": {
    "id": "eI_eHXwzvH0u"
   },
   "source": [
    "**Обучение**\n",
    "\n",
    "Необходимо обучить функции $f_i$, каждая из которых включает структуру дерева и значения листьев.\n",
    "\n",
    "Обозначим $\\hat{y}_i^{(t)}$ предсказанное значение на шаге $t$. Тогда целевая функция имеет вид:\n",
    "$$\\text{Obj} = \\sum_{i=1}^n l\\left(y_i, \\hat{y}_i^{(t)}\\right) + \\sum_{i=1}^t\\Omega(f_i).$$\n",
    "\n",
    "Обучение деревьев происходит поочередно, начиная с постоянного предсказания:\n",
    "$$\\begin{split}\\hat{y}_i^{(0)} &= 0\\\\\n",
    "\\hat{y}_i^{(1)} &= f_1(x_i) = \\hat{y}_i^{(0)} + f_1(x_i)\\\\\n",
    "\\hat{y}_i^{(2)} &= f_1(x_i) + f_2(x_i)= \\hat{y}_i^{(1)} + f_2(x_i)\\\\\n",
    "&\\dots\\\\\n",
    "\\hat{y}_i^{(t)} &= \\sum_{k=1}^t f_k(x_i)= \\hat{y}_i^{(t-1)} + f_t(x_i)\\end{split}$$"
   ]
  },
  {
   "cell_type": "markdown",
   "metadata": {
    "id": "VYz3zEW71N8C"
   },
   "source": [
    "На каждом шаге выбирается дерево, которое оптимизирует целевую функцию.\n",
    "$$\\begin{split}\\text{Obj}^{(t)} & = \\sum_{i=1}^n l\\left(y_i, \\hat{y}_i^{(t)}\\right) + \\sum_{i=1}^t\\Omega(f_i) \\\\\n",
    "          & = \\sum_{i=1}^n l\\left(y_i, \\hat{y}_i^{(t-1)} + f_t(x_i)\\right) + \\Omega(f_t) + \\mathrm{constant}\\end{split}$$\n"
   ]
  },
  {
   "cell_type": "markdown",
   "metadata": {
    "id": "8-zi2JEM35fZ"
   },
   "source": [
    "Для упрощения задачи оптимизации для заданной функции потерь используется разложение Тейлора:\n",
    "$$F(x+\\Delta x) \\simeq F(x) + F'(x)\\Delta x + \\frac{1}{2} F''(x)\\Delta x^2 + \\dots$$"
   ]
  },
  {
   "cell_type": "markdown",
   "metadata": {
    "id": "I_w40vQYAqbM"
   },
   "source": [
    "Тогда обозначив градиент и гессиан функции потерь соответственно\n",
    "$$g_i = \\partial_{\\hat{y}_i^{(t-1)}} l(y_i, \\hat{y}_i^{(t-1)}),\\hspace{10pt}h_i = \\partial_{\\hat{y}_i^{(t-1)}}^2 l(y_i, \\hat{y}_i^{(t-1)}),$$\n",
    "целевая функция будет иметь вид\n",
    "$$\\text{Obj}^{(t)} = \\sum_{i=1}^n [l(y_i, \\hat{y}_i^{(t-1)}) + g_i f_t(x_i) + \\frac{1}{2} h_i f_t^2(x_i)] + \\Omega(f_t) + \\mathrm{constant}.$$\n",
    "\n",
    "Убирая константы на шаге $t$, целевая функция упрощается в виде:\n",
    "$$\\text{Obj}^{(t)} = \\sum_{i=1}^n [g_i f_t(x_i) + \\frac{1}{2} h_i f_t^2(x_i)] + \\Omega(f_t).$$"
   ]
  },
  {
   "cell_type": "markdown",
   "metadata": {
    "id": "8AacStqBAy5F"
   },
   "source": [
    "Таким образом, величина потерь $L$ зависит только от $g_i$ и $h_i$.\n",
    "\n",
    "Благодаря этому, XGBoost поддерживает пользовательские целевые функции, для которых достаточно задать градиент и гессиан функции потерь."
   ]
  },
  {
   "cell_type": "markdown",
   "metadata": {
    "id": "i0Y3sMqXA2Vo"
   },
   "source": [
    "**Регуляризация**\n",
    "\n",
    "Для начала определим дерево $f_t(x)$:\n",
    "$$f_t(x) = w_{q(x)}, w \\in R^T, q:R^d\\rightarrow \\{1,2,\\cdots,T\\},$$\n",
    "где $w$ – вектор значений на листьях дерева, $T$ – количество листьев, $q$ – функция, которая каждой точке набора данных ставит в соответствие лист дерева.\n",
    "\n",
    "Тогда сложность модели имеет вид\n",
    "$$\\Omega(f) = \\gamma T + \\frac{1}{2}\\lambda \\sum_{j=1}^T w_j^2+ \\alpha \\sum_{j=1}^T |w_j|,$$\n",
    "где $\\gamma$ – штраф на сложность деревьев, $\\lambda$ – сила регуляризации $\\ell_2$, $\\alpha$ – сила регуляризации $\\ell_1$."
   ]
  },
  {
   "cell_type": "markdown",
   "metadata": {
    "id": "32HYRySHKNXG"
   },
   "source": [
    "**Переобучение**\n",
    "Для контроля переобучения помимо параметров $\\gamma$, $\\alpha$ и $\\lambda$ используются также параметры:\n",
    "* Контролирующие сложность модели напрямую \n",
    "    * максимальная глубина дерева (`max_depth`)\n",
    "    * минимальный вес в узле, ниже которого прекращается дальнейшее разделение в этом узле (`min_child_weight`)\n",
    "* Добавляющие случайность, повышая устойчивость к зашумлению\n",
    "    * $\\eta$ – величина шага. $\\eta \\in (0,1]$.\n",
    "    Вместо $\\hat{y}_i^{(t)} = \\hat{y}_i^{(t-1)} + f_t(x_i)$ используется \n",
    "    $\\hat{y}_i^{(t)} = \\hat{y}_i^{(t-1)} + \\eta\\cdot f_t(x_i)$\n",
    "    * Доля подвыборки наблюдений для построения деревьев (`subsample`)\n",
    "    * Доля подвыборки признаков для построения деревьев (`colsample_bytree`)"
   ]
  },
  {
   "cell_type": "markdown",
   "metadata": {
    "id": "lXsDrEFULk1e"
   },
   "source": [
    "Теория, стоящая за оценкой весов на листьях и нахождением разделений выходит за рамки нашего рассмотрения."
   ]
  },
  {
   "cell_type": "markdown",
   "metadata": {
    "id": "o9-S2EaWwf2a"
   },
   "source": [
    "* [Chen, Tianqi, and Carlos Guestrin. \"Xgboost: A scalable tree boosting system.\" ](https://arxiv.org/pdf/1603.02754.pdf)\n",
    "* [XGBoost Documentation](https://xgboost.readthedocs.io/en/latest/tutorials/model.html)\n",
    "* [А. Дьяконов «Введение в анализ данных и машинное обучение». Градиентный бустинг](https://alexanderdyakonov.files.wordpress.com/2017/06/book_boosting_pdf.pdf)\n",
    "* [Rokach, Lior. Ensemble Learning: Pattern Classification Using Ensemble Methods (Second Edition)](https://books.google.ru/books/about/Ensemble_Learning_Pattern_Classification.html?id=_AmMDwAAQBAJ&redir_esc=y)"
   ]
  },
  {
   "cell_type": "markdown",
   "metadata": {
    "id": "9VNfYb38XZlZ"
   },
   "source": [
    "### Выбор гиперпараметров"
   ]
  },
  {
   "cell_type": "markdown",
   "metadata": {
    "id": "7waUt1UL78-n"
   },
   "source": [
    "Основные гиперпараметры, используемые в библиотеке XGBoost\n",
    "* _objective_ - функция распределения\n",
    "* _eta_ - размер шага\n",
    "* _max_depth_ - максимальная глубина дерева\n",
    "* _min_child_weight_ - минимальный вес, необходимый дочерним элементам\n",
    "* _subsample_ - доля подвыборки для каждой итерации\n",
    "* _colsample_bytree_ - доля колонок, участвующих в итерации\n",
    "* _alpha_ - сила регуляризации L1\n",
    "* _lambda_ - сила регуляризации L2\n",
    "* _gamma_ - штраф на сложность деревьев\n",
    "* _num_boost_round_ - число итераций (фиксируем, не следует менять вместе с _eta_)\n",
    "* _early_stopping_rounds_ - число итераций для остановки, если не произошло улучшение метрики (фиксируем) "
   ]
  },
  {
   "cell_type": "markdown",
   "metadata": {
    "id": "WRwaDxWsXd_1"
   },
   "source": [
    "Стратегии подбора гиперпараметров:\n",
    "* Поиск на сетке (Grid Search, Randomized Search)\n",
    "* Покоординатный спуск (Coordinate Descent)\n",
    "* Генетические алгоритмы (Genetic Algorithms)\n",
    "* Байесовская оптимизация\n",
    "* ...\n",
    "\n",
    "[Использование некоторых алгоритмов подбора гиперпараметров для  XGBoost](https://towardsdatascience.com/doing-xgboost-hyper-parameter-tuning-the-smart-way-part-1-of-2-f6d255a45dde)"
   ]
  },
  {
   "cell_type": "markdown",
   "metadata": {
    "id": "mjXVH15FRo7c"
   },
   "source": [
    "Для подбора параметров воспользуемся реализацией алгоритма Tree-structured Parzen Estimator (TPE) в библиотеке `Hyperopt`. Алгоритм использует подход последовательной оптимизации, основанной на модели (sequential model-based optimization, SMBO). Метод основывается в байесовской оптимизации и гауссовских процессах.\n",
    "\n",
    "* [Bergstra, James S., et al. \"Algorithms for hyper-parameter optimization.\" Advances in neural information processing systems. 2011.](https://papers.nips.cc/paper/4443-algorithms-for-hyper-parameter-optimization.pdf)"
   ]
  },
  {
   "cell_type": "code",
   "execution_count": 71,
   "metadata": {
    "colab": {
     "base_uri": "https://localhost:8080/"
    },
    "id": "AK6oZZCXz3as",
    "outputId": "71be4474-c5d2-45a0-f4e3-951a1b1994f6"
   },
   "outputs": [
    {
     "name": "stdout",
     "output_type": "stream",
     "text": [
      "Requirement already up-to-date: hyperopt in c:\\users\\ifl\\documents\\github\\ml-in-business\\.venv\\lib\\site-packages (0.2.5)\n",
      "Requirement already satisfied, skipping upgrade: scipy in c:\\users\\ifl\\documents\\github\\ml-in-business\\.venv\\lib\\site-packages (from hyperopt) (1.5.3)\n",
      "Requirement already satisfied, skipping upgrade: tqdm in c:\\users\\ifl\\documents\\github\\ml-in-business\\.venv\\lib\\site-packages (from hyperopt) (4.51.0)\n",
      "Requirement already satisfied, skipping upgrade: networkx>=2.2 in c:\\users\\ifl\\documents\\github\\ml-in-business\\.venv\\lib\\site-packages (from hyperopt) (2.5)\n",
      "Requirement already satisfied, skipping upgrade: six in c:\\users\\ifl\\documents\\github\\ml-in-business\\.venv\\lib\\site-packages (from hyperopt) (1.15.0)\n",
      "Requirement already satisfied, skipping upgrade: cloudpickle in c:\\users\\ifl\\documents\\github\\ml-in-business\\.venv\\lib\\site-packages (from hyperopt) (1.6.0)\n",
      "Requirement already satisfied, skipping upgrade: future in c:\\users\\ifl\\documents\\github\\ml-in-business\\.venv\\lib\\site-packages (from hyperopt) (0.18.2)\n",
      "Requirement already satisfied, skipping upgrade: numpy in c:\\users\\ifl\\documents\\github\\ml-in-business\\.venv\\lib\\site-packages (from hyperopt) (1.19.2)\n",
      "Requirement already satisfied, skipping upgrade: decorator>=4.3.0 in c:\\users\\ifl\\documents\\github\\ml-in-business\\.venv\\lib\\site-packages (from networkx>=2.2->hyperopt) (4.4.2)\n"
     ]
    }
   ],
   "source": [
    "!pip install hyperopt --upgrade"
   ]
  },
  {
   "cell_type": "code",
   "execution_count": 72,
   "metadata": {},
   "outputs": [
    {
     "name": "stdout",
     "output_type": "stream",
     "text": [
      "Requirement already satisfied: xgboost in c:\\users\\ifl\\documents\\github\\ml-in-business\\.venv\\lib\\site-packages (1.2.1)\n",
      "Requirement already satisfied: scipy in c:\\users\\ifl\\documents\\github\\ml-in-business\\.venv\\lib\\site-packages (from xgboost) (1.5.3)\n",
      "Requirement already satisfied: numpy in c:\\users\\ifl\\documents\\github\\ml-in-business\\.venv\\lib\\site-packages (from xgboost) (1.19.2)\n"
     ]
    }
   ],
   "source": [
    "!pip install xgboost"
   ]
  },
  {
   "cell_type": "code",
   "execution_count": 73,
   "metadata": {
    "id": "DXp3cnrtXKh-"
   },
   "outputs": [],
   "source": [
    "from functools import partial\n",
    "import xgboost as xgb\n",
    "from hyperopt import hp, fmin, tpe, space_eval, Trials, STATUS_OK"
   ]
  },
  {
   "cell_type": "markdown",
   "metadata": {
    "id": "YttnrY4wMqu3"
   },
   "source": [
    "### Построение модели градиентного бустинга для частоты страховых случаев"
   ]
  },
  {
   "cell_type": "code",
   "execution_count": 74,
   "metadata": {
    "id": "r-BqsBNx_zIH"
   },
   "outputs": [],
   "source": [
    "# Конвертация наборов данных в формат, поддерживающийся XGBoost\n",
    "\n",
    "train_c = xgb.DMatrix(x_train_c, y_train_c)\n",
    "valid_c = xgb.DMatrix(x_valid_c, y_valid_c)\n",
    "test_c = xgb.DMatrix(x_test_c, y_test_c)"
   ]
  },
  {
   "cell_type": "code",
   "execution_count": 75,
   "metadata": {
    "id": "eCiO6At9BI98"
   },
   "outputs": [],
   "source": [
    "\n",
    "# Зададим функцию Deviance для распределения Пуассона\n",
    "\n",
    "def xgb_eval_dev_poisson(yhat, y):\n",
    "    t_hat, t = yhat + 1, y.get_label() + 1\n",
    "    return 'dev_poisson', 2 * np.sum(t * np.log(t / t_hat) - (t - t_hat))"
   ]
  },
  {
   "cell_type": "code",
   "execution_count": 76,
   "metadata": {
    "id": "D07_0UmWHnul"
   },
   "outputs": [],
   "source": [
    "# Определим функцию для оптимизации гиперпараметров алгоритмом TPE\n",
    "\n",
    "def objective(params, cv_params, data):\n",
    "    if 'max_depth' in params.keys():\n",
    "        params['max_depth'] = int(params['max_depth'])\n",
    "    cv_result = xgb.cv(params=params, dtrain=data, **cv_params)\n",
    "    name = [i for i in cv_result.columns if all([i.startswith('test-'), i.endswith('-mean')])][-1]\n",
    "    score = cv_result[name][-1:].values[0]\n",
    "    return {'loss': score, 'status': STATUS_OK}"
   ]
  },
  {
   "cell_type": "code",
   "execution_count": 77,
   "metadata": {
    "id": "szxsWFuXxuGQ"
   },
   "outputs": [],
   "source": [
    "# Определим параметры выполнения кроссвалидации\n",
    "\n",
    "cv_params = {'num_boost_round': 300,\n",
    "             'nfold': 5,\n",
    "             'shuffle': True,\n",
    "             'stratified': False,\n",
    "             'feval': xgb_eval_dev_poisson,\n",
    "             'maximize': False,\n",
    "             'early_stopping_rounds': 20\n",
    "              }"
   ]
  },
  {
   "cell_type": "code",
   "execution_count": 78,
   "metadata": {
    "id": "GarP9wfMgmiP"
   },
   "outputs": [],
   "source": [
    "# Определим границы, в которых будем искать гиперпараметры\n",
    "\n",
    "space_freq = {'objective': 'count:poisson',\n",
    "              'max_depth': hp.choice('max_depth', [5, 8, 10, 12, 15]),\n",
    "              'min_child_weight': hp.uniform('min_child_weight', 0, 50),\n",
    "              'subsample': hp.uniform('subsample', 0.5, 1),\n",
    "              'colsample_bytree': hp.uniform('colsample_bytree', 0.5, 1),\n",
    "              'alpha': hp.uniform('alpha', 0, 1),\n",
    "              'lambda': hp.uniform('lambda', 0, 1),\n",
    "           \n",
    "              'eta': hp.uniform('eta', 0.01, 1),\n",
    "              'tree_method': 'hist'\n",
    "              }"
   ]
  },
  {
   "cell_type": "code",
   "execution_count": 79,
   "metadata": {
    "colab": {
     "base_uri": "https://localhost:8080/"
    },
    "id": "vImto5eTCmzi",
    "outputId": "a71b4bfd-0091-42a8-a973-82d3e6bd7f58"
   },
   "outputs": [
    {
     "name": "stdout",
     "output_type": "stream",
     "text": [
      "\r",
      "  0%|                                                                           | 0/50 [00:00<?, ?trial/s, best loss=?]"
     ]
    },
    {
     "name": "stderr",
     "output_type": "stream",
     "text": [
      "<ipython-input-75-033a8cc110cf>:5: RuntimeWarning: invalid value encountered in log\n",
      "  return 'dev_poisson', 2 * np.sum(t * np.log(t / t_hat) - (t - t_hat))\n",
      "\n"
     ]
    },
    {
     "name": "stdout",
     "output_type": "stream",
     "text": [
      "  6%|████                                                               | 3/50 [00:14<03:43,  4.75s/trial, best loss=?]"
     ]
    },
    {
     "name": "stderr",
     "output_type": "stream",
     "text": [
      "<ipython-input-75-033a8cc110cf>:5: RuntimeWarning: divide by zero encountered in true_divide\n",
      "  return 'dev_poisson', 2 * np.sum(t * np.log(t / t_hat) - (t - t_hat))\n",
      "\n"
     ]
    },
    {
     "name": "stdout",
     "output_type": "stream",
     "text": [
      " 56%|██████████████████████████▉                     | 28/50 [01:56<01:31,  4.17s/trial, best loss: 31427.962109199998]\n"
     ]
    },
    {
     "ename": "KeyboardInterrupt",
     "evalue": "",
     "output_type": "error",
     "traceback": [
      "\u001b[1;31m---------------------------------------------------------------------------\u001b[0m",
      "\u001b[1;31mKeyboardInterrupt\u001b[0m                         Traceback (most recent call last)",
      "\u001b[1;32m<ipython-input-79-10ead77d96c3>\u001b[0m in \u001b[0;36m<module>\u001b[1;34m\u001b[0m\n\u001b[0;32m      2\u001b[0m \u001b[1;33m\u001b[0m\u001b[0m\n\u001b[0;32m      3\u001b[0m \u001b[0mtrials\u001b[0m \u001b[1;33m=\u001b[0m \u001b[0mTrials\u001b[0m\u001b[1;33m(\u001b[0m\u001b[1;33m)\u001b[0m\u001b[1;33m\u001b[0m\u001b[1;33m\u001b[0m\u001b[0m\n\u001b[1;32m----> 4\u001b[1;33m best = fmin(fn=partial(objective, cv_params=cv_params, data=train_c),\n\u001b[0m\u001b[0;32m      5\u001b[0m             space=space_freq, trials=trials, algo=tpe.suggest, max_evals=50, timeout=3600)\n",
      "\u001b[1;32mc:\\users\\ifl\\documents\\github\\ml-in-business\\.venv\\lib\\site-packages\\hyperopt\\fmin.py\u001b[0m in \u001b[0;36mfmin\u001b[1;34m(fn, space, algo, max_evals, timeout, loss_threshold, trials, rstate, allow_trials_fmin, pass_expr_memo_ctrl, catch_eval_exceptions, verbose, return_argmin, points_to_evaluate, max_queue_len, show_progressbar, early_stop_fn, trials_save_file)\u001b[0m\n\u001b[0;32m    505\u001b[0m \u001b[1;33m\u001b[0m\u001b[0m\n\u001b[0;32m    506\u001b[0m     \u001b[1;32mif\u001b[0m \u001b[0mallow_trials_fmin\u001b[0m \u001b[1;32mand\u001b[0m \u001b[0mhasattr\u001b[0m\u001b[1;33m(\u001b[0m\u001b[0mtrials\u001b[0m\u001b[1;33m,\u001b[0m \u001b[1;34m\"fmin\"\u001b[0m\u001b[1;33m)\u001b[0m\u001b[1;33m:\u001b[0m\u001b[1;33m\u001b[0m\u001b[1;33m\u001b[0m\u001b[0m\n\u001b[1;32m--> 507\u001b[1;33m         return trials.fmin(\n\u001b[0m\u001b[0;32m    508\u001b[0m             \u001b[0mfn\u001b[0m\u001b[1;33m,\u001b[0m\u001b[1;33m\u001b[0m\u001b[1;33m\u001b[0m\u001b[0m\n\u001b[0;32m    509\u001b[0m             \u001b[0mspace\u001b[0m\u001b[1;33m,\u001b[0m\u001b[1;33m\u001b[0m\u001b[1;33m\u001b[0m\u001b[0m\n",
      "\u001b[1;32mc:\\users\\ifl\\documents\\github\\ml-in-business\\.venv\\lib\\site-packages\\hyperopt\\base.py\u001b[0m in \u001b[0;36mfmin\u001b[1;34m(self, fn, space, algo, max_evals, timeout, loss_threshold, max_queue_len, rstate, verbose, pass_expr_memo_ctrl, catch_eval_exceptions, return_argmin, show_progressbar, early_stop_fn, trials_save_file)\u001b[0m\n\u001b[0;32m    680\u001b[0m         \u001b[1;32mfrom\u001b[0m \u001b[1;33m.\u001b[0m\u001b[0mfmin\u001b[0m \u001b[1;32mimport\u001b[0m \u001b[0mfmin\u001b[0m\u001b[1;33m\u001b[0m\u001b[1;33m\u001b[0m\u001b[0m\n\u001b[0;32m    681\u001b[0m \u001b[1;33m\u001b[0m\u001b[0m\n\u001b[1;32m--> 682\u001b[1;33m         return fmin(\n\u001b[0m\u001b[0;32m    683\u001b[0m             \u001b[0mfn\u001b[0m\u001b[1;33m,\u001b[0m\u001b[1;33m\u001b[0m\u001b[1;33m\u001b[0m\u001b[0m\n\u001b[0;32m    684\u001b[0m             \u001b[0mspace\u001b[0m\u001b[1;33m,\u001b[0m\u001b[1;33m\u001b[0m\u001b[1;33m\u001b[0m\u001b[0m\n",
      "\u001b[1;32mc:\\users\\ifl\\documents\\github\\ml-in-business\\.venv\\lib\\site-packages\\hyperopt\\fmin.py\u001b[0m in \u001b[0;36mfmin\u001b[1;34m(fn, space, algo, max_evals, timeout, loss_threshold, trials, rstate, allow_trials_fmin, pass_expr_memo_ctrl, catch_eval_exceptions, verbose, return_argmin, points_to_evaluate, max_queue_len, show_progressbar, early_stop_fn, trials_save_file)\u001b[0m\n\u001b[0;32m    551\u001b[0m \u001b[1;33m\u001b[0m\u001b[0m\n\u001b[0;32m    552\u001b[0m     \u001b[1;31m# next line is where the fmin is actually executed\u001b[0m\u001b[1;33m\u001b[0m\u001b[1;33m\u001b[0m\u001b[1;33m\u001b[0m\u001b[0m\n\u001b[1;32m--> 553\u001b[1;33m     \u001b[0mrval\u001b[0m\u001b[1;33m.\u001b[0m\u001b[0mexhaust\u001b[0m\u001b[1;33m(\u001b[0m\u001b[1;33m)\u001b[0m\u001b[1;33m\u001b[0m\u001b[1;33m\u001b[0m\u001b[0m\n\u001b[0m\u001b[0;32m    554\u001b[0m \u001b[1;33m\u001b[0m\u001b[0m\n\u001b[0;32m    555\u001b[0m     \u001b[1;32mif\u001b[0m \u001b[0mreturn_argmin\u001b[0m\u001b[1;33m:\u001b[0m\u001b[1;33m\u001b[0m\u001b[1;33m\u001b[0m\u001b[0m\n",
      "\u001b[1;32mc:\\users\\ifl\\documents\\github\\ml-in-business\\.venv\\lib\\site-packages\\hyperopt\\fmin.py\u001b[0m in \u001b[0;36mexhaust\u001b[1;34m(self)\u001b[0m\n\u001b[0;32m    354\u001b[0m     \u001b[1;32mdef\u001b[0m \u001b[0mexhaust\u001b[0m\u001b[1;33m(\u001b[0m\u001b[0mself\u001b[0m\u001b[1;33m)\u001b[0m\u001b[1;33m:\u001b[0m\u001b[1;33m\u001b[0m\u001b[1;33m\u001b[0m\u001b[0m\n\u001b[0;32m    355\u001b[0m         \u001b[0mn_done\u001b[0m \u001b[1;33m=\u001b[0m \u001b[0mlen\u001b[0m\u001b[1;33m(\u001b[0m\u001b[0mself\u001b[0m\u001b[1;33m.\u001b[0m\u001b[0mtrials\u001b[0m\u001b[1;33m)\u001b[0m\u001b[1;33m\u001b[0m\u001b[1;33m\u001b[0m\u001b[0m\n\u001b[1;32m--> 356\u001b[1;33m         \u001b[0mself\u001b[0m\u001b[1;33m.\u001b[0m\u001b[0mrun\u001b[0m\u001b[1;33m(\u001b[0m\u001b[0mself\u001b[0m\u001b[1;33m.\u001b[0m\u001b[0mmax_evals\u001b[0m \u001b[1;33m-\u001b[0m \u001b[0mn_done\u001b[0m\u001b[1;33m,\u001b[0m \u001b[0mblock_until_done\u001b[0m\u001b[1;33m=\u001b[0m\u001b[0mself\u001b[0m\u001b[1;33m.\u001b[0m\u001b[0masynchronous\u001b[0m\u001b[1;33m)\u001b[0m\u001b[1;33m\u001b[0m\u001b[1;33m\u001b[0m\u001b[0m\n\u001b[0m\u001b[0;32m    357\u001b[0m         \u001b[0mself\u001b[0m\u001b[1;33m.\u001b[0m\u001b[0mtrials\u001b[0m\u001b[1;33m.\u001b[0m\u001b[0mrefresh\u001b[0m\u001b[1;33m(\u001b[0m\u001b[1;33m)\u001b[0m\u001b[1;33m\u001b[0m\u001b[1;33m\u001b[0m\u001b[0m\n\u001b[0;32m    358\u001b[0m         \u001b[1;32mreturn\u001b[0m \u001b[0mself\u001b[0m\u001b[1;33m\u001b[0m\u001b[1;33m\u001b[0m\u001b[0m\n",
      "\u001b[1;32mc:\\users\\ifl\\documents\\github\\ml-in-business\\.venv\\lib\\site-packages\\hyperopt\\fmin.py\u001b[0m in \u001b[0;36mrun\u001b[1;34m(self, N, block_until_done)\u001b[0m\n\u001b[0;32m    290\u001b[0m                 \u001b[1;32melse\u001b[0m\u001b[1;33m:\u001b[0m\u001b[1;33m\u001b[0m\u001b[1;33m\u001b[0m\u001b[0m\n\u001b[0;32m    291\u001b[0m                     \u001b[1;31m# -- loop over trials and do the jobs directly\u001b[0m\u001b[1;33m\u001b[0m\u001b[1;33m\u001b[0m\u001b[1;33m\u001b[0m\u001b[0m\n\u001b[1;32m--> 292\u001b[1;33m                     \u001b[0mself\u001b[0m\u001b[1;33m.\u001b[0m\u001b[0mserial_evaluate\u001b[0m\u001b[1;33m(\u001b[0m\u001b[1;33m)\u001b[0m\u001b[1;33m\u001b[0m\u001b[1;33m\u001b[0m\u001b[0m\n\u001b[0m\u001b[0;32m    293\u001b[0m \u001b[1;33m\u001b[0m\u001b[0m\n\u001b[0;32m    294\u001b[0m                 \u001b[0mself\u001b[0m\u001b[1;33m.\u001b[0m\u001b[0mtrials\u001b[0m\u001b[1;33m.\u001b[0m\u001b[0mrefresh\u001b[0m\u001b[1;33m(\u001b[0m\u001b[1;33m)\u001b[0m\u001b[1;33m\u001b[0m\u001b[1;33m\u001b[0m\u001b[0m\n",
      "\u001b[1;32mc:\\users\\ifl\\documents\\github\\ml-in-business\\.venv\\lib\\site-packages\\hyperopt\\fmin.py\u001b[0m in \u001b[0;36mserial_evaluate\u001b[1;34m(self, N)\u001b[0m\n\u001b[0;32m    168\u001b[0m                 \u001b[0mctrl\u001b[0m \u001b[1;33m=\u001b[0m \u001b[0mbase\u001b[0m\u001b[1;33m.\u001b[0m\u001b[0mCtrl\u001b[0m\u001b[1;33m(\u001b[0m\u001b[0mself\u001b[0m\u001b[1;33m.\u001b[0m\u001b[0mtrials\u001b[0m\u001b[1;33m,\u001b[0m \u001b[0mcurrent_trial\u001b[0m\u001b[1;33m=\u001b[0m\u001b[0mtrial\u001b[0m\u001b[1;33m)\u001b[0m\u001b[1;33m\u001b[0m\u001b[1;33m\u001b[0m\u001b[0m\n\u001b[0;32m    169\u001b[0m                 \u001b[1;32mtry\u001b[0m\u001b[1;33m:\u001b[0m\u001b[1;33m\u001b[0m\u001b[1;33m\u001b[0m\u001b[0m\n\u001b[1;32m--> 170\u001b[1;33m                     \u001b[0mresult\u001b[0m \u001b[1;33m=\u001b[0m \u001b[0mself\u001b[0m\u001b[1;33m.\u001b[0m\u001b[0mdomain\u001b[0m\u001b[1;33m.\u001b[0m\u001b[0mevaluate\u001b[0m\u001b[1;33m(\u001b[0m\u001b[0mspec\u001b[0m\u001b[1;33m,\u001b[0m \u001b[0mctrl\u001b[0m\u001b[1;33m)\u001b[0m\u001b[1;33m\u001b[0m\u001b[1;33m\u001b[0m\u001b[0m\n\u001b[0m\u001b[0;32m    171\u001b[0m                 \u001b[1;32mexcept\u001b[0m \u001b[0mException\u001b[0m \u001b[1;32mas\u001b[0m \u001b[0me\u001b[0m\u001b[1;33m:\u001b[0m\u001b[1;33m\u001b[0m\u001b[1;33m\u001b[0m\u001b[0m\n\u001b[0;32m    172\u001b[0m                     \u001b[0mlogger\u001b[0m\u001b[1;33m.\u001b[0m\u001b[0merror\u001b[0m\u001b[1;33m(\u001b[0m\u001b[1;34m\"job exception: %s\"\u001b[0m \u001b[1;33m%\u001b[0m \u001b[0mstr\u001b[0m\u001b[1;33m(\u001b[0m\u001b[0me\u001b[0m\u001b[1;33m)\u001b[0m\u001b[1;33m)\u001b[0m\u001b[1;33m\u001b[0m\u001b[1;33m\u001b[0m\u001b[0m\n",
      "\u001b[1;32mc:\\users\\ifl\\documents\\github\\ml-in-business\\.venv\\lib\\site-packages\\hyperopt\\base.py\u001b[0m in \u001b[0;36mevaluate\u001b[1;34m(self, config, ctrl, attach_attachments)\u001b[0m\n\u001b[0;32m    905\u001b[0m                 \u001b[0mprint_node_on_error\u001b[0m\u001b[1;33m=\u001b[0m\u001b[0mself\u001b[0m\u001b[1;33m.\u001b[0m\u001b[0mrec_eval_print_node_on_error\u001b[0m\u001b[1;33m,\u001b[0m\u001b[1;33m\u001b[0m\u001b[1;33m\u001b[0m\u001b[0m\n\u001b[0;32m    906\u001b[0m             )\n\u001b[1;32m--> 907\u001b[1;33m             \u001b[0mrval\u001b[0m \u001b[1;33m=\u001b[0m \u001b[0mself\u001b[0m\u001b[1;33m.\u001b[0m\u001b[0mfn\u001b[0m\u001b[1;33m(\u001b[0m\u001b[0mpyll_rval\u001b[0m\u001b[1;33m)\u001b[0m\u001b[1;33m\u001b[0m\u001b[1;33m\u001b[0m\u001b[0m\n\u001b[0m\u001b[0;32m    908\u001b[0m \u001b[1;33m\u001b[0m\u001b[0m\n\u001b[0;32m    909\u001b[0m         \u001b[1;32mif\u001b[0m \u001b[0misinstance\u001b[0m\u001b[1;33m(\u001b[0m\u001b[0mrval\u001b[0m\u001b[1;33m,\u001b[0m \u001b[1;33m(\u001b[0m\u001b[0mfloat\u001b[0m\u001b[1;33m,\u001b[0m \u001b[0mint\u001b[0m\u001b[1;33m,\u001b[0m \u001b[0mnp\u001b[0m\u001b[1;33m.\u001b[0m\u001b[0mnumber\u001b[0m\u001b[1;33m)\u001b[0m\u001b[1;33m)\u001b[0m\u001b[1;33m:\u001b[0m\u001b[1;33m\u001b[0m\u001b[1;33m\u001b[0m\u001b[0m\n",
      "\u001b[1;32m<ipython-input-76-4283ee375d9f>\u001b[0m in \u001b[0;36mobjective\u001b[1;34m(params, cv_params, data)\u001b[0m\n\u001b[0;32m      4\u001b[0m     \u001b[1;32mif\u001b[0m \u001b[1;34m'max_depth'\u001b[0m \u001b[1;32min\u001b[0m \u001b[0mparams\u001b[0m\u001b[1;33m.\u001b[0m\u001b[0mkeys\u001b[0m\u001b[1;33m(\u001b[0m\u001b[1;33m)\u001b[0m\u001b[1;33m:\u001b[0m\u001b[1;33m\u001b[0m\u001b[1;33m\u001b[0m\u001b[0m\n\u001b[0;32m      5\u001b[0m         \u001b[0mparams\u001b[0m\u001b[1;33m[\u001b[0m\u001b[1;34m'max_depth'\u001b[0m\u001b[1;33m]\u001b[0m \u001b[1;33m=\u001b[0m \u001b[0mint\u001b[0m\u001b[1;33m(\u001b[0m\u001b[0mparams\u001b[0m\u001b[1;33m[\u001b[0m\u001b[1;34m'max_depth'\u001b[0m\u001b[1;33m]\u001b[0m\u001b[1;33m)\u001b[0m\u001b[1;33m\u001b[0m\u001b[1;33m\u001b[0m\u001b[0m\n\u001b[1;32m----> 6\u001b[1;33m     \u001b[0mcv_result\u001b[0m \u001b[1;33m=\u001b[0m \u001b[0mxgb\u001b[0m\u001b[1;33m.\u001b[0m\u001b[0mcv\u001b[0m\u001b[1;33m(\u001b[0m\u001b[0mparams\u001b[0m\u001b[1;33m=\u001b[0m\u001b[0mparams\u001b[0m\u001b[1;33m,\u001b[0m \u001b[0mdtrain\u001b[0m\u001b[1;33m=\u001b[0m\u001b[0mdata\u001b[0m\u001b[1;33m,\u001b[0m \u001b[1;33m**\u001b[0m\u001b[0mcv_params\u001b[0m\u001b[1;33m)\u001b[0m\u001b[1;33m\u001b[0m\u001b[1;33m\u001b[0m\u001b[0m\n\u001b[0m\u001b[0;32m      7\u001b[0m     \u001b[0mname\u001b[0m \u001b[1;33m=\u001b[0m \u001b[1;33m[\u001b[0m\u001b[0mi\u001b[0m \u001b[1;32mfor\u001b[0m \u001b[0mi\u001b[0m \u001b[1;32min\u001b[0m \u001b[0mcv_result\u001b[0m\u001b[1;33m.\u001b[0m\u001b[0mcolumns\u001b[0m \u001b[1;32mif\u001b[0m \u001b[0mall\u001b[0m\u001b[1;33m(\u001b[0m\u001b[1;33m[\u001b[0m\u001b[0mi\u001b[0m\u001b[1;33m.\u001b[0m\u001b[0mstartswith\u001b[0m\u001b[1;33m(\u001b[0m\u001b[1;34m'test-'\u001b[0m\u001b[1;33m)\u001b[0m\u001b[1;33m,\u001b[0m \u001b[0mi\u001b[0m\u001b[1;33m.\u001b[0m\u001b[0mendswith\u001b[0m\u001b[1;33m(\u001b[0m\u001b[1;34m'-mean'\u001b[0m\u001b[1;33m)\u001b[0m\u001b[1;33m]\u001b[0m\u001b[1;33m)\u001b[0m\u001b[1;33m]\u001b[0m\u001b[1;33m[\u001b[0m\u001b[1;33m-\u001b[0m\u001b[1;36m1\u001b[0m\u001b[1;33m]\u001b[0m\u001b[1;33m\u001b[0m\u001b[1;33m\u001b[0m\u001b[0m\n\u001b[0;32m      8\u001b[0m     \u001b[0mscore\u001b[0m \u001b[1;33m=\u001b[0m \u001b[0mcv_result\u001b[0m\u001b[1;33m[\u001b[0m\u001b[0mname\u001b[0m\u001b[1;33m]\u001b[0m\u001b[1;33m[\u001b[0m\u001b[1;33m-\u001b[0m\u001b[1;36m1\u001b[0m\u001b[1;33m:\u001b[0m\u001b[1;33m]\u001b[0m\u001b[1;33m.\u001b[0m\u001b[0mvalues\u001b[0m\u001b[1;33m[\u001b[0m\u001b[1;36m0\u001b[0m\u001b[1;33m]\u001b[0m\u001b[1;33m\u001b[0m\u001b[1;33m\u001b[0m\u001b[0m\n",
      "\u001b[1;32mc:\\users\\ifl\\documents\\github\\ml-in-business\\.venv\\lib\\site-packages\\xgboost\\training.py\u001b[0m in \u001b[0;36mcv\u001b[1;34m(params, dtrain, num_boost_round, nfold, stratified, folds, metrics, obj, feval, maximize, early_stopping_rounds, fpreproc, as_pandas, verbose_eval, show_stdv, seed, callbacks, shuffle)\u001b[0m\n\u001b[0;32m    497\u001b[0m         \u001b[1;32mfor\u001b[0m \u001b[0mfold\u001b[0m \u001b[1;32min\u001b[0m \u001b[0mcvfolds\u001b[0m\u001b[1;33m:\u001b[0m\u001b[1;33m\u001b[0m\u001b[1;33m\u001b[0m\u001b[0m\n\u001b[0;32m    498\u001b[0m             \u001b[0mfold\u001b[0m\u001b[1;33m.\u001b[0m\u001b[0mupdate\u001b[0m\u001b[1;33m(\u001b[0m\u001b[0mi\u001b[0m\u001b[1;33m,\u001b[0m \u001b[0mobj\u001b[0m\u001b[1;33m)\u001b[0m\u001b[1;33m\u001b[0m\u001b[1;33m\u001b[0m\u001b[0m\n\u001b[1;32m--> 499\u001b[1;33m         \u001b[0mres\u001b[0m \u001b[1;33m=\u001b[0m \u001b[0maggcv\u001b[0m\u001b[1;33m(\u001b[0m\u001b[1;33m[\u001b[0m\u001b[0mf\u001b[0m\u001b[1;33m.\u001b[0m\u001b[0meval\u001b[0m\u001b[1;33m(\u001b[0m\u001b[0mi\u001b[0m\u001b[1;33m,\u001b[0m \u001b[0mfeval\u001b[0m\u001b[1;33m)\u001b[0m \u001b[1;32mfor\u001b[0m \u001b[0mf\u001b[0m \u001b[1;32min\u001b[0m \u001b[0mcvfolds\u001b[0m\u001b[1;33m]\u001b[0m\u001b[1;33m)\u001b[0m\u001b[1;33m\u001b[0m\u001b[1;33m\u001b[0m\u001b[0m\n\u001b[0m\u001b[0;32m    500\u001b[0m \u001b[1;33m\u001b[0m\u001b[0m\n\u001b[0;32m    501\u001b[0m         \u001b[1;32mfor\u001b[0m \u001b[0mkey\u001b[0m\u001b[1;33m,\u001b[0m \u001b[0mmean\u001b[0m\u001b[1;33m,\u001b[0m \u001b[0mstd\u001b[0m \u001b[1;32min\u001b[0m \u001b[0mres\u001b[0m\u001b[1;33m:\u001b[0m\u001b[1;33m\u001b[0m\u001b[1;33m\u001b[0m\u001b[0m\n",
      "\u001b[1;32mc:\\users\\ifl\\documents\\github\\ml-in-business\\.venv\\lib\\site-packages\\xgboost\\training.py\u001b[0m in \u001b[0;36m<listcomp>\u001b[1;34m(.0)\u001b[0m\n\u001b[0;32m    497\u001b[0m         \u001b[1;32mfor\u001b[0m \u001b[0mfold\u001b[0m \u001b[1;32min\u001b[0m \u001b[0mcvfolds\u001b[0m\u001b[1;33m:\u001b[0m\u001b[1;33m\u001b[0m\u001b[1;33m\u001b[0m\u001b[0m\n\u001b[0;32m    498\u001b[0m             \u001b[0mfold\u001b[0m\u001b[1;33m.\u001b[0m\u001b[0mupdate\u001b[0m\u001b[1;33m(\u001b[0m\u001b[0mi\u001b[0m\u001b[1;33m,\u001b[0m \u001b[0mobj\u001b[0m\u001b[1;33m)\u001b[0m\u001b[1;33m\u001b[0m\u001b[1;33m\u001b[0m\u001b[0m\n\u001b[1;32m--> 499\u001b[1;33m         \u001b[0mres\u001b[0m \u001b[1;33m=\u001b[0m \u001b[0maggcv\u001b[0m\u001b[1;33m(\u001b[0m\u001b[1;33m[\u001b[0m\u001b[0mf\u001b[0m\u001b[1;33m.\u001b[0m\u001b[0meval\u001b[0m\u001b[1;33m(\u001b[0m\u001b[0mi\u001b[0m\u001b[1;33m,\u001b[0m \u001b[0mfeval\u001b[0m\u001b[1;33m)\u001b[0m \u001b[1;32mfor\u001b[0m \u001b[0mf\u001b[0m \u001b[1;32min\u001b[0m \u001b[0mcvfolds\u001b[0m\u001b[1;33m]\u001b[0m\u001b[1;33m)\u001b[0m\u001b[1;33m\u001b[0m\u001b[1;33m\u001b[0m\u001b[0m\n\u001b[0m\u001b[0;32m    500\u001b[0m \u001b[1;33m\u001b[0m\u001b[0m\n\u001b[0;32m    501\u001b[0m         \u001b[1;32mfor\u001b[0m \u001b[0mkey\u001b[0m\u001b[1;33m,\u001b[0m \u001b[0mmean\u001b[0m\u001b[1;33m,\u001b[0m \u001b[0mstd\u001b[0m \u001b[1;32min\u001b[0m \u001b[0mres\u001b[0m\u001b[1;33m:\u001b[0m\u001b[1;33m\u001b[0m\u001b[1;33m\u001b[0m\u001b[0m\n",
      "\u001b[1;32mc:\\users\\ifl\\documents\\github\\ml-in-business\\.venv\\lib\\site-packages\\xgboost\\training.py\u001b[0m in \u001b[0;36meval\u001b[1;34m(self, iteration, feval)\u001b[0m\n\u001b[0;32m    228\u001b[0m     \u001b[1;32mdef\u001b[0m \u001b[0meval\u001b[0m\u001b[1;33m(\u001b[0m\u001b[0mself\u001b[0m\u001b[1;33m,\u001b[0m \u001b[0miteration\u001b[0m\u001b[1;33m,\u001b[0m \u001b[0mfeval\u001b[0m\u001b[1;33m)\u001b[0m\u001b[1;33m:\u001b[0m\u001b[1;33m\u001b[0m\u001b[1;33m\u001b[0m\u001b[0m\n\u001b[0;32m    229\u001b[0m         \u001b[1;34m\"\"\"\"Evaluate the CVPack for one iteration.\"\"\"\u001b[0m\u001b[1;33m\u001b[0m\u001b[1;33m\u001b[0m\u001b[0m\n\u001b[1;32m--> 230\u001b[1;33m         \u001b[1;32mreturn\u001b[0m \u001b[0mself\u001b[0m\u001b[1;33m.\u001b[0m\u001b[0mbst\u001b[0m\u001b[1;33m.\u001b[0m\u001b[0meval_set\u001b[0m\u001b[1;33m(\u001b[0m\u001b[0mself\u001b[0m\u001b[1;33m.\u001b[0m\u001b[0mwatchlist\u001b[0m\u001b[1;33m,\u001b[0m \u001b[0miteration\u001b[0m\u001b[1;33m,\u001b[0m \u001b[0mfeval\u001b[0m\u001b[1;33m)\u001b[0m\u001b[1;33m\u001b[0m\u001b[1;33m\u001b[0m\u001b[0m\n\u001b[0m\u001b[0;32m    231\u001b[0m \u001b[1;33m\u001b[0m\u001b[0m\n\u001b[0;32m    232\u001b[0m \u001b[1;33m\u001b[0m\u001b[0m\n",
      "\u001b[1;32mc:\\users\\ifl\\documents\\github\\ml-in-business\\.venv\\lib\\site-packages\\xgboost\\core.py\u001b[0m in \u001b[0;36meval_set\u001b[1;34m(self, evals, iteration, feval)\u001b[0m\n\u001b[0;32m   1221\u001b[0m         \u001b[0mevnames\u001b[0m \u001b[1;33m=\u001b[0m \u001b[0mc_array\u001b[0m\u001b[1;33m(\u001b[0m\u001b[0mctypes\u001b[0m\u001b[1;33m.\u001b[0m\u001b[0mc_char_p\u001b[0m\u001b[1;33m,\u001b[0m \u001b[1;33m[\u001b[0m\u001b[0mc_str\u001b[0m\u001b[1;33m(\u001b[0m\u001b[0md\u001b[0m\u001b[1;33m[\u001b[0m\u001b[1;36m1\u001b[0m\u001b[1;33m]\u001b[0m\u001b[1;33m)\u001b[0m \u001b[1;32mfor\u001b[0m \u001b[0md\u001b[0m \u001b[1;32min\u001b[0m \u001b[0mevals\u001b[0m\u001b[1;33m]\u001b[0m\u001b[1;33m)\u001b[0m\u001b[1;33m\u001b[0m\u001b[1;33m\u001b[0m\u001b[0m\n\u001b[0;32m   1222\u001b[0m         \u001b[0mmsg\u001b[0m \u001b[1;33m=\u001b[0m \u001b[0mctypes\u001b[0m\u001b[1;33m.\u001b[0m\u001b[0mc_char_p\u001b[0m\u001b[1;33m(\u001b[0m\u001b[1;33m)\u001b[0m\u001b[1;33m\u001b[0m\u001b[1;33m\u001b[0m\u001b[0m\n\u001b[1;32m-> 1223\u001b[1;33m         _check_call(_LIB.XGBoosterEvalOneIter(self.handle,\n\u001b[0m\u001b[0;32m   1224\u001b[0m                                               \u001b[0mctypes\u001b[0m\u001b[1;33m.\u001b[0m\u001b[0mc_int\u001b[0m\u001b[1;33m(\u001b[0m\u001b[0miteration\u001b[0m\u001b[1;33m)\u001b[0m\u001b[1;33m,\u001b[0m\u001b[1;33m\u001b[0m\u001b[1;33m\u001b[0m\u001b[0m\n\u001b[0;32m   1225\u001b[0m                                               \u001b[0mdmats\u001b[0m\u001b[1;33m,\u001b[0m \u001b[0mevnames\u001b[0m\u001b[1;33m,\u001b[0m\u001b[1;33m\u001b[0m\u001b[1;33m\u001b[0m\u001b[0m\n",
      "\u001b[1;31mKeyboardInterrupt\u001b[0m: "
     ]
    }
   ],
   "source": [
    "# Оптимизация (количество итераций снижено для ускорения работы)\n",
    "\n",
    "trials = Trials()\n",
    "best = fmin(fn=partial(objective, cv_params=cv_params, data=train_c),\n",
    "            space=space_freq, trials=trials, algo=tpe.suggest, max_evals=50, timeout=3600)"
   ]
  },
  {
   "cell_type": "code",
   "execution_count": null,
   "metadata": {
    "colab": {
     "base_uri": "https://localhost:8080/"
    },
    "id": "sgLZgCPiaJQ8",
    "outputId": "002d390d-5cb5-4a20-cd1f-e3f6492ab08e"
   },
   "outputs": [],
   "source": [
    "# Оптимальные гиперпараметры \n",
    "\n",
    "best_params = space_eval(space_freq, best)\n",
    "best_params"
   ]
  },
  {
   "cell_type": "code",
   "execution_count": null,
   "metadata": {
    "id": "LZMBaE806YSs"
   },
   "outputs": [],
   "source": [
    "train_params = {'num_boost_round': 300,\n",
    "                'feval': xgb_eval_dev_poisson,\n",
    "                'maximize': False,\n",
    "                'verbose_eval': False}"
   ]
  },
  {
   "cell_type": "code",
   "execution_count": null,
   "metadata": {
    "id": "8ADT-jWz6MZT"
   },
   "outputs": [],
   "source": [
    "# Построение модели с ранней остановкой (early stopping)\n",
    "\n",
    "progress = dict()\n",
    "xgb_freq = xgb.train(params=best_params, dtrain=train_c, early_stopping_rounds=10,\n",
    "                     evals=[(train_c, \"train\"), (valid_c, \"valid\")],\n",
    "                     evals_result=progress, **train_params)"
   ]
  },
  {
   "cell_type": "code",
   "execution_count": null,
   "metadata": {
    "id": "xoLLOkg7gWZ9"
   },
   "outputs": [],
   "source": [
    "# Построение модели без ранней остановки\n",
    "\n",
    "progress_wo_es = dict()\n",
    "xgb_freq_wo_es = xgb.train(params=best_params, dtrain=train_c, evals=[(train_c, \"train\"), (valid_c, \"valid\"), (test_c, \"test\")],\n",
    "                           evals_result=progress_wo_es, **train_params)"
   ]
  },
  {
   "cell_type": "code",
   "execution_count": null,
   "metadata": {
    "colab": {
     "base_uri": "https://localhost:8080/",
     "height": 441
    },
    "id": "V-hkwgPOgZDa",
    "outputId": "9a0300f4-fafb-49f9-f589-e8578b59b7e3"
   },
   "outputs": [],
   "source": [
    "import matplotlib.pyplot as plt\n",
    "plt.subplots(2,2, figsize=(10,6))\n",
    "plt.subplot(2,2,1)\n",
    "plt.plot(progress_wo_es['valid']['poisson-nloglik'], label='valid')\n",
    "plt.plot(progress['valid']['poisson-nloglik'], label='valid early stopping', linestyle='dashed', color='black')\n",
    "plt.plot(progress_wo_es['test']['poisson-nloglik'], label='test')\n",
    "plt.xlabel('Epochs'); plt.ylabel('Negative Log-Likelihood'); plt.legend(); plt.tight_layout()\n",
    "plt.subplot(2,2,2)\n",
    "plt.plot(progress_wo_es['valid']['dev_poisson'], label='valid')\n",
    "plt.plot(progress['valid']['dev_poisson'], label='valid early stopping', linestyle='dashed', color='black')\n",
    "plt.plot(progress_wo_es['test']['dev_poisson'], label='test')\n",
    "plt.xlabel('Epochs'); plt.ylabel('Poisson Deviance'); plt.legend(); plt.tight_layout()\n",
    "plt.subplot(2,2,3)\n",
    "plt.plot(progress_wo_es['valid']['poisson-nloglik'], label='valid')\n",
    "plt.plot(progress['valid']['poisson-nloglik'], label='valid early stopping', linestyle='dashed', color='black')\n",
    "plt.plot(progress_wo_es['test']['poisson-nloglik'], label='test')\n",
    "plt.plot(progress_wo_es['train']['poisson-nloglik'], label='train')\n",
    "plt.xlabel('Epochs'); plt.ylabel('Negative Log-Likelihood'); plt.legend(); plt.tight_layout()\n",
    "plt.subplot(2,2,4)\n",
    "plt.plot(progress_wo_es['valid']['dev_poisson'], label='valid')\n",
    "plt.plot(progress['valid']['dev_poisson'], label='valid early stopping', linestyle='dashed', color='black')\n",
    "plt.plot(progress_wo_es['test']['dev_poisson'], label='test')\n",
    "plt.plot(progress_wo_es['train']['dev_poisson'], label='train')\n",
    "plt.xlabel('Epochs'); plt.ylabel('Poisson Deviance'); plt.legend(); plt.tight_layout(); plt.show()"
   ]
  },
  {
   "cell_type": "code",
   "execution_count": null,
   "metadata": {
    "colab": {
     "base_uri": "https://localhost:8080/",
     "height": 295
    },
    "id": "F6VV0ifjmvqV",
    "outputId": "78e86051-426d-4c13-f972-082f1f789448"
   },
   "outputs": [],
   "source": [
    "# Отбор признаков (Feature Importance)\n",
    "\n",
    "importance_type = ['total_gain', 'gain', 'weight', 'total_cover', 'cover']\n",
    "xgb.plot_importance(xgb_freq, importance_type=importance_type[1]); plt.show()"
   ]
  },
  {
   "cell_type": "markdown",
   "metadata": {
    "id": "8nmnj56EM9gK"
   },
   "source": [
    "### Построение модели градиентного бустинга для среднего убытка"
   ]
  },
  {
   "cell_type": "code",
   "execution_count": null,
   "metadata": {
    "id": "9u4TIE54NAeo"
   },
   "outputs": [],
   "source": [
    "# Конвертация наборов данных в формат, поддерживающийся XGBoost\n",
    "\n",
    "train_ac = xgb.DMatrix(x_train_ac, y_train_ac)\n",
    "valid_ac = xgb.DMatrix(x_valid_ac, y_valid_ac)\n",
    "test_ac = xgb.DMatrix(x_test_ac, y_test_ac)"
   ]
  },
  {
   "cell_type": "code",
   "execution_count": null,
   "metadata": {
    "id": "hd-ROyqiotrO"
   },
   "outputs": [],
   "source": [
    "# Зададим функцию Deviance для гамма-распределения\n",
    "\n",
    "def xgb_eval_dev_gamma(yhat, dtrain):\n",
    "    y = dtrain.get_label()\n",
    "    return 'dev_gamma', 2 * np.sum(-np.log(y/yhat) + (y-yhat)/yhat)"
   ]
  },
  {
   "cell_type": "code",
   "execution_count": null,
   "metadata": {
    "id": "O4ZJ3o25EKnP"
   },
   "outputs": [],
   "source": [
    "# Определим границы, в которых будем искать гиперпараметры \n",
    "\n",
    "space_avgclm = {'objective': 'reg:gamma',\n",
    "                'max_depth': hp.choice('max_depth', [5, 8, 10, 12, 15]),\n",
    "                'min_child_weight': hp.uniform('min_child_weight', 0, 50),\n",
    "                'subsample': hp.uniform('subsample', 0.5, 1),\n",
    "                'colsample_bytree': hp.uniform('colsample_bytree', 0.5, 1),\n",
    "                'alpha': hp.uniform('alpha', 0, 1),\n",
    "                'lambda': hp.uniform('lambda', 0, 1),\n",
    "                'eta': hp.uniform('eta', 0.01, 1),\n",
    "                'tree_method': 'hist'\n",
    "                }        "
   ]
  },
  {
   "cell_type": "code",
   "execution_count": null,
   "metadata": {
    "id": "2sBVsvN01VdC"
   },
   "outputs": [],
   "source": [
    "# Определим параметры выполнения кроссвалидации\n",
    "\n",
    "cv_params = {'num_boost_round': 300,\n",
    "             'nfold': 5,\n",
    "             'shuffle': True,\n",
    "             'stratified': False,\n",
    "             'feval': xgb_eval_dev_gamma,\n",
    "             'maximize': False,\n",
    "             'early_stopping_rounds': 20\n",
    "              }"
   ]
  },
  {
   "cell_type": "code",
   "execution_count": null,
   "metadata": {
    "colab": {
     "base_uri": "https://localhost:8080/"
    },
    "id": "tAC4dIdJEKXl",
    "outputId": "c0153ed8-9701-47c6-cdca-612451b45b67"
   },
   "outputs": [],
   "source": [
    "# Оптимизация (количество итераций снижено для ускорения работы)\n",
    "\n",
    "trials = Trials()\n",
    "best = fmin(fn=partial(objective, cv_params=cv_params, data=train_ac),\n",
    "            space=space_avgclm, trials=trials, algo=tpe.suggest, max_evals=50, timeout=3600)"
   ]
  },
  {
   "cell_type": "code",
   "execution_count": null,
   "metadata": {
    "colab": {
     "base_uri": "https://localhost:8080/"
    },
    "id": "NfRbZGBoE7vP",
    "outputId": "2c14934b-5ba9-4fb9-89a8-9ce56031c5db"
   },
   "outputs": [],
   "source": [
    "# Оптимальные гиперпараметры \n",
    "\n",
    "best_params = space_eval(space_avgclm, best)\n",
    "best_params"
   ]
  },
  {
   "cell_type": "code",
   "execution_count": null,
   "metadata": {
    "id": "I9_0hUQ89A0B"
   },
   "outputs": [],
   "source": [
    "train_params = {'num_boost_round': 300,\n",
    "                'feval': xgb_eval_dev_gamma,\n",
    "                'maximize': False,\n",
    "                'verbose_eval': False}"
   ]
  },
  {
   "cell_type": "code",
   "execution_count": null,
   "metadata": {
    "id": "uHZ93uk_E7nZ"
   },
   "outputs": [],
   "source": [
    "# Построение модели с ранней остановкой (early stopping)\n",
    "\n",
    "progress = dict()\n",
    "xgb_avgclaim = xgb.train(params=best_params, dtrain=train_ac, early_stopping_rounds=10, evals=[(train_ac, \"train\"), (valid_ac, \"valid\")],\n",
    "                         evals_result=progress, **train_params)"
   ]
  },
  {
   "cell_type": "code",
   "execution_count": null,
   "metadata": {
    "id": "DFa-sS1ME7eq"
   },
   "outputs": [],
   "source": [
    "# Построение модели без ранней остановки\n",
    "\n",
    "progress_wo_es = dict()\n",
    "xgb_avgclaim_wo_es = xgb.train(params=best_params, dtrain=train_ac, evals=[(train_ac, \"train\"), (valid_ac, \"valid\"), (test_ac, \"test\")],\n",
    "                               evals_result=progress_wo_es, **train_params)"
   ]
  },
  {
   "cell_type": "code",
   "execution_count": null,
   "metadata": {
    "colab": {
     "base_uri": "https://localhost:8080/",
     "height": 441
    },
    "id": "CoBse4X5_no7",
    "outputId": "b04f1b7a-2f99-45a3-b915-0fe0c88ec71a"
   },
   "outputs": [],
   "source": [
    "plt.subplots(2,2, figsize=(10,6))\n",
    "plt.subplot(2,2,1)\n",
    "plt.plot(progress_wo_es['valid']['gamma-nloglik'], label='valid')\n",
    "plt.plot(progress['valid']['gamma-nloglik'], label='valid early stopping', linestyle='dashed', color='black')\n",
    "plt.plot(progress_wo_es['test']['gamma-nloglik'], label='test')\n",
    "plt.xlabel('Epochs'); plt.ylabel('Negative Log-Likelihood'); plt.legend(); plt.tight_layout()\n",
    "plt.subplot(2,2,2)\n",
    "plt.plot(progress_wo_es['valid']['dev_gamma'], label='valid')\n",
    "plt.plot(progress['valid']['dev_gamma'], label='valid early stopping', linestyle='dashed', color='black')\n",
    "plt.plot(progress_wo_es['test']['dev_gamma'], label='test')\n",
    "plt.xlabel('Epochs'); plt.ylabel('Gamma Deviance'); plt.legend(); plt.tight_layout()\n",
    "plt.subplot(2,2,3)\n",
    "plt.plot(progress_wo_es['valid']['gamma-nloglik'], label='valid')\n",
    "plt.plot(progress['valid']['gamma-nloglik'], label='valid early stopping', linestyle='dashed', color='black')\n",
    "plt.plot(progress_wo_es['test']['gamma-nloglik'], label='test')\n",
    "plt.plot(progress_wo_es['train']['gamma-nloglik'], label='train')\n",
    "plt.xlabel('Epochs'); plt.ylabel('Negative Log-Likelihood'); plt.legend(); plt.tight_layout()\n",
    "plt.subplot(2,2,4)\n",
    "plt.plot(progress_wo_es['valid']['dev_gamma'], label='valid')\n",
    "plt.plot(progress['valid']['dev_gamma'], label='valid early stopping', linestyle='dashed', color='black')\n",
    "plt.plot(progress_wo_es['test']['dev_gamma'], label='test')\n",
    "plt.plot(progress_wo_es['train']['dev_gamma'], label='train')\n",
    "plt.xlabel('Epochs'); plt.ylabel('Gamma Deviance'); plt.legend(); plt.tight_layout(); plt.show()"
   ]
  },
  {
   "cell_type": "code",
   "execution_count": null,
   "metadata": {
    "colab": {
     "base_uri": "https://localhost:8080/",
     "height": 295
    },
    "id": "bUerw0tUpulj",
    "outputId": "de5e3e68-dcb3-49bf-b6b5-fd2c8072a564"
   },
   "outputs": [],
   "source": [
    "# Отбор признаков (Feature Importance)\n",
    "\n",
    "importance_type = ['total_gain', 'gain', 'weight', 'total_cover', 'cover']\n",
    "xgb.plot_importance(xgb_avgclaim, importance_type=importance_type[1]); plt.show()"
   ]
  },
  {
   "cell_type": "markdown",
   "metadata": {
    "id": "YmJxhnzV2azR"
   },
   "source": [
    "### Интерпретация моделей градиентного бустинга"
   ]
  },
  {
   "cell_type": "markdown",
   "metadata": {
    "id": "EWCkUJ-PIyxt"
   },
   "source": [
    "* [ELI5 Documentation](https://eli5.readthedocs.io/en/latest/index.html)\n",
    "* [Константин Лопухин, ELI5: как понять, что выучила ваша ML модель](https://www.youtube.com/watch?v=pqqcUzj3R90)"
   ]
  },
  {
   "cell_type": "code",
   "execution_count": null,
   "metadata": {
    "colab": {
     "base_uri": "https://localhost:8080/"
    },
    "id": "Bm1TktYD_dZT",
    "outputId": "a03fc7f0-fd7b-4767-f70b-a8bcebe6c7ed"
   },
   "outputs": [],
   "source": [
    "!pip install eli5"
   ]
  },
  {
   "cell_type": "code",
   "execution_count": null,
   "metadata": {
    "id": "3JfR--34-ND3"
   },
   "outputs": [],
   "source": [
    "import eli5"
   ]
  },
  {
   "cell_type": "code",
   "execution_count": null,
   "metadata": {
    "colab": {
     "base_uri": "https://localhost:8080/",
     "height": 221
    },
    "id": "ByKzDyCY-M49",
    "outputId": "434f2a13-7770-4311-a7b4-632a3e6d85a1"
   },
   "outputs": [],
   "source": [
    "eli5.show_weights( xgb_avgclaim, top = 10)"
   ]
  },
  {
   "cell_type": "code",
   "execution_count": null,
   "metadata": {
    "colab": {
     "base_uri": "https://localhost:8080/",
     "height": 430
    },
    "id": "21V_XJsk-fao",
    "outputId": "f73b62c1-1314-4a6c-c32b-2c4ba837250a"
   },
   "outputs": [],
   "source": [
    "eli5.explain_prediction(xgb_avgclaim, x_test_ac.iloc[0,:])"
   ]
  },
  {
   "cell_type": "markdown",
   "metadata": {
    "id": "FlcrA9YoHW3W"
   },
   "source": [
    "[Interpreting random forests](http://blog.datadive.net/interpreting-random-forests/)"
   ]
  },
  {
   "cell_type": "code",
   "execution_count": null,
   "metadata": {
    "colab": {
     "base_uri": "https://localhost:8080/"
    },
    "id": "lJG_MNjcCd9x",
    "outputId": "372dd7ba-3436-40a5-ffd4-b9bafac1a558"
   },
   "outputs": [],
   "source": [
    "n= 0 \n",
    "print(xgb_avgclaim.predict(xgb.DMatrix(x_test_ac.iloc[[n],:])), y_test_ac.iloc[[0]].values)\n",
    "print(np.log(xgb_avgclaim.predict(xgb.DMatrix(x_test_ac.iloc[[n],:]))))"
   ]
  },
  {
   "cell_type": "markdown",
   "metadata": {
    "id": "UMaiU-go1yWy"
   },
   "source": [
    "* [Lundberg S. M., Erion G. G., Lee S. I. Consistent individualized feature attribution for tree ensembles](https://arxiv.org/abs/1802.03888)\n",
    "* [SHAP GitHub](https://github.com/slundberg/shap)\n",
    "* [Explain Your Model with the SHAP Values](https://towardsdatascience.com/explain-your-model-with-the-shap-values-bc36aac4de3d)\n",
    "* https://christophm.github.io/interpretable-ml-book/shap.html"
   ]
  },
  {
   "cell_type": "code",
   "execution_count": null,
   "metadata": {
    "colab": {
     "base_uri": "https://localhost:8080/"
    },
    "id": "b_2wZWz01xvY",
    "outputId": "81647b67-9cd5-4ac5-ed95-65a391c554e5"
   },
   "outputs": [],
   "source": [
    "!pip install shap"
   ]
  },
  {
   "cell_type": "code",
   "execution_count": null,
   "metadata": {
    "id": "swXvhv8u1xzM"
   },
   "outputs": [],
   "source": [
    "import shap"
   ]
  },
  {
   "cell_type": "code",
   "execution_count": null,
   "metadata": {
    "id": "ozVKk7yv2j2C"
   },
   "outputs": [],
   "source": [
    "explainer = shap.TreeExplainer(xgb_avgclaim)\n",
    "shap_values = explainer.shap_values(x_test_ac)"
   ]
  },
  {
   "cell_type": "code",
   "execution_count": null,
   "metadata": {
    "colab": {
     "base_uri": "https://localhost:8080/"
    },
    "id": "fIZRxRp5IEed",
    "outputId": "01bf51ff-f4e5-484c-bc8a-70e4b3da720d"
   },
   "outputs": [],
   "source": [
    "shap_values[0,:]"
   ]
  },
  {
   "cell_type": "code",
   "execution_count": null,
   "metadata": {
    "colab": {
     "base_uri": "https://localhost:8080/",
     "height": 193
    },
    "id": "7UQXhza726QY",
    "outputId": "ead27d76-c952-4ec3-b2ad-e4f5bfc6afce"
   },
   "outputs": [],
   "source": [
    "shap.initjs()\n",
    "shap.force_plot(explainer.expected_value, shap_values[0,:], x_test_ac.iloc[0,:])"
   ]
  },
  {
   "cell_type": "code",
   "execution_count": null,
   "metadata": {
    "colab": {
     "base_uri": "https://localhost:8080/",
     "height": 411
    },
    "id": "aZATY3xr4zaj",
    "outputId": "42e1702d-5ae8-400a-b8e5-1e2ff104362a"
   },
   "outputs": [],
   "source": [
    "shap.initjs()\n",
    "shap.force_plot(explainer.expected_value, shap_values, x_test_ac)"
   ]
  },
  {
   "cell_type": "code",
   "execution_count": null,
   "metadata": {
    "colab": {
     "base_uri": "https://localhost:8080/",
     "height": 341
    },
    "id": "mR01OTTk3F6i",
    "outputId": "fe358edb-badd-4082-bc92-041e29e3c646"
   },
   "outputs": [],
   "source": [
    "shap.dependence_plot(\"BonusMalus\", shap_values, x_test_ac)"
   ]
  },
  {
   "cell_type": "code",
   "execution_count": null,
   "metadata": {
    "colab": {
     "base_uri": "https://localhost:8080/",
     "height": 585
    },
    "id": "Lw1OSViq2-sx",
    "outputId": "c14d105d-f18f-4abb-fa3f-2d6144db41fe"
   },
   "outputs": [],
   "source": [
    "shap.summary_plot(shap_values, x_test_ac)"
   ]
  },
  {
   "cell_type": "code",
   "execution_count": null,
   "metadata": {
    "colab": {
     "base_uri": "https://localhost:8080/",
     "height": 581
    },
    "id": "4iaNhU5-2jsB",
    "outputId": "47266201-1378-4e7d-d42b-61dec14d9595"
   },
   "outputs": [],
   "source": [
    "shap.summary_plot(shap_values, x_test_ac, plot_type=\"bar\")"
   ]
  },
  {
   "cell_type": "markdown",
   "metadata": {
    "id": "A84l-r2aIxfK"
   },
   "source": [
    "### Использование моделей градиентного бустинга"
   ]
  },
  {
   "cell_type": "code",
   "execution_count": null,
   "metadata": {
    "id": "-bkMpTD6Gcra"
   },
   "outputs": [],
   "source": [
    "predictions = pd.DataFrame()\n",
    "predictions['CountPredicted'] = xgb_freq.predict(xgb.DMatrix(df_freq[col_features]))\n",
    "predictions['AvgClaimPredicted'] = xgb_avgclaim.predict(xgb.DMatrix(df_freq[col_features]))"
   ]
  },
  {
   "cell_type": "code",
   "execution_count": null,
   "metadata": {
    "colab": {
     "base_uri": "https://localhost:8080/"
    },
    "id": "jAsDwOrm7hfq",
    "outputId": "74634337-6df1-431e-945b-8a0f51696f66"
   },
   "outputs": [],
   "source": [
    "predictions['CountPredicted'].min()"
   ]
  },
  {
   "cell_type": "code",
   "execution_count": null,
   "metadata": {
    "colab": {
     "base_uri": "https://localhost:8080/",
     "height": 204
    },
    "id": "meqzcQNpI6JJ",
    "outputId": "ff5dcad6-2ac0-4486-a7e5-640a04bcd0c9"
   },
   "outputs": [],
   "source": [
    "predictions['BurningCost'] = predictions.CountPredicted * predictions.AvgClaimPredicted\n",
    "predictions.head()"
   ]
  },
  {
   "cell_type": "markdown",
   "metadata": {
    "id": "RtuowIaubE9R"
   },
   "source": [
    "Об особенностях сохранения моделей:"
   ]
  },
  {
   "cell_type": "code",
   "execution_count": null,
   "metadata": {
    "id": "5QHzSdGVaJi1"
   },
   "outputs": [],
   "source": [
    "xgb_avgclaim.save_model('avg_claim.model')"
   ]
  },
  {
   "cell_type": "code",
   "execution_count": null,
   "metadata": {
    "colab": {
     "base_uri": "https://localhost:8080/"
    },
    "id": "0jOuIs8URnvH",
    "outputId": "51d131d0-7a1a-4b98-aab7-4ff765c90daa"
   },
   "outputs": [],
   "source": [
    "xgb_avgclaim.feature_names"
   ]
  },
  {
   "cell_type": "code",
   "execution_count": null,
   "metadata": {
    "colab": {
     "base_uri": "https://localhost:8080/"
    },
    "id": "M0q4iI6mRsDv",
    "outputId": "d82635ec-b187-4235-f716-2ab6868c1258"
   },
   "outputs": [],
   "source": [
    "xgb_avgclaim.feature_types"
   ]
  },
  {
   "cell_type": "markdown",
   "metadata": {
    "id": "Xljx8j0-_jXR"
   },
   "source": [
    "### * Домашнее задание: Многоклассовая классификация"
   ]
  },
  {
   "cell_type": "markdown",
   "metadata": {
    "id": "bVx_WNaKwibO"
   },
   "source": [
    "В текущем домашнем задание предлагается взглянуть на задачу моделирования количества страховых случаев как на задачу многоклассовой классификации."
   ]
  },
  {
   "cell_type": "code",
   "execution_count": null,
   "metadata": {
    "id": "n98J3UNxSLUd"
   },
   "outputs": [],
   "source": [
    "import pandas as pd\n",
    "import numpy as np\n",
    "import xgboost as xgb\n",
    "import matplotlib.pyplot as plt\n",
    "from sklearn.model_selection import train_test_split\n",
    "from sklearn.metrics import f1_score, accuracy_score, confusion_matrix\n",
    "from hyperopt import hp, tpe, space_eval, fmin"
   ]
  },
  {
   "cell_type": "code",
   "execution_count": null,
   "metadata": {
    "id": "cdgTw4I-7GdC"
   },
   "outputs": [],
   "source": [
    "df = pd.read_csv(PATH+'freMPL-R.csv', low_memory=False)"
   ]
  },
  {
   "cell_type": "code",
   "execution_count": null,
   "metadata": {
    "colab": {
     "base_uri": "https://localhost:8080/"
    },
    "id": "ydyEnF3VCbXO",
    "outputId": "0f60423f-79c3-4450-90fd-aff0db25afd9"
   },
   "outputs": [],
   "source": [
    "df = df.loc[df.Dataset.isin([5, 6, 7, 8, 9])]\n",
    "df.drop('Dataset', axis=1, inplace=True)\n",
    "df.dropna(axis=1, how='all', inplace=True)\n",
    "df.drop_duplicates(inplace=True)\n",
    "df.reset_index(drop=True, inplace=True)\n",
    "df.info()"
   ]
  },
  {
   "cell_type": "markdown",
   "metadata": {
    "id": "r9dMlMh5QcXt"
   },
   "source": [
    "Предобработайте данные"
   ]
  },
  {
   "cell_type": "code",
   "execution_count": null,
   "metadata": {
    "id": "WdtY7qDp8veM"
   },
   "outputs": [],
   "source": [
    "'<Ваш код здесь>'"
   ]
  },
  {
   "cell_type": "code",
   "execution_count": null,
   "metadata": {
    "id": "S4g1U0-rdIZq"
   },
   "outputs": [],
   "source": [
    "df.info()"
   ]
  },
  {
   "cell_type": "markdown",
   "metadata": {
    "id": "2m1bibe9nMKp"
   },
   "source": [
    "XGBoost для многоклассовой классификации принимает на вход значения меток классов в виде `[0, num_classes]`. Заменим значение 11 на 10."
   ]
  },
  {
   "cell_type": "code",
   "execution_count": null,
   "metadata": {
    "id": "ehf8mHX5tVNG"
   },
   "outputs": [],
   "source": [
    "'<Ваш код здесь>'"
   ]
  },
  {
   "cell_type": "markdown",
   "metadata": {
    "id": "Nqre5rvZxL-N"
   },
   "source": [
    "Посмотрим, сколько полисов соответствуют каждому из значений `ClaimsCount`, используя метод `groupby`. Для полученных значений также посчитаем нормированную частоту."
   ]
  },
  {
   "cell_type": "code",
   "execution_count": null,
   "metadata": {
    "id": "nHgg3kZJu8tX"
   },
   "outputs": [],
   "source": [
    "FreqCount = pd.DataFrame('<Ваш код здесь>', columns=['Count'])\n",
    "FreqCount['Freq'] = '<Ваш код здесь>'"
   ]
  },
  {
   "cell_type": "code",
   "execution_count": null,
   "metadata": {
    "id": "UifKccwQYWiT"
   },
   "outputs": [],
   "source": [
    "FreqCount.Freq.plot(kind='bar')\n",
    "plt.ylabel('Frequency')\n",
    "plt.show()"
   ]
  },
  {
   "cell_type": "code",
   "execution_count": null,
   "metadata": {
    "id": "4Gy10AzjXsT9"
   },
   "outputs": [],
   "source": [
    "FreqCount"
   ]
  },
  {
   "cell_type": "markdown",
   "metadata": {
    "id": "BzM1998TZDPm"
   },
   "source": [
    "Заметим, что в данном случае присутствует проблема несбалансированности классов. Поэтому, для того, чтобы по возможности избежать ее, воспользуемся взвешиванием наблюдений для обучения модели. Для этого в исходном наборе данных создадим столбец `weight`. Присвоим ему некоторые значения, например, можно задать `0.05` для значений `ClaimsCount` 0, а для остальных - 1 (Для этого можем использовать функцию `np.where`). Также можно попробовать какой-либо другой способ задания весов, приведенный пример не гарантирует хороших результатов."
   ]
  },
  {
   "cell_type": "code",
   "execution_count": null,
   "metadata": {
    "id": "dnL5LOi0i2oq"
   },
   "outputs": [],
   "source": [
    "df['weight'] = '<Ваш код здесь>'"
   ]
  },
  {
   "cell_type": "markdown",
   "metadata": {
    "id": "sAlGTL0hBpNv"
   },
   "source": [
    "Разобьем имеющийся набор данных на обучающую, валидационную и тестовую выборки в отношениях 70%/15%/15% соответственно. Зададим зерно для случайного разбиения равным 10."
   ]
  },
  {
   "cell_type": "code",
   "execution_count": null,
   "metadata": {
    "id": "0u45ocam8HCn"
   },
   "outputs": [],
   "source": [
    "x_train, x_test, y_train, y_test = train_test_split('<Ваш код здесь>')\n",
    "x_valid, x_test, y_valid, y_test = train_test_split('<Ваш код здесь>')"
   ]
  },
  {
   "cell_type": "markdown",
   "metadata": {
    "id": "PCySK2zQKsUI"
   },
   "source": [
    "Далее, создадим объекты `DMatrix` для обучающей, валидационной и тестовой выборок. Для обучающей выборки также укажем параметр `weight` равным полученному ранее столбцу весов. Данный столбец также нужно исключить из объекта передаваемого в параметр `data`."
   ]
  },
  {
   "cell_type": "code",
   "execution_count": null,
   "metadata": {
    "id": "_67FrNffDNu-"
   },
   "outputs": [],
   "source": [
    "xgb_train = '<Ваш код здесь>'\n",
    "xgb_valid = '<Ваш код здесь>'\n",
    "xgb_test = '<Ваш код здесь>'"
   ]
  },
  {
   "cell_type": "markdown",
   "metadata": {
    "id": "N__wZRJLaMfs"
   },
   "source": [
    "Для оптимизации гиперпараметров можно воспользоваться различными методами."
   ]
  },
  {
   "cell_type": "code",
   "execution_count": null,
   "metadata": {
    "id": "-CaHsl3sDPdx"
   },
   "outputs": [],
   "source": [
    "'<Ваш код здесь>'"
   ]
  },
  {
   "cell_type": "markdown",
   "metadata": {
    "id": "_3bTqctcR84Z"
   },
   "source": [
    "Далее обучим нашу модель с оптимальными параметрами"
   ]
  },
  {
   "cell_type": "code",
   "execution_count": null,
   "metadata": {
    "id": "I-m6Ihq6hNJF"
   },
   "outputs": [],
   "source": [
    "'<Ваш код здесь>'"
   ]
  },
  {
   "cell_type": "markdown",
   "metadata": {
    "id": "x9151AtiSRtD"
   },
   "source": [
    "Посчитаем метрики accuracy и f1 на наших наборах данных, также можем визуализировать confusion matrix, например, с помощью `plt.imshow()`. Можно использовать предложенный ниже код."
   ]
  },
  {
   "cell_type": "code",
   "execution_count": null,
   "metadata": {
    "id": "A6ByYuqwD27P"
   },
   "outputs": [],
   "source": [
    "dfsets = [{'set': 'train', 'dmat': xgb_train, 'target': y_train},\n",
    "          {'set': 'valid', 'dmat': xgb_valid, 'target': y_valid},\n",
    "          {'set': 'test', 'dmat': xgb_test, 'target': y_test}]\n",
    "for dfset in dfsets:\n",
    "    class_preds = '<Ваш код здесь>' # Посчитаем предсказанные значения\n",
    "    print('F1 Score on ' + str(dfset['set'])+':', f1_score('<Ваш код здесь>', average='micro')) # Посчитаем F1 Score"
   ]
  },
  {
   "cell_type": "code",
   "execution_count": null,
   "metadata": {
    "id": "36_p091I8Www"
   },
   "outputs": [],
   "source": [
    "plt.subplots(1,3, figsize=(15,3))\n",
    "for i in range(len(dfsets)):\n",
    "    confmatrix = confusion_matrix(dfsets[i]['target'], xgb_multiclass.predict(dfsets[i]['dmat']))\n",
    "    plt.subplot(1,3,i+1)\n",
    "    plt.imshow(confmatrix, cmap='Greys')\n",
    "    plt.colorbar()\n",
    "    plt.ylabel('True')\n",
    "    plt.xlabel('Predicted')\n",
    "plt.show()"
   ]
  },
  {
   "cell_type": "markdown",
   "metadata": {
    "id": "X7rFhBo3Tepd"
   },
   "source": [
    "Как вы оцениваете качество построенной модели? Какие проблемы могут здесь присутствовать? Как можно улучшить результат?"
   ]
  }
 ],
 "metadata": {
  "colab": {
   "collapsed_sections": [],
   "name": "GB Lesson 3 new.ipynb",
   "provenance": []
  },
  "kernelspec": {
   "display_name": "Python 3",
   "language": "python",
   "name": "python3"
  },
  "language_info": {
   "codemirror_mode": {
    "name": "ipython",
    "version": 3
   },
   "file_extension": ".py",
   "mimetype": "text/x-python",
   "name": "python",
   "nbconvert_exporter": "python",
   "pygments_lexer": "ipython3",
   "version": "3.8.6"
  }
 },
 "nbformat": 4,
 "nbformat_minor": 1
}
