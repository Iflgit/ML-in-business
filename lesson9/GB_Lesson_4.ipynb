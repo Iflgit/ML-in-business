{
 "cells": [
  {
   "cell_type": "markdown",
   "metadata": {
    "id": "Vgpa6dK_sjd6"
   },
   "source": [
    "## Схема проекта"
   ]
  },
  {
   "cell_type": "markdown",
   "metadata": {
    "id": "H3EsTC0PgFSG"
   },
   "source": [
    "**Принципиальные моменты:**\n",
    "*   У страховой компании нет времени \"на подумать\", решение о приеме на страхование или отказе, а также о тарифе должено быть сделано непосредственно в момент обращения клиента за полисом. Соответственно, сервис должен работать в режиме реального времени и давать ответ в течение максимум нескольких секунд.\n",
    "*   Сервис скоринга строится обычно отдельным блоком, а фронт-система взаимодействует с сервисом через API (Application programming interface).\n",
    "*   Запрос данных из внешних источников может производиться как на уровне фронт-системы, так и на уровне сервиса.\n",
    "*   Один из возможных вариантов - Flask.\n",
    "*   Передача информации производится путем обмена json-файлами.\n",
    "*   Для тестирования можно использовать Postman."
   ]
  },
  {
   "cell_type": "markdown",
   "metadata": {
    "id": "w4V2hYPyAYs9"
   },
   "source": [
    "  ![](https://drive.google.com/uc?export=view&id=1OAOF1M2U14UJWDmeJg2mwo-pgSwyNyzc)"
   ]
  },
  {
   "cell_type": "markdown",
   "metadata": {
    "id": "5z3-vxNngRLY"
   },
   "source": [
    "## JSON"
   ]
  },
  {
   "cell_type": "markdown",
   "metadata": {
    "id": "I3qRhEzYAZE_"
   },
   "source": [
    "JSON (JavaScript Object Notation) - простой текстовый формат обмена данными, он основан на подмножестве языка программирования JavaScript.<br/>\n",
    "Например, строка из нашего датасета выглядела бы следующим образом:<br/>\n",
    "```\n",
    "{\n",
    "\"ID\": 1,\n",
    "\"Exposure\": 0.583,\n",
    "\"RecordBeg\": \"2004-06-01\",\n",
    "\"RecordEnd\": \"\",\n",
    "\"DrivAge\": 55,\n",
    "\"Gender\": \"Female\",\n",
    "...\n",
    "}\n",
    "```"
   ]
  },
  {
   "cell_type": "markdown",
   "metadata": {
    "id": "_KCCtAZqgbI6"
   },
   "source": [
    "## При внедрении"
   ]
  },
  {
   "cell_type": "markdown",
   "metadata": {
    "id": "bwDoeEWdRZUv"
   },
   "source": [
    "**При внедрении необходимо сделать:**\n",
    "*   Определить формат json'а, в котором данные будут приниматься сервисом и отправляться обратно.\n",
    "*   Определить ip-адрес и порт, на который будут поступать данные.\n",
    "*   Создать во Flask необходимые роуты:<br/>\n",
    "    `@app.route('/predict_example', method='POST')`<br/>\n",
    "    `def predict_example():`\n",
    "*   Перенести во Flask все функции преобразования данных,\n",
    "    *   формат данные, приходящих от фронт-системы, может отличаться от формата исторических данных, использовавшихся при построении модели; в результате преобразований данные на вход модели должны поступить ровно в том виде, в каком была обучена модель.\n",
    "*   Загрузить обученные модели.\n",
    "*   Настроить логирование, запись котировок."
   ]
  },
  {
   "cell_type": "markdown",
   "metadata": {
    "id": "1c-2EUcjRZQp"
   },
   "source": [
    "**Особенности:**\n",
    "*   Библиотека H2O использует виртуальную Java-машину:\n",
    "    *   ее нужно инициализировать один раз, а не поднимать заново для каждого расчета;\n",
    "    *   вручную выделить под нее отдельный порт и указать размер используемой памяти;\n",
    "    *   не создавать каждый раз заново H2O-Frame, а записывать в единожды подготовленный.\n",
    "*   Необходимо удостовериться, что на всех этапах сервис отрабатывает корректно; например, можно иметь заготовленный массив котировок с заранее известными ответами.\n",
    "*   Необходимо провести нагрузочное тестирование и удостовериться, что сервис справляется с нагрузкой.\n",
    "*   Для согласованности версий Python, Java при переносе на другие серверы имеет смысл использовать докеры.\n",
    "\n"
   ]
  },
  {
   "cell_type": "markdown",
   "metadata": {
    "id": "koF_iLbj89XC"
   },
   "source": [
    "## Flask"
   ]
  },
  {
   "cell_type": "code",
   "execution_count": 1,
   "metadata": {
    "colab": {
     "base_uri": "https://localhost:8080/"
    },
    "id": "sPRN2DRXG_kX",
    "outputId": "0e51baca-31fe-4f37-9217-b2c3b337eaec"
   },
   "outputs": [],
   "source": [
    "# Подключение к Google drive\n",
    "\n",
    "# from google.colab import drive\n",
    "# drive.mount('/content/drive')"
   ]
  },
  {
   "cell_type": "markdown",
   "metadata": {
    "id": "bDCtyzx2_-OV"
   },
   "source": [
    "Google Colab provides a virtual machine so we cannot access the localhost as we do on our local machine when running a local web server. What we can do is expose it to a public URL using ngrok.\n",
    "https://medium.com/@kshitijvijay271199/flask-on-google-colab-f6525986797b"
   ]
  },
  {
   "cell_type": "code",
   "execution_count": 2,
   "metadata": {
    "colab": {
     "base_uri": "https://localhost:8080/"
    },
    "id": "2laQ3An4_06O",
    "outputId": "d97b2ade-e056-417d-d080-804363deba62"
   },
   "outputs": [
    {
     "name": "stdout",
     "output_type": "stream",
     "text": [
      "Collecting flask-ngrok\n",
      "  Downloading flask_ngrok-0.0.25-py3-none-any.whl (3.1 kB)\n",
      "Collecting Flask>=0.8\n",
      "  Downloading Flask-1.1.2-py2.py3-none-any.whl (94 kB)\n",
      "Requirement already satisfied: requests in c:\\users\\ifl\\documents\\github\\ml-in-business\\.venv\\lib\\site-packages (from flask-ngrok) (2.24.0)\n",
      "Collecting itsdangerous>=0.24\n",
      "  Downloading itsdangerous-1.1.0-py2.py3-none-any.whl (16 kB)\n",
      "Collecting Werkzeug>=0.15\n",
      "  Downloading Werkzeug-1.0.1-py2.py3-none-any.whl (298 kB)\n",
      "Requirement already satisfied: Jinja2>=2.10.1 in c:\\users\\ifl\\documents\\github\\ml-in-business\\.venv\\lib\\site-packages (from Flask>=0.8->flask-ngrok) (2.11.2)\n",
      "Collecting click>=5.1\n",
      "  Downloading click-7.1.2-py2.py3-none-any.whl (82 kB)\n",
      "Requirement already satisfied: urllib3!=1.25.0,!=1.25.1,<1.26,>=1.21.1 in c:\\users\\ifl\\documents\\github\\ml-in-business\\.venv\\lib\\site-packages (from requests->flask-ngrok) (1.25.11)\n",
      "Requirement already satisfied: chardet<4,>=3.0.2 in c:\\users\\ifl\\documents\\github\\ml-in-business\\.venv\\lib\\site-packages (from requests->flask-ngrok) (3.0.4)\n",
      "Requirement already satisfied: certifi>=2017.4.17 in c:\\users\\ifl\\documents\\github\\ml-in-business\\.venv\\lib\\site-packages (from requests->flask-ngrok) (2020.6.20)\n",
      "Requirement already satisfied: idna<3,>=2.5 in c:\\users\\ifl\\documents\\github\\ml-in-business\\.venv\\lib\\site-packages (from requests->flask-ngrok) (2.10)\n",
      "Requirement already satisfied: MarkupSafe>=0.23 in c:\\users\\ifl\\documents\\github\\ml-in-business\\.venv\\lib\\site-packages (from Jinja2>=2.10.1->Flask>=0.8->flask-ngrok) (1.1.1)\n",
      "Installing collected packages: itsdangerous, Werkzeug, click, Flask, flask-ngrok\n",
      "Successfully installed Flask-1.1.2 Werkzeug-1.0.1 click-7.1.2 flask-ngrok-0.0.25 itsdangerous-1.1.0\n"
     ]
    }
   ],
   "source": [
    "!pip install flask-ngrok"
   ]
  },
  {
   "cell_type": "code",
   "execution_count": 3,
   "metadata": {
    "id": "KaWqHrF2865_"
   },
   "outputs": [],
   "source": [
    "from flask_ngrok import run_with_ngrok\n",
    "from flask import Flask, request, jsonify\n",
    "import pandas as pd"
   ]
  },
  {
   "cell_type": "code",
   "execution_count": 4,
   "metadata": {
    "colab": {
     "base_uri": "https://localhost:8080/"
    },
    "id": "YKvAxhnG9f6m",
    "outputId": "8bf1b2a9-5428-4068-8781-6821523573aa"
   },
   "outputs": [
    {
     "name": "stdout",
     "output_type": "stream",
     "text": [
      " * Serving Flask app \"__main__\" (lazy loading)\n",
      " * Environment: production\n",
      "   WARNING: This is a development server. Do not use it in a production deployment.\n",
      "   Use a production WSGI server instead.\n",
      " * Debug mode: off\n"
     ]
    },
    {
     "name": "stderr",
     "output_type": "stream",
     "text": [
      " * Running on http://127.0.0.1:5000/ (Press CTRL+C to quit)\n",
      "127.0.0.1 - - [26/Nov/2020 21:18:25] \"\u001b[33mGET / HTTP/1.1\u001b[0m\" 404 -\n",
      "127.0.0.1 - - [26/Nov/2020 21:18:25] \"\u001b[33mGET /favicon.ico HTTP/1.1\u001b[0m\" 404 -\n"
     ]
    },
    {
     "name": "stdout",
     "output_type": "stream",
     "text": [
      " * Running on http://bcd1a20a6c28.ngrok.io\n",
      " * Traffic stats available on http://127.0.0.1:4040\n"
     ]
    },
    {
     "name": "stderr",
     "output_type": "stream",
     "text": [
      "127.0.0.1 - - [26/Nov/2020 21:18:36] \"\u001b[33mGET / HTTP/1.1\u001b[0m\" 404 -\n",
      "127.0.0.1 - - [26/Nov/2020 21:18:40] \"\u001b[37mGET /a HTTP/1.1\u001b[0m\" 200 -\n"
     ]
    }
   ],
   "source": [
    "# Пробный запуск Flask\n",
    "\n",
    "app = Flask(__name__)\n",
    "run_with_ngrok(app)  # Start ngrok when app is run\n",
    "\n",
    "@app.route(\"/a\")\n",
    "def hello():\n",
    "    return \"Hello World!\"\n",
    "\n",
    "if __name__ == '__main__':\n",
    "    app.run()"
   ]
  },
  {
   "cell_type": "code",
   "execution_count": 5,
   "metadata": {
    "colab": {
     "base_uri": "https://localhost:8080/"
    },
    "id": "OEPe9Xk99f_U",
    "outputId": "312ec469-691a-4cbe-fa40-ef4a9c697645"
   },
   "outputs": [
    {
     "name": "stdout",
     "output_type": "stream",
     "text": [
      "Requirement already satisfied: h2o in c:\\users\\ifl\\documents\\github\\ml-in-business\\.venv\\lib\\site-packages (3.30.1.3)\n",
      "Requirement already satisfied: requests in c:\\users\\ifl\\documents\\github\\ml-in-business\\.venv\\lib\\site-packages (from h2o) (2.24.0)\n",
      "Requirement already satisfied: tabulate in c:\\users\\ifl\\documents\\github\\ml-in-business\\.venv\\lib\\site-packages (from h2o) (0.8.7)\n",
      "Requirement already satisfied: future in c:\\users\\ifl\\documents\\github\\ml-in-business\\.venv\\lib\\site-packages (from h2o) (0.18.2)\n",
      "Requirement already satisfied: colorama>=0.3.8 in c:\\users\\ifl\\documents\\github\\ml-in-business\\.venv\\lib\\site-packages (from h2o) (0.4.4)\n",
      "Requirement already satisfied: chardet<4,>=3.0.2 in c:\\users\\ifl\\documents\\github\\ml-in-business\\.venv\\lib\\site-packages (from requests->h2o) (3.0.4)\n",
      "Requirement already satisfied: urllib3!=1.25.0,!=1.25.1,<1.26,>=1.21.1 in c:\\users\\ifl\\documents\\github\\ml-in-business\\.venv\\lib\\site-packages (from requests->h2o) (1.25.11)\n",
      "Requirement already satisfied: certifi>=2017.4.17 in c:\\users\\ifl\\documents\\github\\ml-in-business\\.venv\\lib\\site-packages (from requests->h2o) (2020.6.20)\n",
      "Requirement already satisfied: idna<3,>=2.5 in c:\\users\\ifl\\documents\\github\\ml-in-business\\.venv\\lib\\site-packages (from requests->h2o) (2.10)\n"
     ]
    }
   ],
   "source": [
    "!pip install h2o"
   ]
  },
  {
   "cell_type": "code",
   "execution_count": 6,
   "metadata": {
    "colab": {
     "base_uri": "https://localhost:8080/",
     "height": 545
    },
    "id": "54UX4rlg9gDG",
    "outputId": "ac5e6d0d-39cb-4f9d-e2cf-ab74cc6b391c"
   },
   "outputs": [
    {
     "name": "stdout",
     "output_type": "stream",
     "text": [
      "Checking whether there is an H2O instance running at http://localhost:54321 ..... not found.\n",
      "Attempting to start a local H2O server...\n",
      "; Java HotSpot(TM) 64-Bit Server VM (build 25.271-b09, mixed mode)\n",
      "  Starting server from C:\\Users\\Ifl\\Documents\\GitHub\\ML-in-business\\.venv\\Lib\\site-packages\\h2o\\backend\\bin\\h2o.jar\n",
      "  Ice root: C:\\Users\\Ifl\\AppData\\Local\\Temp\\tmpvesbjxtq\n",
      "  JVM stdout: C:\\Users\\Ifl\\AppData\\Local\\Temp\\tmpvesbjxtq\\h2o_Ifl_started_from_python.out\n",
      "  JVM stderr: C:\\Users\\Ifl\\AppData\\Local\\Temp\\tmpvesbjxtq\\h2o_Ifl_started_from_python.err\n",
      "  Server is running at http://127.0.0.1:54321\n",
      "Connecting to H2O server at http://127.0.0.1:54321 ... successful.\n"
     ]
    },
    {
     "data": {
      "text/html": [
       "<div style=\"overflow:auto\"><table style=\"width:50%\"><tr><td>H2O_cluster_uptime:</td>\n",
       "<td>02 secs</td></tr>\n",
       "<tr><td>H2O_cluster_timezone:</td>\n",
       "<td>Europe/Minsk</td></tr>\n",
       "<tr><td>H2O_data_parsing_timezone:</td>\n",
       "<td>UTC</td></tr>\n",
       "<tr><td>H2O_cluster_version:</td>\n",
       "<td>3.30.1.3</td></tr>\n",
       "<tr><td>H2O_cluster_version_age:</td>\n",
       "<td>1 month and 29 days </td></tr>\n",
       "<tr><td>H2O_cluster_name:</td>\n",
       "<td>H2O_from_python_Ifl_hat4ow</td></tr>\n",
       "<tr><td>H2O_cluster_total_nodes:</td>\n",
       "<td>1</td></tr>\n",
       "<tr><td>H2O_cluster_free_memory:</td>\n",
       "<td>1.479 Gb</td></tr>\n",
       "<tr><td>H2O_cluster_total_cores:</td>\n",
       "<td>15</td></tr>\n",
       "<tr><td>H2O_cluster_allowed_cores:</td>\n",
       "<td>15</td></tr>\n",
       "<tr><td>H2O_cluster_status:</td>\n",
       "<td>accepting new members, healthy</td></tr>\n",
       "<tr><td>H2O_connection_url:</td>\n",
       "<td>http://127.0.0.1:54321</td></tr>\n",
       "<tr><td>H2O_connection_proxy:</td>\n",
       "<td>{\"http\": null, \"https\": null}</td></tr>\n",
       "<tr><td>H2O_internal_security:</td>\n",
       "<td>False</td></tr>\n",
       "<tr><td>H2O_API_Extensions:</td>\n",
       "<td>Amazon S3, Algos, AutoML, Core V3, TargetEncoder, Core V4</td></tr>\n",
       "<tr><td>Python_version:</td>\n",
       "<td>3.8.6 final</td></tr></table></div>"
      ],
      "text/plain": [
       "--------------------------  ---------------------------------------------------------\n",
       "H2O_cluster_uptime:         02 secs\n",
       "H2O_cluster_timezone:       Europe/Minsk\n",
       "H2O_data_parsing_timezone:  UTC\n",
       "H2O_cluster_version:        3.30.1.3\n",
       "H2O_cluster_version_age:    1 month and 29 days\n",
       "H2O_cluster_name:           H2O_from_python_Ifl_hat4ow\n",
       "H2O_cluster_total_nodes:    1\n",
       "H2O_cluster_free_memory:    1.479 Gb\n",
       "H2O_cluster_total_cores:    15\n",
       "H2O_cluster_allowed_cores:  15\n",
       "H2O_cluster_status:         accepting new members, healthy\n",
       "H2O_connection_url:         http://127.0.0.1:54321\n",
       "H2O_connection_proxy:       {\"http\": null, \"https\": null}\n",
       "H2O_internal_security:      False\n",
       "H2O_API_Extensions:         Amazon S3, Algos, AutoML, Core V3, TargetEncoder, Core V4\n",
       "Python_version:             3.8.6 final\n",
       "--------------------------  ---------------------------------------------------------"
      ]
     },
     "metadata": {},
     "output_type": "display_data"
    }
   ],
   "source": [
    "import h2o\n",
    "h2o.init()"
   ]
  },
  {
   "cell_type": "code",
   "execution_count": 7,
   "metadata": {
    "id": "KixQ-op0GIpV"
   },
   "outputs": [],
   "source": [
    "# Загружаем обученные модели\n",
    "\n",
    "model_glm_poisson = h2o.load_model('GLM_model_python_1605640470658_1')\n",
    "model_glm_gamma = h2o.load_model('GLM_model_python_1605640470658_2')"
   ]
  },
  {
   "cell_type": "code",
   "execution_count": 6,
   "metadata": {
    "id": "24JU2uFVT-Sk"
   },
   "outputs": [],
   "source": [
    "# Загружаем обученные модели\n",
    "\n",
    "# model_glm_poisson = h2o.load_model('/content/drive/My Drive/мои временные ряды/GLM_model_python_1605976575200_1')\n",
    "# model_glm_gamma = h2o.load_model('/content/drive/My Drive/мои временные ряды/GLM_model_python_1605976575200_2')"
   ]
  },
  {
   "cell_type": "code",
   "execution_count": 8,
   "metadata": {
    "colab": {
     "base_uri": "https://localhost:8080/"
    },
    "id": "pmii6qPeGInX",
    "outputId": "827bd72a-afb0-47e4-b788-f828cc407f94"
   },
   "outputs": [
    {
     "name": "stdout",
     "output_type": "stream",
     "text": [
      " * Serving Flask app \"__main__\" (lazy loading)\n",
      " * Environment: production\n",
      "   WARNING: This is a development server. Do not use it in a production deployment.\n",
      "   Use a production WSGI server instead.\n",
      " * Debug mode: off\n"
     ]
    },
    {
     "name": "stderr",
     "output_type": "stream",
     "text": [
      " * Running on http://127.0.0.1:5000/ (Press CTRL+C to quit)\n",
      "INFO:werkzeug: * Running on http://127.0.0.1:5000/ (Press CTRL+C to quit)\n"
     ]
    },
    {
     "name": "stdout",
     "output_type": "stream",
     "text": [
      " * Running on http://bcd1a20a6c28.ngrok.io\n",
      " * Traffic stats available on http://127.0.0.1:4040\n"
     ]
    },
    {
     "name": "stderr",
     "output_type": "stream",
     "text": [
      "127.0.0.1 - - [26/Nov/2020 21:21:27] \"\u001b[33mGET / HTTP/1.1\u001b[0m\" 404 -\n",
      "INFO:werkzeug:127.0.0.1 - - [26/Nov/2020 21:21:27] \"GET / HTTP/1.1\" 404 -\n",
      "127.0.0.1 - - [26/Nov/2020 21:21:28] \"\u001b[33mGET /favicon.ico HTTP/1.1\u001b[0m\" 404 -\n",
      "INFO:werkzeug:127.0.0.1 - - [26/Nov/2020 21:21:28] \"GET /favicon.ico HTTP/1.1\" 404 -\n"
     ]
    },
    {
     "name": "stdout",
     "output_type": "stream",
     "text": [
      "None\n"
     ]
    },
    {
     "name": "stderr",
     "output_type": "stream",
     "text": [
      "127.0.0.1 - - [26/Nov/2020 21:21:58] \"\u001b[37mGET /predict HTTP/1.1\u001b[0m\" 200 -\n",
      "INFO:werkzeug:127.0.0.1 - - [26/Nov/2020 21:21:58] \"GET /predict HTTP/1.1\" 200 -\n"
     ]
    }
   ],
   "source": [
    "# Обработчики и запуск Flask\n",
    "app = Flask(__name__)\n",
    "run_with_ngrok(app)  # Start ngrok when app is run\n",
    "\n",
    "def map_for_dict_Gender(Gender):\n",
    "  dict_Gender = {'Male':0, 'Female':1}\n",
    "  res = dict_Gender.get(Gender)\n",
    "  return res\n",
    "\n",
    "def map_for_dict_MariStat(MariStat):\n",
    "  dict_MariStat = {'Other':0, 'Alone':1}\n",
    "  res = dict_MariStat.get(MariStat)\n",
    "  return res\n",
    "\n",
    "def f_VehUsage_Professional(VehUsage):\n",
    "  if VehUsage == 'Professional':\n",
    "    VehUsage_Professional = 1\n",
    "  else:\n",
    "    VehUsage_Professional = 0\n",
    "  return(VehUsage_Professional)\n",
    "\n",
    "def f_VehUsage_Private_trip_to_office(VehUsage):\n",
    "  if VehUsage == 'Private+trip to office':\n",
    "    VehUsage_Private_trip_to_office = 1\n",
    "  else:\n",
    "    VehUsage_Private_trip_to_office = 0\n",
    "  return(VehUsage_Private_trip_to_office)\n",
    "\n",
    "def f_VehUsage_Private(VehUsage):\n",
    "  if VehUsage == 'Private':\n",
    "    VehUsage_Private = 1\n",
    "  else:\n",
    "    VehUsage_Privatel = 0\n",
    "  return(VehUsage_Private)\n",
    "\n",
    "def f_VehUsage_Professional_run(VehUsage):\n",
    "  if VehUsage == 'Professional run':\n",
    "    VehUsage_Professional_run = 1\n",
    "  else:\n",
    "    VehUsage_Professional_run = 0\n",
    "  return(VehUsage_Professional_run)\n",
    "\n",
    "def return_NewH2o_Frame():\n",
    "  columns = [\n",
    "      'LicAge',\n",
    "      'Gender',\n",
    "      'MariStat',\n",
    "      'DrivAge',\n",
    "      'HasKmLimit',\n",
    "      'BonusMalus',\n",
    "      'OutUseNb',\n",
    "      'RiskArea',\n",
    "      'VehUsg_Private',\n",
    "      'VehUsg_Private+trip to office',\n",
    "      'VehUsg_Professional',\n",
    "      'VehUsg_Professional run',\n",
    "      'CSP1',\n",
    "      'CSP2',\n",
    "      'CSP3',\n",
    "      'CSP6',\n",
    "      'CSP7',\n",
    "      'CSP20',\n",
    "      'CSP21',\n",
    "      'CSP22',\n",
    "      'CSP26',\n",
    "      'CSP37',\n",
    "      'CSP40',\n",
    "      'CSP42',\n",
    "      'CSP46',\n",
    "      'CSP47',\n",
    "      'CSP48',\n",
    "      'CSP49',\n",
    "      'CSP50',\n",
    "      'CSP55',\n",
    "      'CSP56',\n",
    "      'CSP57',\n",
    "      'CSP60',\n",
    "      'CSP65',\n",
    "      'CSP66'\n",
    "      ]\n",
    "  return h2o.H2OFrame([[0,0,0,0,0,0,0,0,0,0,0,0,0,0,0,0,0,0,0,0,0,0,0,0,0,0,0,0,0,0,0,0,0,0,0]], \n",
    "                      column_names = columns)\n",
    "\n",
    "\n",
    "@app.route('/predict', methods=['GET', 'POST'])\n",
    "def predict3():\n",
    "\n",
    "    try:\n",
    "\n",
    "      json_input = request.json\n",
    "      \n",
    "      print(json_input)\n",
    "      ID = json_input[\"ID\"]\n",
    "      LicAge = json_input[\"LicAge\"]\n",
    "      Gender = map_for_dict_Gender(json_input[\"Gender\"])\n",
    "      MariStat = map_for_dict_MariStat(json_input[\"MariStat\"])\n",
    "      DrivAge = json_input[\"DrivAge\"]\n",
    "      HasKmLimit = json_input[\"HasKmLimit\"]\n",
    "      BonusMalus = json_input[\"BonusMalus\"]\n",
    "      OutUseNb = json_input[\"OutUseNb\"]\n",
    "      RiskArea = json_input[\"RiskArea\"]\n",
    "      VehUsg_Private = f_VehUsage_Private(json_input[\"VehUsage\"])\n",
    "      VehUsg_Private_trip_to_office = f_VehUsage_Private_trip_to_office(json_input[\"VehUsage\"])\n",
    "      VehUsg_Professional = f_VehUsage_Professional(json_input[\"VehUsage\"])\n",
    "      VehUsg_Professional_run = f_VehUsage_Professional_run(json_input[\"VehUsage\"])\n",
    "      CSP1 = 0\n",
    "      CSP2 = 0\n",
    "      CSP3 = 0\n",
    "      CSP6 = 0\n",
    "      CSP7 = 0\n",
    "      CSP20 = 0\n",
    "      CSP21 = 0\n",
    "      CSP22 = 0\n",
    "      CSP26 = 0\n",
    "      CSP37 = 0\n",
    "      CSP40 = 0\n",
    "      CSP42 = 0\n",
    "      CSP46 = 0\n",
    "      CSP47 = 0\n",
    "      CSP48 = 0\n",
    "      CSP49 = 0\n",
    "      CSP50 = 0\n",
    "      CSP55 = 0\n",
    "      CSP56 = 0\n",
    "      CSP57 = 0\n",
    "      CSP60 = 0\n",
    "      CSP65 = 0\n",
    "      CSP66 = 0\n",
    "\n",
    "      hf = return_NewH2o_Frame()\n",
    "\n",
    "      hf[0, 'LicAge'] = LicAge\n",
    "      hf[0, 'Gender'] = Gender\n",
    "      hf[0, 'MariStat'] = MariStat\n",
    "      hf[0, 'DrivAge'] = DrivAge\n",
    "      hf[0, 'HasKmLimit'] = HasKmLimit\n",
    "      hf[0, 'BonusMalus'] = BonusMalus\n",
    "      hf[0, 'OutUseNb'] = OutUseNb\n",
    "      hf[0, 'RiskArea'] = RiskArea\n",
    "      hf[0, 'VehUsg_Private'] = VehUsg_Private\n",
    "      hf[0, 'VehUsg_Private+trip to office'] = VehUsg_Private_trip_to_office\n",
    "      hf[0, 'VehUsg_Professional'] = VehUsg_Professional\n",
    "      hf[0, 'VehUsg_Professional run'] = VehUsg_Professional_run\n",
    "      hf[0, 'CSP1'] = CSP1\n",
    "      hf[0, 'CSP2'] = CSP2\n",
    "      hf[0, 'CSP3'] = CSP3\n",
    "      hf[0, 'CSP6'] = CSP6\n",
    "      hf[0, 'CSP7'] = CSP7\n",
    "      hf[0, 'CSP20'] = CSP20\n",
    "      hf[0, 'CSP21'] = CSP21\n",
    "      hf[0, 'CSP22'] = CSP22\n",
    "      hf[0, 'CSP26'] = CSP26\n",
    "      hf[0, 'CSP37'] = CSP37\n",
    "      hf[0, 'CSP40'] = CSP40\n",
    "      hf[0, 'CSP42'] = CSP42\n",
    "      hf[0, 'CSP46'] = CSP46\n",
    "      hf[0, 'CSP47'] = CSP47\n",
    "      hf[0, 'CSP48'] = CSP48\n",
    "      hf[0, 'CSP49'] = CSP49\n",
    "      hf[0, 'CSP50'] = CSP50\n",
    "      hf[0, 'CSP55'] = CSP55\n",
    "      hf[0, 'CSP56'] = CSP56\n",
    "      hf[0, 'CSP57'] = CSP57\n",
    "      hf[0, 'CSP60'] = CSP60\n",
    "      hf[0, 'CSP65'] = CSP65\n",
    "      hf[0, 'CSP66'] = CSP66\n",
    "\n",
    "      prediction_Poisson = model_glm_poisson.predict(hf)\n",
    "      value_Poisson  = prediction_Poisson.as_data_frame()['predict'][0]\n",
    "      prediction_Gamma = model_glm_gamma.predict(hf)\n",
    "      value_Gamma  = prediction_Gamma.as_data_frame()['predict'][0]\n",
    "      value_BurningCost = value_Poisson * value_Gamma\n",
    "\n",
    "      return jsonify({'ID':ID, 'value_Poisson':value_Poisson, 'value_Gamma':value_Gamma, 'value_BurningCost':value_BurningCost}) \n",
    "    \n",
    "    except:\n",
    "      \n",
    "      return \"Error\"\n",
    "\n",
    "\n",
    "\n",
    "if __name__ == '__main__':\n",
    "    app.run()"
   ]
  },
  {
   "cell_type": "code",
   "execution_count": null,
   "metadata": {
    "id": "ka3sL3_zGIhS"
   },
   "outputs": [],
   "source": []
  }
 ],
 "metadata": {
  "colab": {
   "collapsed_sections": [],
   "name": "GB Lesson 4.ipynb",
   "provenance": [],
   "toc_visible": true
  },
  "kernelspec": {
   "display_name": "Python 3",
   "language": "python",
   "name": "python3"
  },
  "language_info": {
   "codemirror_mode": {
    "name": "ipython",
    "version": 3
   },
   "file_extension": ".py",
   "mimetype": "text/x-python",
   "name": "python",
   "nbconvert_exporter": "python",
   "pygments_lexer": "ipython3",
   "version": "3.8.6"
  }
 },
 "nbformat": 4,
 "nbformat_minor": 1
}
