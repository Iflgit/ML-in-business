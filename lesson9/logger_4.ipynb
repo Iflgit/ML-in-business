{
 "cells": [
  {
   "cell_type": "code",
   "execution_count": 1,
   "metadata": {
    "colab": {
     "base_uri": "https://localhost:8080/"
    },
    "id": "nto_N_aja54C",
    "outputId": "a9715e2b-6246-40ae-e0bd-698c7904e3fc"
   },
   "outputs": [
    {
     "name": "stdout",
     "output_type": "stream",
     "text": [
      "Requirement already satisfied: flask-ngrok in c:\\users\\ifl\\documents\\github\\ml-in-business\\.venv\\lib\\site-packages (0.0.25)\n",
      "Requirement already satisfied: requests in c:\\users\\ifl\\documents\\github\\ml-in-business\\.venv\\lib\\site-packages (from flask-ngrok) (2.24.0)\n",
      "Requirement already satisfied: Flask>=0.8 in c:\\users\\ifl\\documents\\github\\ml-in-business\\.venv\\lib\\site-packages (from flask-ngrok) (1.1.2)\n",
      "Requirement already satisfied: certifi>=2017.4.17 in c:\\users\\ifl\\documents\\github\\ml-in-business\\.venv\\lib\\site-packages (from requests->flask-ngrok) (2020.6.20)\n",
      "Requirement already satisfied: urllib3!=1.25.0,!=1.25.1,<1.26,>=1.21.1 in c:\\users\\ifl\\documents\\github\\ml-in-business\\.venv\\lib\\site-packages (from requests->flask-ngrok) (1.25.11)\n",
      "Requirement already satisfied: chardet<4,>=3.0.2 in c:\\users\\ifl\\documents\\github\\ml-in-business\\.venv\\lib\\site-packages (from requests->flask-ngrok) (3.0.4)\n",
      "Requirement already satisfied: idna<3,>=2.5 in c:\\users\\ifl\\documents\\github\\ml-in-business\\.venv\\lib\\site-packages (from requests->flask-ngrok) (2.10)\n",
      "Requirement already satisfied: itsdangerous>=0.24 in c:\\users\\ifl\\documents\\github\\ml-in-business\\.venv\\lib\\site-packages (from Flask>=0.8->flask-ngrok) (1.1.0)\n",
      "Requirement already satisfied: Jinja2>=2.10.1 in c:\\users\\ifl\\documents\\github\\ml-in-business\\.venv\\lib\\site-packages (from Flask>=0.8->flask-ngrok) (2.11.2)\n",
      "Requirement already satisfied: click>=5.1 in c:\\users\\ifl\\documents\\github\\ml-in-business\\.venv\\lib\\site-packages (from Flask>=0.8->flask-ngrok) (7.1.2)\n",
      "Requirement already satisfied: Werkzeug>=0.15 in c:\\users\\ifl\\documents\\github\\ml-in-business\\.venv\\lib\\site-packages (from Flask>=0.8->flask-ngrok) (1.0.1)\n",
      "Requirement already satisfied: MarkupSafe>=0.23 in c:\\users\\ifl\\documents\\github\\ml-in-business\\.venv\\lib\\site-packages (from Jinja2>=2.10.1->Flask>=0.8->flask-ngrok) (1.1.1)\n"
     ]
    }
   ],
   "source": [
    "!pip install flask-ngrok\n",
    "##!pip install logging\n",
    "\n",
    "##!pip install traceback\n",
    "\n"
   ]
  },
  {
   "cell_type": "code",
   "execution_count": 2,
   "metadata": {
    "colab": {
     "base_uri": "https://localhost:8080/"
    },
    "id": "wszgS6DydrkC",
    "outputId": "f790d9f2-664c-4468-ec3f-6b1aee2424f7"
   },
   "outputs": [
    {
     "name": "stdout",
     "output_type": "stream",
     "text": [
      "Requirement already satisfied: h2o in c:\\users\\ifl\\documents\\github\\ml-in-business\\.venv\\lib\\site-packages (3.30.1.3)\n",
      "Requirement already satisfied: requests in c:\\users\\ifl\\documents\\github\\ml-in-business\\.venv\\lib\\site-packages (from h2o) (2.24.0)\n",
      "Requirement already satisfied: tabulate in c:\\users\\ifl\\documents\\github\\ml-in-business\\.venv\\lib\\site-packages (from h2o) (0.8.7)\n",
      "Requirement already satisfied: future in c:\\users\\ifl\\documents\\github\\ml-in-business\\.venv\\lib\\site-packages (from h2o) (0.18.2)\n",
      "Requirement already satisfied: colorama>=0.3.8 in c:\\users\\ifl\\documents\\github\\ml-in-business\\.venv\\lib\\site-packages (from h2o) (0.4.4)\n",
      "Requirement already satisfied: idna<3,>=2.5 in c:\\users\\ifl\\documents\\github\\ml-in-business\\.venv\\lib\\site-packages (from requests->h2o) (2.10)\n",
      "Requirement already satisfied: certifi>=2017.4.17 in c:\\users\\ifl\\documents\\github\\ml-in-business\\.venv\\lib\\site-packages (from requests->h2o) (2020.6.20)\n",
      "Requirement already satisfied: urllib3!=1.25.0,!=1.25.1,<1.26,>=1.21.1 in c:\\users\\ifl\\documents\\github\\ml-in-business\\.venv\\lib\\site-packages (from requests->h2o) (1.25.11)\n",
      "Requirement already satisfied: chardet<4,>=3.0.2 in c:\\users\\ifl\\documents\\github\\ml-in-business\\.venv\\lib\\site-packages (from requests->h2o) (3.0.4)\n"
     ]
    }
   ],
   "source": [
    "!pip install h2o"
   ]
  },
  {
   "cell_type": "code",
   "execution_count": 4,
   "metadata": {
    "colab": {
     "base_uri": "https://localhost:8080/"
    },
    "id": "K8rs_4eVhGNG",
    "outputId": "d44b790f-5124-49af-b362-dc7753037e3d"
   },
   "outputs": [],
   "source": [
    "# from google.colab import drive\n",
    "# drive.mount('/content/drive')"
   ]
  },
  {
   "cell_type": "code",
   "execution_count": null,
   "metadata": {
    "colab": {
     "base_uri": "https://localhost:8080/",
     "height": 1000
    },
    "id": "haxeH389GvHG",
    "outputId": "56eb272e-7235-4e9e-9b0e-e58fcb0aebec"
   },
   "outputs": [
    {
     "name": "stdout",
     "output_type": "stream",
     "text": [
      "Checking whether there is an H2O instance running at http://localhost:54321 . connected.\n"
     ]
    },
    {
     "data": {
      "text/html": [
       "<div style=\"overflow:auto\"><table style=\"width:50%\"><tr><td>H2O_cluster_uptime:</td>\n",
       "<td>9 mins 20 secs</td></tr>\n",
       "<tr><td>H2O_cluster_timezone:</td>\n",
       "<td>Europe/Minsk</td></tr>\n",
       "<tr><td>H2O_data_parsing_timezone:</td>\n",
       "<td>UTC</td></tr>\n",
       "<tr><td>H2O_cluster_version:</td>\n",
       "<td>3.30.1.3</td></tr>\n",
       "<tr><td>H2O_cluster_version_age:</td>\n",
       "<td>1 month and 29 days </td></tr>\n",
       "<tr><td>H2O_cluster_name:</td>\n",
       "<td>H2O_from_python_Ifl_hat4ow</td></tr>\n",
       "<tr><td>H2O_cluster_total_nodes:</td>\n",
       "<td>1</td></tr>\n",
       "<tr><td>H2O_cluster_free_memory:</td>\n",
       "<td>1.462 Gb</td></tr>\n",
       "<tr><td>H2O_cluster_total_cores:</td>\n",
       "<td>15</td></tr>\n",
       "<tr><td>H2O_cluster_allowed_cores:</td>\n",
       "<td>15</td></tr>\n",
       "<tr><td>H2O_cluster_status:</td>\n",
       "<td>locked, healthy</td></tr>\n",
       "<tr><td>H2O_connection_url:</td>\n",
       "<td>http://localhost:54321</td></tr>\n",
       "<tr><td>H2O_connection_proxy:</td>\n",
       "<td>{\"http\": null, \"https\": null}</td></tr>\n",
       "<tr><td>H2O_internal_security:</td>\n",
       "<td>False</td></tr>\n",
       "<tr><td>H2O_API_Extensions:</td>\n",
       "<td>Amazon S3, Algos, AutoML, Core V3, TargetEncoder, Core V4</td></tr>\n",
       "<tr><td>Python_version:</td>\n",
       "<td>3.8.6 final</td></tr></table></div>"
      ],
      "text/plain": [
       "--------------------------  ---------------------------------------------------------\n",
       "H2O_cluster_uptime:         9 mins 20 secs\n",
       "H2O_cluster_timezone:       Europe/Minsk\n",
       "H2O_data_parsing_timezone:  UTC\n",
       "H2O_cluster_version:        3.30.1.3\n",
       "H2O_cluster_version_age:    1 month and 29 days\n",
       "H2O_cluster_name:           H2O_from_python_Ifl_hat4ow\n",
       "H2O_cluster_total_nodes:    1\n",
       "H2O_cluster_free_memory:    1.462 Gb\n",
       "H2O_cluster_total_cores:    15\n",
       "H2O_cluster_allowed_cores:  15\n",
       "H2O_cluster_status:         locked, healthy\n",
       "H2O_connection_url:         http://localhost:54321\n",
       "H2O_connection_proxy:       {\"http\": null, \"https\": null}\n",
       "H2O_internal_security:      False\n",
       "H2O_API_Extensions:         Amazon S3, Algos, AutoML, Core V3, TargetEncoder, Core V4\n",
       "Python_version:             3.8.6 final\n",
       "--------------------------  ---------------------------------------------------------"
      ]
     },
     "metadata": {},
     "output_type": "display_data"
    },
    {
     "name": "stdout",
     "output_type": "stream",
     "text": [
      " * Serving Flask app \"__main__\" (lazy loading)\n",
      " * Environment: production\n",
      "   WARNING: This is a development server. Do not use it in a production deployment.\n",
      "   Use a production WSGI server instead.\n",
      " * Debug mode: off\n"
     ]
    },
    {
     "name": "stderr",
     "output_type": "stream",
     "text": [
      "INFO:werkzeug: * Running on http://127.0.0.1:5000/ (Press CTRL+C to quit)\n"
     ]
    },
    {
     "name": "stdout",
     "output_type": "stream",
     "text": [
      " * Running on http://bcd1a20a6c28.ngrok.io\n",
      " * Traffic stats available on http://127.0.0.1:4040\n"
     ]
    },
    {
     "name": "stderr",
     "output_type": "stream",
     "text": [
      "ERROR:__main__:[2020-Nov-26 21:29:28] 127.0.0.1 POST http /? 5xx INTERNAL SERVER ERROR\n",
      "Traceback (most recent call last):\n",
      "  File \"c:\\users\\ifl\\documents\\github\\ml-in-business\\.venv\\lib\\site-packages\\flask\\app.py\", line 1950, in full_dispatch_request\n",
      "    rv = self.dispatch_request()\n",
      "  File \"c:\\users\\ifl\\documents\\github\\ml-in-business\\.venv\\lib\\site-packages\\flask\\app.py\", line 1926, in dispatch_request\n",
      "    self.raise_routing_exception(req)\n",
      "  File \"c:\\users\\ifl\\documents\\github\\ml-in-business\\.venv\\lib\\site-packages\\flask\\app.py\", line 1908, in raise_routing_exception\n",
      "    raise request.routing_exception\n",
      "  File \"c:\\users\\ifl\\documents\\github\\ml-in-business\\.venv\\lib\\site-packages\\flask\\ctx.py\", line 350, in match_request\n",
      "    result = self.url_adapter.match(return_rule=True)\n",
      "  File \"c:\\users\\ifl\\documents\\github\\ml-in-business\\.venv\\lib\\site-packages\\werkzeug\\routing.py\", line 1940, in match\n",
      "    raise MethodNotAllowed(valid_methods=list(have_match_for))\n",
      "werkzeug.exceptions.MethodNotAllowed: 405 Method Not Allowed: The method is not allowed for the requested URL.\n",
      "\n",
      "INFO:werkzeug:127.0.0.1 - - [26/Nov/2020 21:29:28] \"POST / HTTP/1.1\" 500 -\n"
     ]
    },
    {
     "name": "stdout",
     "output_type": "stream",
     "text": [
      "{'ID': 1, 'LicAge': 450, 'RecordBeg': '2004-01-01', 'RecordEnd': '', 'VehAge': '', 'Gender': 'Male', 'MariStat': 'Other', 'SocioCateg': 'CSP20', 'VehUsage': 'Private', 'DrivAge': 21, 'HasKmLimit': 0, 'BonusMalus': 97, 'OutUseNb': 0, 'RiskArea': 0}\n",
      "Parse progress: |█████████████████████████████████████████████████████████| 100%\n"
     ]
    },
    {
     "name": "stderr",
     "output_type": "stream",
     "text": [
      "INFO:__main__:[2020-Nov-26 21:30:18] request from 46.53.241.88: {'ID': 1, 'LicAge': 450, 'RecordBeg': '2004-01-01', 'RecordEnd': '', 'VehAge': '', 'Gender': 'Male', 'MariStat': 'Other', 'SocioCateg': 'CSP20', 'VehUsage': 'Private', 'DrivAge': 21, 'HasKmLimit': 0, 'BonusMalus': 97, 'OutUseNb': 0, 'RiskArea': 0}\n"
     ]
    },
    {
     "name": "stdout",
     "output_type": "stream",
     "text": [
      "glm prediction progress: |████████████████████████████████████████████████| 100%\n"
     ]
    },
    {
     "name": "stderr",
     "output_type": "stream",
     "text": [
      "c:\\users\\ifl\\documents\\github\\ml-in-business\\.venv\\lib\\site-packages\\h2o\\job.py:70: UserWarning: Test/Validation dataset is missing column 'driver_minage_m': substituting in a column of NaN\n",
      "  warnings.warn(w)\n",
      "c:\\users\\ifl\\documents\\github\\ml-in-business\\.venv\\lib\\site-packages\\h2o\\job.py:70: UserWarning: Test/Validation dataset is missing column 'driver_minage_f': substituting in a column of NaN\n",
      "  warnings.warn(w)\n",
      "c:\\users\\ifl\\documents\\github\\ml-in-business\\.venv\\lib\\site-packages\\h2o\\job.py:70: UserWarning: Test/Validation dataset is missing column 'driver_minage_m_2': substituting in a column of NaN\n",
      "  warnings.warn(w)\n",
      "c:\\users\\ifl\\documents\\github\\ml-in-business\\.venv\\lib\\site-packages\\h2o\\job.py:70: UserWarning: Test/Validation dataset is missing column 'driver_minage_f_2': substituting in a column of NaN\n",
      "  warnings.warn(w)\n",
      "c:\\users\\ifl\\documents\\github\\ml-in-business\\.venv\\lib\\site-packages\\h2o\\job.py:70: UserWarning: Test/Validation dataset is missing column 'VehUsage_Private': substituting in a column of NaN\n",
      "  warnings.warn(w)\n",
      "c:\\users\\ifl\\documents\\github\\ml-in-business\\.venv\\lib\\site-packages\\h2o\\job.py:70: UserWarning: Test/Validation dataset is missing column 'VehUsage_Private+trip to office': substituting in a column of NaN\n",
      "  warnings.warn(w)\n",
      "c:\\users\\ifl\\documents\\github\\ml-in-business\\.venv\\lib\\site-packages\\h2o\\job.py:70: UserWarning: Test/Validation dataset is missing column 'VehUsage_Professional': substituting in a column of NaN\n",
      "  warnings.warn(w)\n",
      "c:\\users\\ifl\\documents\\github\\ml-in-business\\.venv\\lib\\site-packages\\h2o\\job.py:70: UserWarning: Test/Validation dataset is missing column 'VehUsage_Professional run': substituting in a column of NaN\n",
      "  warnings.warn(w)\n",
      "c:\\users\\ifl\\documents\\github\\ml-in-business\\.venv\\lib\\site-packages\\h2o\\job.py:70: UserWarning: Test/Validation dataset is missing column 'SocioCateg_CSP1': substituting in a column of NaN\n",
      "  warnings.warn(w)\n",
      "c:\\users\\ifl\\documents\\github\\ml-in-business\\.venv\\lib\\site-packages\\h2o\\job.py:70: UserWarning: Test/Validation dataset is missing column 'SocioCateg_CSP2': substituting in a column of NaN\n",
      "  warnings.warn(w)\n",
      "c:\\users\\ifl\\documents\\github\\ml-in-business\\.venv\\lib\\site-packages\\h2o\\job.py:70: UserWarning: Test/Validation dataset is missing column 'SocioCateg_CSP3': substituting in a column of NaN\n",
      "  warnings.warn(w)\n",
      "c:\\users\\ifl\\documents\\github\\ml-in-business\\.venv\\lib\\site-packages\\h2o\\job.py:70: UserWarning: Test/Validation dataset is missing column 'SocioCateg_CSP4': substituting in a column of NaN\n",
      "  warnings.warn(w)\n",
      "c:\\users\\ifl\\documents\\github\\ml-in-business\\.venv\\lib\\site-packages\\h2o\\job.py:70: UserWarning: Test/Validation dataset is missing column 'SocioCateg_CSP5': substituting in a column of NaN\n",
      "  warnings.warn(w)\n",
      "c:\\users\\ifl\\documents\\github\\ml-in-business\\.venv\\lib\\site-packages\\h2o\\job.py:70: UserWarning: Test/Validation dataset is missing column 'SocioCateg_CSP6': substituting in a column of NaN\n",
      "  warnings.warn(w)\n",
      "c:\\users\\ifl\\documents\\github\\ml-in-business\\.venv\\lib\\site-packages\\h2o\\job.py:70: UserWarning: Test/Validation dataset is missing column 'SocioCateg_CSP7': substituting in a column of NaN\n",
      "  warnings.warn(w)\n"
     ]
    },
    {
     "name": "stdout",
     "output_type": "stream",
     "text": [
      "glm prediction progress: |████████████████████████████████████████████████| 100%\n"
     ]
    },
    {
     "name": "stderr",
     "output_type": "stream",
     "text": [
      "INFO:__main__:[2020-Nov-26 21:30:36] predicted for 18.619986 msec: {'ID': 1, 'value_Poisson': 0.3449213080792129, 'value_Gamma': 874.7446496994197, 'value_BurningCost': 301.71806880961674}\n",
      "\n",
      "INFO:werkzeug:127.0.0.1 - - [26/Nov/2020 21:30:38] \"POST /predict HTTP/1.1\" 200 -\n"
     ]
    }
   ],
   "source": [
    "import h2o\n",
    "from flask import Flask, request, jsonify\n",
    "from flask_ngrok import run_with_ngrok\n",
    "\n",
    "\n",
    "\n",
    "# For logging\n",
    "from flask_ngrok import run_with_ngrok\n",
    "import logging\n",
    "import traceback\n",
    "from logging.handlers import RotatingFileHandler\n",
    "from time import strftime, time\n",
    "\n",
    "app = Flask(__name__)\n",
    "run_with_ngrok(app)  # Start ngrok when app is run\n",
    "\n",
    "h2o.init()\n",
    "model_glm_poisson = h2o.load_model('GLM_model_python_1605640470658_1')\n",
    "model_glm_gamma = h2o.load_model('GLM_model_python_1605640470658_2')\n",
    "\n",
    "def map_for_dict_Gender(Gender):\n",
    "  dict_Gender = {'Male':0, 'Female':1}\n",
    "  res = dict_Gender.get(Gender)\n",
    "  return res\n",
    "\n",
    "def map_for_dict_MariStat(MariStat):\n",
    "  dict_MariStat = {'Other':0, 'Alone':1}\n",
    "  res = dict_MariStat.get(MariStat)\n",
    "  return res\n",
    "\n",
    "def f_VehUsage_Professional(VehUsage):\n",
    "  if VehUsage == 'Professional':\n",
    "    VehUsage_Professional = 1\n",
    "  else:\n",
    "    VehUsage_Professional = 0\n",
    "  return(VehUsage_Professional)\n",
    "\n",
    "def f_VehUsage_Private_trip_to_office(VehUsage):\n",
    "  if VehUsage == 'Private+trip to office':\n",
    "    VehUsage_Private_trip_to_office = 1\n",
    "  else:\n",
    "    VehUsage_Private_trip_to_office = 0\n",
    "  return(VehUsage_Private_trip_to_office)\n",
    "\n",
    "def f_VehUsage_Private(VehUsage):\n",
    "  if VehUsage == 'Private':\n",
    "    VehUsage_Private = 1\n",
    "  else:\n",
    "    VehUsage_Privatel = 0\n",
    "  return(VehUsage_Private)\n",
    "\n",
    "def f_VehUsage_Professional_run(VehUsage):\n",
    "  if VehUsage == 'Professional run':\n",
    "    VehUsage_Professional_run = 1\n",
    "  else:\n",
    "    VehUsage_Professional_run = 0\n",
    "  return(VehUsage_Professional_run)\n",
    "\n",
    "def return_NewH2o_Frame():\n",
    "  columns = [\n",
    "      'LicAge',\n",
    "      'Gender',\n",
    "      'MariStat',\n",
    "      'DrivAge',\n",
    "      'HasKmLimit',\n",
    "      'BonusMalus',\n",
    "      'OutUseNb',\n",
    "      'RiskArea',\n",
    "      'VehUsg_Private',\n",
    "      'VehUsg_Private+trip to office',\n",
    "      'VehUsg_Professional',\n",
    "      'VehUsg_Professional run',\n",
    "      'CSP1',\n",
    "      'CSP2',\n",
    "      'CSP3',\n",
    "      'CSP6',\n",
    "      'CSP7',\n",
    "      'CSP20',\n",
    "      'CSP21',\n",
    "      'CSP22',\n",
    "      'CSP26',\n",
    "      'CSP37',\n",
    "      'CSP40',\n",
    "      'CSP42',\n",
    "      'CSP46',\n",
    "      'CSP47',\n",
    "      'CSP48',\n",
    "      'CSP49',\n",
    "      'CSP50',\n",
    "      'CSP55',\n",
    "      'CSP56',\n",
    "      'CSP57',\n",
    "      'CSP60',\n",
    "      'CSP65',\n",
    "      'CSP66'\n",
    "      ]\n",
    "  return h2o.H2OFrame([[0,0,0,0,0,0,0,0,0,0,0,0,0,0,0,0,0,0,0,0,0,0,0,0,0,0,0,0,0,0,0,0,0,0,0]], column_names = columns)\n",
    "\n",
    "\n",
    "\n",
    "\n",
    "# Logging\n",
    "handler = RotatingFileHandler('app.log', maxBytes=100000, backupCount=5)\n",
    "logger = logging.getLogger(__name__)\n",
    "logger.setLevel(logging.INFO)\n",
    "logger.addHandler(handler)\n",
    "\n",
    "\n",
    "@app.route(\"/\")\n",
    "def index():\n",
    "    return \"API for predict service\"\n",
    "\n",
    "\n",
    "@app.route('/predict', methods=['GET', 'POST'])\n",
    "def predict():\n",
    "\n",
    "\n",
    "      json_input = request.json\n",
    "      \n",
    "      print(json_input)\n",
    "      ID = json_input[\"ID\"]\n",
    "      LicAge = json_input[\"LicAge\"]\n",
    "      Gender = map_for_dict_Gender(json_input[\"Gender\"])\n",
    "      MariStat = map_for_dict_MariStat(json_input[\"MariStat\"])\n",
    "      DrivAge = json_input[\"DrivAge\"]\n",
    "      HasKmLimit = json_input[\"HasKmLimit\"]\n",
    "      BonusMalus = json_input[\"BonusMalus\"]\n",
    "      OutUseNb = json_input[\"OutUseNb\"]\n",
    "      RiskArea = json_input[\"RiskArea\"]\n",
    "      VehUsg_Private = f_VehUsage_Private(json_input[\"VehUsage\"])\n",
    "      VehUsg_Private_trip_to_office = f_VehUsage_Private_trip_to_office(json_input[\"VehUsage\"])\n",
    "      VehUsg_Professional = f_VehUsage_Professional(json_input[\"VehUsage\"])\n",
    "      VehUsg_Professional_run = f_VehUsage_Professional_run(json_input[\"VehUsage\"])\n",
    "      CSP1 = 0\n",
    "      CSP2 = 0\n",
    "      CSP3 = 0\n",
    "      CSP6 = 0\n",
    "      CSP7 = 0\n",
    "      CSP20 = 0\n",
    "      CSP21 = 0\n",
    "      CSP22 = 0\n",
    "      CSP26 = 0\n",
    "      CSP37 = 0\n",
    "      CSP40 = 0\n",
    "      CSP42 = 0\n",
    "      CSP46 = 0\n",
    "      CSP47 = 0\n",
    "      CSP48 = 0\n",
    "      CSP49 = 0\n",
    "      CSP50 = 0\n",
    "      CSP55 = 0\n",
    "      CSP56 = 0\n",
    "      CSP57 = 0\n",
    "      CSP60 = 0\n",
    "      CSP65 = 0\n",
    "      CSP66 = 0\n",
    "\n",
    "      hf = return_NewH2o_Frame()\n",
    "\n",
    "      hf[0, 'LicAge'] = LicAge\n",
    "      hf[0, 'Gender'] = Gender\n",
    "      hf[0, 'MariStat'] = MariStat\n",
    "      hf[0, 'DrivAge'] = DrivAge\n",
    "      hf[0, 'HasKmLimit'] = HasKmLimit\n",
    "      hf[0, 'BonusMalus'] = BonusMalus\n",
    "      hf[0, 'OutUseNb'] = OutUseNb\n",
    "      hf[0, 'RiskArea'] = RiskArea\n",
    "      hf[0, 'VehUsg_Private'] = VehUsg_Private\n",
    "      hf[0, 'VehUsg_Private+trip to office'] = VehUsg_Private_trip_to_office\n",
    "      hf[0, 'VehUsg_Professional'] = VehUsg_Professional\n",
    "      hf[0, 'VehUsg_Professional run'] = VehUsg_Professional_run\n",
    "      hf[0, 'CSP1'] = CSP1\n",
    "      hf[0, 'CSP2'] = CSP2\n",
    "      hf[0, 'CSP3'] = CSP3\n",
    "      hf[0, 'CSP6'] = CSP6\n",
    "      hf[0, 'CSP7'] = CSP7\n",
    "      hf[0, 'CSP20'] = CSP20\n",
    "      hf[0, 'CSP21'] = CSP21\n",
    "      hf[0, 'CSP22'] = CSP22\n",
    "      hf[0, 'CSP26'] = CSP26\n",
    "      hf[0, 'CSP37'] = CSP37\n",
    "      hf[0, 'CSP40'] = CSP40\n",
    "      hf[0, 'CSP42'] = CSP42\n",
    "      hf[0, 'CSP46'] = CSP46\n",
    "      hf[0, 'CSP47'] = CSP47\n",
    "      hf[0, 'CSP48'] = CSP48\n",
    "      hf[0, 'CSP49'] = CSP49\n",
    "      hf[0, 'CSP50'] = CSP50\n",
    "      hf[0, 'CSP55'] = CSP55\n",
    "      hf[0, 'CSP56'] = CSP56\n",
    "      hf[0, 'CSP57'] = CSP57\n",
    "      hf[0, 'CSP60'] = CSP60\n",
    "      hf[0, 'CSP65'] = CSP65\n",
    "      hf[0, 'CSP66'] = CSP66\n",
    "\n",
    "\n",
    "      \n",
    "      # Request logging\n",
    "      current_datatime = strftime('[%Y-%b-%d %H:%M:%S]')\n",
    "      ip_address = request.headers.get(\"X-Forwarded-For\", request.remote_addr)\n",
    "      logger.info(f'{current_datatime} request from {ip_address}: {request.json}')\n",
    "      start_prediction = time()\n",
    "\n",
    "      id = json_input['ID']\n",
    "      #hf = process_input(json_input)\n",
    "      #hf = send_json(data)\n",
    "\n",
    "      prediction_Poisson = model_glm_poisson.predict(hf)\n",
    "      value_Poisson = prediction_Poisson.as_data_frame()['predict'][0]\n",
    "\n",
    "      prediction_Gamma = model_glm_gamma.predict(hf)\n",
    "      value_Gamma = prediction_Gamma.as_data_frame()['predict'][0]\n",
    "\n",
    "      value_BurningCost = value_Poisson * value_Gamma\n",
    "\n",
    "      result = {\n",
    "        'ID': id,\n",
    "        'value_Poisson': value_Poisson,\n",
    "        'value_Gamma': value_Gamma,\n",
    "        'value_BurningCost': value_BurningCost\n",
    "      }\n",
    "\n",
    "      # Response logging\n",
    "      end_prediction = time()\n",
    "      duration = round(end_prediction - start_prediction, 6)\n",
    "      current_datatime = strftime('[%Y-%b-%d %H:%M:%S]')\n",
    "      logger.info(f'{current_datatime} predicted for {duration} msec: {result}\\n')\n",
    "\n",
    "      return jsonify(result)\n",
    " \n",
    "\n",
    "@app.errorhandler(Exception)\n",
    "def exceptions(e):\n",
    "    current_datatime = strftime('[%Y-%b-%d %H:%M:%S]')\n",
    "    error_message = traceback.format_exc()\n",
    "    logger.error('%s %s %s %s %s 5xx INTERNAL SERVER ERROR\\n%s',\n",
    "                 current_datatime,\n",
    "                 request.remote_addr,\n",
    "                 request.method,\n",
    "                 request.scheme,\n",
    "                 request.full_path,\n",
    "                 error_message)\n",
    "    return jsonify({'error': 'Internal Server Error'}), 500\n",
    "\n",
    "\n",
    "if __name__ == '__main__':\n",
    "    app.run()"
   ]
  },
  {
   "cell_type": "code",
   "execution_count": null,
   "metadata": {
    "id": "hn6ba-FFg5z3"
   },
   "outputs": [],
   "source": []
  }
 ],
 "metadata": {
  "colab": {
   "collapsed_sections": [],
   "name": "logger_4.ipynb",
   "provenance": []
  },
  "kernelspec": {
   "display_name": "Python 3",
   "language": "python",
   "name": "python3"
  },
  "language_info": {
   "codemirror_mode": {
    "name": "ipython",
    "version": 3
   },
   "file_extension": ".py",
   "mimetype": "text/x-python",
   "name": "python",
   "nbconvert_exporter": "python",
   "pygments_lexer": "ipython3",
   "version": "3.8.6"
  }
 },
 "nbformat": 4,
 "nbformat_minor": 1
}
