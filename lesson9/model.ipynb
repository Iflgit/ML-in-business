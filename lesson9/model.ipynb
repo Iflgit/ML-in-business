{
 "cells": [
  {
   "cell_type": "code",
   "execution_count": 1,
   "metadata": {},
   "outputs": [
    {
     "name": "stdout",
     "output_type": "stream",
     "text": [
      "Requirement already satisfied: matplotlib in c:\\users\\ifl\\documents\\github\\ml-in-business\\.venv\\lib\\site-packages (3.3.2)\n",
      "Requirement already satisfied: pandas in c:\\users\\ifl\\documents\\github\\ml-in-business\\.venv\\lib\\site-packages (1.1.3)\n",
      "Requirement already satisfied: numpy in c:\\users\\ifl\\documents\\github\\ml-in-business\\.venv\\lib\\site-packages (1.19.2)\n",
      "Requirement already satisfied: sklearn in c:\\users\\ifl\\documents\\github\\ml-in-business\\.venv\\lib\\site-packages (0.0)\n",
      "Requirement already satisfied: seaborn in c:\\users\\ifl\\documents\\github\\ml-in-business\\.venv\\lib\\site-packages (0.11.0)\n",
      "Requirement already satisfied: cycler>=0.10 in c:\\users\\ifl\\documents\\github\\ml-in-business\\.venv\\lib\\site-packages (from matplotlib) (0.10.0)\n",
      "Requirement already satisfied: certifi>=2020.06.20 in c:\\users\\ifl\\documents\\github\\ml-in-business\\.venv\\lib\\site-packages (from matplotlib) (2020.6.20)\n",
      "Requirement already satisfied: kiwisolver>=1.0.1 in c:\\users\\ifl\\documents\\github\\ml-in-business\\.venv\\lib\\site-packages (from matplotlib) (1.2.0)\n",
      "Requirement already satisfied: numpy in c:\\users\\ifl\\documents\\github\\ml-in-business\\.venv\\lib\\site-packages (1.19.2)\n",
      "Requirement already satisfied: pyparsing!=2.0.4,!=2.1.2,!=2.1.6,>=2.0.3 in c:\\users\\ifl\\documents\\github\\ml-in-business\\.venv\\lib\\site-packages (from matplotlib) (2.4.7)\n",
      "Requirement already satisfied: python-dateutil>=2.1 in c:\\users\\ifl\\documents\\github\\ml-in-business\\.venv\\lib\\site-packages (from matplotlib) (2.8.1)\n",
      "Requirement already satisfied: pillow>=6.2.0 in c:\\users\\ifl\\documents\\github\\ml-in-business\\.venv\\lib\\site-packages (from matplotlib) (8.0.1)\n",
      "Requirement already satisfied: python-dateutil>=2.1 in c:\\users\\ifl\\documents\\github\\ml-in-business\\.venv\\lib\\site-packages (from matplotlib) (2.8.1)\n",
      "Requirement already satisfied: pytz>=2017.2 in c:\\users\\ifl\\documents\\github\\ml-in-business\\.venv\\lib\\site-packages (from pandas) (2020.1)\n",
      "Requirement already satisfied: numpy in c:\\users\\ifl\\documents\\github\\ml-in-business\\.venv\\lib\\site-packages (1.19.2)\n",
      "Requirement already satisfied: matplotlib in c:\\users\\ifl\\documents\\github\\ml-in-business\\.venv\\lib\\site-packages (3.3.2)\n",
      "Requirement already satisfied: scipy>=1.0 in c:\\users\\ifl\\documents\\github\\ml-in-business\\.venv\\lib\\site-packages (from seaborn) (1.5.3)\n",
      "Requirement already satisfied: numpy in c:\\users\\ifl\\documents\\github\\ml-in-business\\.venv\\lib\\site-packages (1.19.2)\n",
      "Requirement already satisfied: pandas in c:\\users\\ifl\\documents\\github\\ml-in-business\\.venv\\lib\\site-packages (1.1.3)\n",
      "Requirement already satisfied: scikit-learn in c:\\users\\ifl\\documents\\github\\ml-in-business\\.venv\\lib\\site-packages (from sklearn) (0.23.2)\n",
      "Requirement already satisfied: six in c:\\users\\ifl\\documents\\github\\ml-in-business\\.venv\\lib\\site-packages (from cycler>=0.10->matplotlib) (1.15.0)\n",
      "Requirement already satisfied: six in c:\\users\\ifl\\documents\\github\\ml-in-business\\.venv\\lib\\site-packages (from cycler>=0.10->matplotlib) (1.15.0)\n",
      "Requirement already satisfied: joblib>=0.11 in c:\\users\\ifl\\documents\\github\\ml-in-business\\.venv\\lib\\site-packages (from scikit-learn->sklearn) (0.17.0)\n",
      "Requirement already satisfied: scipy>=1.0 in c:\\users\\ifl\\documents\\github\\ml-in-business\\.venv\\lib\\site-packages (from seaborn) (1.5.3)\n",
      "Requirement already satisfied: threadpoolctl>=2.0.0 in c:\\users\\ifl\\documents\\github\\ml-in-business\\.venv\\lib\\site-packages (from scikit-learn->sklearn) (2.1.0)\n",
      "Requirement already satisfied: numpy in c:\\users\\ifl\\documents\\github\\ml-in-business\\.venv\\lib\\site-packages (1.19.2)\n",
      "Requirement already satisfied: numpy in c:\\users\\ifl\\documents\\github\\ml-in-business\\.venv\\lib\\site-packages (1.19.2)\n"
     ]
    }
   ],
   "source": [
    "!pip install matplotlib pandas numpy sklearn seaborn;\n",
    "%matplotlib inline\n",
    "import matplotlib.pyplot as plt\n",
    "\n",
    "import numpy as np \n",
    "import pandas as pd \n",
    "import seaborn as sns\n",
    "\n",
    "from sklearn.metrics import mean_squared_error\n",
    "\n",
    "import os\n",
    "data = pd.read_csv('PJME_hourly.csv', index_col=[0], parse_dates=[0], dayfirst=False)\n",
    "data['date'] = data.index"
   ]
  },
  {
   "cell_type": "code",
   "execution_count": 2,
   "metadata": {},
   "outputs": [
    {
     "name": "stdout",
     "output_type": "stream",
     "text": [
      "[24597.5]\n"
     ]
    }
   ],
   "source": [
    "v1 = list((data[data.date=='2014-03-09 02:00:00']['PJME_MW'].values + data[data.date=='2014-03-09 04:00:00']['PJME_MW'].values) / 2)\n",
    "print(v1)\n",
    "# v2 = list((data['2015-03-08 02:00:00']['PJME_MW'].values + data['2015-03-08 04:00:00']['PJME_MW'].values) / 2)\n",
    "# v3 = list((data['2016-03-13 02:00:00']['PJME_MW'].values + data['2016-03-13 04:00:00']['PJME_MW'].values) / 2)\n",
    "# v4 = list((data['2017-03-12 02:00:00']['PJME_MW'].values + data['2017-03-12 04:00:00']['PJME_MW'].values) / 2)\n",
    "v2 = list((data[data.date=='2015-03-08 02:00:00']['PJME_MW'].values + data[data.date=='2015-03-08 04:00:00']['PJME_MW'].values) / 2)\n",
    "v3 = list((data[data.date=='2016-03-13 02:00:00']['PJME_MW'].values + data[data.date=='2016-03-13 04:00:00']['PJME_MW'].values) / 2)\n",
    "v4 = list((data[data.date=='2017-03-12 02:00:00']['PJME_MW'].values + data[data.date=='2017-03-12 04:00:00']['PJME_MW'].values) / 2)\n",
    "v =np.reshape([v1[0],v2[0],v3[0],v4[0]],(4,1))\n",
    "v\n",
    "\n",
    "df_data = pd.DataFrame(index = pd.to_datetime(pd.Series(['2014-03-09 03:00:00','2015-03-08 03:00:00','2016-03-13 03:00:00','2017-03-12 03:00:00'])), columns =['PJME_MW'] , data = v) \n",
    "df_data['date'] = df_data.index\n",
    "df_data.head()\n",
    "#\n",
    "data = data.append(df_data,sort = False)"
   ]
  },
  {
   "cell_type": "code",
   "execution_count": 3,
   "metadata": {},
   "outputs": [],
   "source": [
    "# df = data.loc[count_data.iloc[:4].index]\n",
    "# df_ = df.groupby('date').mean()\n",
    "# df_['date'] = df_.index\n",
    "# data.drop(count_data.iloc[:4].index)\n",
    "\n",
    "data.drop_duplicates()\n",
    "# data = data.append(df_,sort = False)\n",
    "\n",
    "data = data.sort_index()\n",
    "\n",
    "data['year'] = data['date'].dt.year\n",
    "data['month'] = data['date'].dt.month\n",
    "data['dayofmonth'] = data['date'].dt.day\n",
    "data['quarter'] = data['date'].dt.quarter\n",
    "data['dayofyear'] = data['date'].dt.dayofyear\n",
    "data['weekofyear'] = data['date'].dt.isocalendar().week\n",
    "data['dayofweek'] = data['date'].dt.dayofweek\n",
    "data['hour'] = data['date'].dt.hour"
   ]
  },
  {
   "cell_type": "code",
   "execution_count": 4,
   "metadata": {},
   "outputs": [
    {
     "data": {
      "text/html": [
       "<div>\n",
       "<style scoped>\n",
       "    .dataframe tbody tr th:only-of-type {\n",
       "        vertical-align: middle;\n",
       "    }\n",
       "\n",
       "    .dataframe tbody tr th {\n",
       "        vertical-align: top;\n",
       "    }\n",
       "\n",
       "    .dataframe thead th {\n",
       "        text-align: right;\n",
       "    }\n",
       "</style>\n",
       "<table border=\"1\" class=\"dataframe\">\n",
       "  <thead>\n",
       "    <tr style=\"text-align: right;\">\n",
       "      <th></th>\n",
       "      <th></th>\n",
       "      <th>PJME_MW</th>\n",
       "      <th>date</th>\n",
       "      <th>year</th>\n",
       "      <th>month</th>\n",
       "      <th>dayofmonth</th>\n",
       "      <th>quarter</th>\n",
       "      <th>dayofyear</th>\n",
       "      <th>weekofyear</th>\n",
       "      <th>dayofweek</th>\n",
       "      <th>hour</th>\n",
       "    </tr>\n",
       "    <tr>\n",
       "      <th>Date</th>\n",
       "      <th>Time</th>\n",
       "      <th></th>\n",
       "      <th></th>\n",
       "      <th></th>\n",
       "      <th></th>\n",
       "      <th></th>\n",
       "      <th></th>\n",
       "      <th></th>\n",
       "      <th></th>\n",
       "      <th></th>\n",
       "      <th></th>\n",
       "    </tr>\n",
       "  </thead>\n",
       "  <tbody>\n",
       "    <tr>\n",
       "      <th rowspan=\"5\" valign=\"top\">2002-01-01</th>\n",
       "      <th>01:00:00</th>\n",
       "      <td>30393.0</td>\n",
       "      <td>2002-01-01 01:00:00</td>\n",
       "      <td>2002</td>\n",
       "      <td>1</td>\n",
       "      <td>1</td>\n",
       "      <td>1</td>\n",
       "      <td>1</td>\n",
       "      <td>1</td>\n",
       "      <td>1</td>\n",
       "      <td>1</td>\n",
       "    </tr>\n",
       "    <tr>\n",
       "      <th>02:00:00</th>\n",
       "      <td>29265.0</td>\n",
       "      <td>2002-01-01 02:00:00</td>\n",
       "      <td>2002</td>\n",
       "      <td>1</td>\n",
       "      <td>1</td>\n",
       "      <td>1</td>\n",
       "      <td>1</td>\n",
       "      <td>1</td>\n",
       "      <td>1</td>\n",
       "      <td>2</td>\n",
       "    </tr>\n",
       "    <tr>\n",
       "      <th>03:00:00</th>\n",
       "      <td>28357.0</td>\n",
       "      <td>2002-01-01 03:00:00</td>\n",
       "      <td>2002</td>\n",
       "      <td>1</td>\n",
       "      <td>1</td>\n",
       "      <td>1</td>\n",
       "      <td>1</td>\n",
       "      <td>1</td>\n",
       "      <td>1</td>\n",
       "      <td>3</td>\n",
       "    </tr>\n",
       "    <tr>\n",
       "      <th>04:00:00</th>\n",
       "      <td>27899.0</td>\n",
       "      <td>2002-01-01 04:00:00</td>\n",
       "      <td>2002</td>\n",
       "      <td>1</td>\n",
       "      <td>1</td>\n",
       "      <td>1</td>\n",
       "      <td>1</td>\n",
       "      <td>1</td>\n",
       "      <td>1</td>\n",
       "      <td>4</td>\n",
       "    </tr>\n",
       "    <tr>\n",
       "      <th>05:00:00</th>\n",
       "      <td>28057.0</td>\n",
       "      <td>2002-01-01 05:00:00</td>\n",
       "      <td>2002</td>\n",
       "      <td>1</td>\n",
       "      <td>1</td>\n",
       "      <td>1</td>\n",
       "      <td>1</td>\n",
       "      <td>1</td>\n",
       "      <td>1</td>\n",
       "      <td>5</td>\n",
       "    </tr>\n",
       "  </tbody>\n",
       "</table>\n",
       "</div>"
      ],
      "text/plain": [
       "                     PJME_MW                date  year  month  dayofmonth  \\\n",
       "Date       Time                                                             \n",
       "2002-01-01 01:00:00  30393.0 2002-01-01 01:00:00  2002      1           1   \n",
       "           02:00:00  29265.0 2002-01-01 02:00:00  2002      1           1   \n",
       "           03:00:00  28357.0 2002-01-01 03:00:00  2002      1           1   \n",
       "           04:00:00  27899.0 2002-01-01 04:00:00  2002      1           1   \n",
       "           05:00:00  28057.0 2002-01-01 05:00:00  2002      1           1   \n",
       "\n",
       "                     quarter  dayofyear  weekofyear  dayofweek  hour  \n",
       "Date       Time                                                       \n",
       "2002-01-01 01:00:00        1          1           1          1     1  \n",
       "           02:00:00        1          1           1          1     2  \n",
       "           03:00:00        1          1           1          1     3  \n",
       "           04:00:00        1          1           1          1     4  \n",
       "           05:00:00        1          1           1          1     5  "
      ]
     },
     "execution_count": 4,
     "metadata": {},
     "output_type": "execute_result"
    }
   ],
   "source": [
    "data_i=pd.MultiIndex.from_arrays([data.index.date, data.index.time], names=['Date','Time'])\n",
    "data.index = data_i\n",
    "data.head()"
   ]
  },
  {
   "cell_type": "code",
   "execution_count": 5,
   "metadata": {},
   "outputs": [
    {
     "data": {
      "text/html": [
       "<div>\n",
       "<style scoped>\n",
       "    .dataframe tbody tr th:only-of-type {\n",
       "        vertical-align: middle;\n",
       "    }\n",
       "\n",
       "    .dataframe tbody tr th {\n",
       "        vertical-align: top;\n",
       "    }\n",
       "\n",
       "    .dataframe thead th {\n",
       "        text-align: right;\n",
       "    }\n",
       "</style>\n",
       "<table border=\"1\" class=\"dataframe\">\n",
       "  <thead>\n",
       "    <tr style=\"text-align: right;\">\n",
       "      <th></th>\n",
       "      <th></th>\n",
       "      <th>PJME_MW</th>\n",
       "      <th>year</th>\n",
       "      <th>month</th>\n",
       "      <th>dayofmonth</th>\n",
       "      <th>quarter</th>\n",
       "      <th>dayofyear</th>\n",
       "      <th>weekofyear</th>\n",
       "      <th>dayofweek</th>\n",
       "      <th>hour</th>\n",
       "    </tr>\n",
       "    <tr>\n",
       "      <th>Date</th>\n",
       "      <th>Time</th>\n",
       "      <th></th>\n",
       "      <th></th>\n",
       "      <th></th>\n",
       "      <th></th>\n",
       "      <th></th>\n",
       "      <th></th>\n",
       "      <th></th>\n",
       "      <th></th>\n",
       "      <th></th>\n",
       "    </tr>\n",
       "  </thead>\n",
       "  <tbody>\n",
       "    <tr>\n",
       "      <th rowspan=\"5\" valign=\"top\">2002-01-01</th>\n",
       "      <th>01:00:00</th>\n",
       "      <td>30393.0</td>\n",
       "      <td>2002</td>\n",
       "      <td>1</td>\n",
       "      <td>1</td>\n",
       "      <td>1</td>\n",
       "      <td>1</td>\n",
       "      <td>1</td>\n",
       "      <td>1</td>\n",
       "      <td>1</td>\n",
       "    </tr>\n",
       "    <tr>\n",
       "      <th>02:00:00</th>\n",
       "      <td>29265.0</td>\n",
       "      <td>2002</td>\n",
       "      <td>1</td>\n",
       "      <td>1</td>\n",
       "      <td>1</td>\n",
       "      <td>1</td>\n",
       "      <td>1</td>\n",
       "      <td>1</td>\n",
       "      <td>2</td>\n",
       "    </tr>\n",
       "    <tr>\n",
       "      <th>03:00:00</th>\n",
       "      <td>28357.0</td>\n",
       "      <td>2002</td>\n",
       "      <td>1</td>\n",
       "      <td>1</td>\n",
       "      <td>1</td>\n",
       "      <td>1</td>\n",
       "      <td>1</td>\n",
       "      <td>1</td>\n",
       "      <td>3</td>\n",
       "    </tr>\n",
       "    <tr>\n",
       "      <th>04:00:00</th>\n",
       "      <td>27899.0</td>\n",
       "      <td>2002</td>\n",
       "      <td>1</td>\n",
       "      <td>1</td>\n",
       "      <td>1</td>\n",
       "      <td>1</td>\n",
       "      <td>1</td>\n",
       "      <td>1</td>\n",
       "      <td>4</td>\n",
       "    </tr>\n",
       "    <tr>\n",
       "      <th>05:00:00</th>\n",
       "      <td>28057.0</td>\n",
       "      <td>2002</td>\n",
       "      <td>1</td>\n",
       "      <td>1</td>\n",
       "      <td>1</td>\n",
       "      <td>1</td>\n",
       "      <td>1</td>\n",
       "      <td>1</td>\n",
       "      <td>5</td>\n",
       "    </tr>\n",
       "  </tbody>\n",
       "</table>\n",
       "</div>"
      ],
      "text/plain": [
       "                     PJME_MW  year  month  dayofmonth  quarter  dayofyear  \\\n",
       "Date       Time                                                             \n",
       "2002-01-01 01:00:00  30393.0  2002      1           1        1          1   \n",
       "           02:00:00  29265.0  2002      1           1        1          1   \n",
       "           03:00:00  28357.0  2002      1           1        1          1   \n",
       "           04:00:00  27899.0  2002      1           1        1          1   \n",
       "           05:00:00  28057.0  2002      1           1        1          1   \n",
       "\n",
       "                     weekofyear  dayofweek  hour  \n",
       "Date       Time                                   \n",
       "2002-01-01 01:00:00           1          1     1  \n",
       "           02:00:00           1          1     2  \n",
       "           03:00:00           1          1     3  \n",
       "           04:00:00           1          1     4  \n",
       "           05:00:00           1          1     5  "
      ]
     },
     "execution_count": 5,
     "metadata": {},
     "output_type": "execute_result"
    }
   ],
   "source": [
    "data.drop( columns = 'date', inplace = True )\n",
    "data.head()"
   ]
  },
  {
   "cell_type": "code",
   "execution_count": 6,
   "metadata": {},
   "outputs": [],
   "source": [
    "from pandas.tseries.holiday import USFederalHolidayCalendar as calendar\n",
    "from datetime import timedelta\n",
    "one_day = timedelta(days=1)\n",
    "cal = calendar()\n",
    "#инициализировали объект календарь\n",
    "data['is_holiday'] = data.index.get_level_values('Date').isin([d.date() for d in cal.holidays()])\n",
    "data['is_prev_holiday'] = data.index.get_level_values('Date').isin([( d.date() - one_day ) for d in cal.holidays()])\n",
    "data['is_next_holiday'] = data.index.get_level_values('Date').isin([( d.date() + one_day ) for d in cal.holidays()])\n",
    "data['is_holiday'] = data['is_holiday'].astype('uint8')\n",
    "data['is_prev_holiday'] = data['is_prev_holiday'].astype('uint8')\n",
    "data['is_next_holiday'] = data['is_next_holiday'].astype('uint8')"
   ]
  },
  {
   "cell_type": "code",
   "execution_count": 7,
   "metadata": {},
   "outputs": [
    {
     "data": {
      "image/png": "[encoded data removed]",
      "text/plain": [
       "<Figure size 1080x504 with 1 Axes>"
      ]
     },
     "metadata": {
      "needs_background": "light"
     },
     "output_type": "display_data"
    }
   ],
   "source": [
    "def split_data( data, split_date ):\n",
    "    return data.loc[data.index.get_level_values('Date') <= split_date].copy(), \\\n",
    "           data.loc[data.index.get_level_values('Date') >  split_date].copy()\n",
    "\n",
    "train, test = split_data( data, '01-06-2016')\n",
    "\n",
    "plt.figure( figsize=( 15, 7 ))\n",
    "plt.xlabel('Время')\n",
    "plt.ylabel('Потребление энергии, МВт')\n",
    "plt.plot(train.index.get_level_values('Date'),train['PJME_MW'], label='train data' )\n",
    "plt.plot(test.index.get_level_values('Date'),test['PJME_MW'], label='test data')\n",
    "plt.title( 'Тестовые и тренировочные данные' )\n",
    "plt.legend()\n",
    "plt.show()"
   ]
  },
  {
   "cell_type": "code",
   "execution_count": 8,
   "metadata": {},
   "outputs": [],
   "source": [
    "start_f=0\n",
    "X_train = train.iloc[:-1,start_f:]\n",
    "y_train = train['PJME_MW'].values[1:]\n",
    "X_test = test.iloc[:-1,start_f:]\n",
    "y_test = test['PJME_MW'].values[1:]"
   ]
  },
  {
   "cell_type": "code",
   "execution_count": 9,
   "metadata": {},
   "outputs": [],
   "source": [
    "from sklearn.ensemble import GradientBoostingRegressor\n",
    "model_g = GradientBoostingRegressor(max_depth=5, random_state=0, n_estimators=100)\n",
    "model_g.fit( X_train, y_train )\n",
    "X_test_pred_g = model_g.predict(X_test)"
   ]
  },
  {
   "cell_type": "code",
   "execution_count": null,
   "metadata": {},
   "outputs": [],
   "source": []
  },
  {
   "cell_type": "code",
   "execution_count": 10,
   "metadata": {},
   "outputs": [
    {
     "data": {
      "image/png": "[encoded data removed]",
      "text/plain": [
       "<Figure size 1080x504 with 1 Axes>"
      ]
     },
     "metadata": {
      "needs_background": "light"
     },
     "output_type": "display_data"
    }
   ],
   "source": [
    "N=1\n",
    "plt.figure( figsize=( 15, 7 ))\n",
    "\n",
    "# plt.legend()\n",
    "# plt.subplot(3,1,3)\n",
    "plt.xlabel('Время')\n",
    "plt.ylabel('Потребление энергии, МВт')\n",
    "plt.plot(test.iloc[N:,:].index.get_level_values('Date'),X_test_pred_g, label='predict GB data' )\n",
    "plt.plot(test.iloc[N:,:].index.get_level_values('Date'),y_test, label='test data', alpha = 0.3)\n",
    "\n",
    "plt.legend()\n",
    "plt.show()"
   ]
  },
  {
   "cell_type": "code",
   "execution_count": 11,
   "metadata": {},
   "outputs": [
    {
     "data": {
      "text/plain": [
       "226398.9223233428"
      ]
     },
     "execution_count": 11,
     "metadata": {},
     "output_type": "execute_result"
    }
   ],
   "source": [
    "mean_squared_error(y_true=y_test, y_pred=X_test_pred_g)"
   ]
  },
  {
   "cell_type": "code",
   "execution_count": 12,
   "metadata": {},
   "outputs": [
    {
     "name": "stdout",
     "output_type": "stream",
     "text": [
      "Requirement already satisfied: flask-ngrok in c:\\users\\ifl\\documents\\github\\ml-in-business\\.venv\\lib\\site-packages (0.0.25)\n",
      "Requirement already satisfied: requests in c:\\users\\ifl\\documents\\github\\ml-in-business\\.venv\\lib\\site-packages (from flask-ngrok) (2.24.0)\n",
      "Requirement already satisfied: Flask>=0.8 in c:\\users\\ifl\\documents\\github\\ml-in-business\\.venv\\lib\\site-packages (from flask-ngrok) (1.1.2)\n",
      "Requirement already satisfied: click>=5.1 in c:\\users\\ifl\\documents\\github\\ml-in-business\\.venv\\lib\\site-packages (from Flask>=0.8->flask-ngrok) (7.1.2)\n",
      "Requirement already satisfied: Werkzeug>=0.15 in c:\\users\\ifl\\documents\\github\\ml-in-business\\.venv\\lib\\site-packages (from Flask>=0.8->flask-ngrok) (1.0.1)\n",
      "Requirement already satisfied: Jinja2>=2.10.1 in c:\\users\\ifl\\documents\\github\\ml-in-business\\.venv\\lib\\site-packages (from Flask>=0.8->flask-ngrok) (2.11.2)\n",
      "Requirement already satisfied: itsdangerous>=0.24 in c:\\users\\ifl\\documents\\github\\ml-in-business\\.venv\\lib\\site-packages (from Flask>=0.8->flask-ngrok) (1.1.0)\n",
      "Requirement already satisfied: MarkupSafe>=0.23 in c:\\users\\ifl\\documents\\github\\ml-in-business\\.venv\\lib\\site-packages (from Jinja2>=2.10.1->Flask>=0.8->flask-ngrok) (1.1.1)\n",
      "Requirement already satisfied: urllib3!=1.25.0,!=1.25.1,<1.26,>=1.21.1 in c:\\users\\ifl\\documents\\github\\ml-in-business\\.venv\\lib\\site-packages (from requests->flask-ngrok) (1.25.11)\n",
      "Requirement already satisfied: chardet<4,>=3.0.2 in c:\\users\\ifl\\documents\\github\\ml-in-business\\.venv\\lib\\site-packages (from requests->flask-ngrok) (3.0.4)\n",
      "Requirement already satisfied: certifi>=2017.4.17 in c:\\users\\ifl\\documents\\github\\ml-in-business\\.venv\\lib\\site-packages (from requests->flask-ngrok) (2020.6.20)\n",
      "Requirement already satisfied: idna<3,>=2.5 in c:\\users\\ifl\\documents\\github\\ml-in-business\\.venv\\lib\\site-packages (from requests->flask-ngrok) (2.10)\n"
     ]
    }
   ],
   "source": [
    "!pip install flask-ngrok"
   ]
  },
  {
   "cell_type": "code",
   "execution_count": 13,
   "metadata": {},
   "outputs": [
    {
     "name": "stdout",
     "output_type": "stream",
     "text": [
      "Requirement already satisfied: pip in c:\\users\\ifl\\documents\\github\\ml-in-business\\.venv\\lib\\site-packages (20.3)\n"
     ]
    }
   ],
   "source": [
    "!python.exe -m pip install --upgrade pip"
   ]
  },
  {
   "cell_type": "code",
   "execution_count": 14,
   "metadata": {},
   "outputs": [],
   "source": [
    "from flask_ngrok import run_with_ngrok\n",
    "from flask import Flask, request, jsonify"
   ]
  },
  {
   "cell_type": "code",
   "execution_count": 15,
   "metadata": {},
   "outputs": [
    {
     "name": "stdout",
     "output_type": "stream",
     "text": [
      " * Serving Flask app \"__main__\" (lazy loading)\n",
      " * Environment: production\n",
      "   WARNING: This is a development server. Do not use it in a production deployment.\n",
      "   Use a production WSGI server instead.\n",
      " * Debug mode: off\n"
     ]
    },
    {
     "name": "stderr",
     "output_type": "stream",
     "text": [
      " * Running on http://127.0.0.1:5000/ (Press CTRL+C to quit)\n"
     ]
    },
    {
     "name": "stdout",
     "output_type": "stream",
     "text": [
      " * Running on http://b4c3cd460b5f.ngrok.io\n",
      " * Traffic stats available on http://127.0.0.1:4040\n"
     ]
    }
   ],
   "source": [
    "app = Flask(__name__)\n",
    "run_with_ngrok(app)  # Start ngrok when app is run\n",
    "\n",
    "@app.route(\"/\")\n",
    "def hello():\n",
    "    return \"Hello World!\"\n",
    "\n",
    "if __name__ == '__main__':\n",
    "    app.run()"
   ]
  },
  {
   "cell_type": "code",
   "execution_count": 22,
   "metadata": {},
   "outputs": [],
   "source": [
    "#from sklearn.ensemble import GradientBoostingRegressor\n",
    "#model_g = GradientBoostingRegressor(max_depth=5, random_state=0, n_estimators=100)\n",
    "#model_g.fit( X_train, y_train )\n",
    "#X_test_pred_g = model_g.predict(X_test)"
   ]
  },
  {
   "cell_type": "code",
   "execution_count": 23,
   "metadata": {},
   "outputs": [
    {
     "data": {
      "text/html": [
       "<div>\n",
       "<style scoped>\n",
       "    .dataframe tbody tr th:only-of-type {\n",
       "        vertical-align: middle;\n",
       "    }\n",
       "\n",
       "    .dataframe tbody tr th {\n",
       "        vertical-align: top;\n",
       "    }\n",
       "\n",
       "    .dataframe thead th {\n",
       "        text-align: right;\n",
       "    }\n",
       "</style>\n",
       "<table border=\"1\" class=\"dataframe\">\n",
       "  <thead>\n",
       "    <tr style=\"text-align: right;\">\n",
       "      <th></th>\n",
       "      <th></th>\n",
       "      <th>PJME_MW</th>\n",
       "      <th>year</th>\n",
       "      <th>month</th>\n",
       "      <th>dayofmonth</th>\n",
       "      <th>quarter</th>\n",
       "      <th>dayofyear</th>\n",
       "      <th>weekofyear</th>\n",
       "      <th>dayofweek</th>\n",
       "      <th>hour</th>\n",
       "      <th>is_holiday</th>\n",
       "      <th>is_prev_holiday</th>\n",
       "      <th>is_next_holiday</th>\n",
       "    </tr>\n",
       "    <tr>\n",
       "      <th>Date</th>\n",
       "      <th>Time</th>\n",
       "      <th></th>\n",
       "      <th></th>\n",
       "      <th></th>\n",
       "      <th></th>\n",
       "      <th></th>\n",
       "      <th></th>\n",
       "      <th></th>\n",
       "      <th></th>\n",
       "      <th></th>\n",
       "      <th></th>\n",
       "      <th></th>\n",
       "      <th></th>\n",
       "    </tr>\n",
       "  </thead>\n",
       "  <tbody>\n",
       "    <tr>\n",
       "      <th rowspan=\"5\" valign=\"top\">2002-01-01</th>\n",
       "      <th>01:00:00</th>\n",
       "      <td>30393.0</td>\n",
       "      <td>2002</td>\n",
       "      <td>1</td>\n",
       "      <td>1</td>\n",
       "      <td>1</td>\n",
       "      <td>1</td>\n",
       "      <td>1</td>\n",
       "      <td>1</td>\n",
       "      <td>1</td>\n",
       "      <td>1</td>\n",
       "      <td>0</td>\n",
       "      <td>0</td>\n",
       "    </tr>\n",
       "    <tr>\n",
       "      <th>02:00:00</th>\n",
       "      <td>29265.0</td>\n",
       "      <td>2002</td>\n",
       "      <td>1</td>\n",
       "      <td>1</td>\n",
       "      <td>1</td>\n",
       "      <td>1</td>\n",
       "      <td>1</td>\n",
       "      <td>1</td>\n",
       "      <td>2</td>\n",
       "      <td>1</td>\n",
       "      <td>0</td>\n",
       "      <td>0</td>\n",
       "    </tr>\n",
       "    <tr>\n",
       "      <th>03:00:00</th>\n",
       "      <td>28357.0</td>\n",
       "      <td>2002</td>\n",
       "      <td>1</td>\n",
       "      <td>1</td>\n",
       "      <td>1</td>\n",
       "      <td>1</td>\n",
       "      <td>1</td>\n",
       "      <td>1</td>\n",
       "      <td>3</td>\n",
       "      <td>1</td>\n",
       "      <td>0</td>\n",
       "      <td>0</td>\n",
       "    </tr>\n",
       "    <tr>\n",
       "      <th>04:00:00</th>\n",
       "      <td>27899.0</td>\n",
       "      <td>2002</td>\n",
       "      <td>1</td>\n",
       "      <td>1</td>\n",
       "      <td>1</td>\n",
       "      <td>1</td>\n",
       "      <td>1</td>\n",
       "      <td>1</td>\n",
       "      <td>4</td>\n",
       "      <td>1</td>\n",
       "      <td>0</td>\n",
       "      <td>0</td>\n",
       "    </tr>\n",
       "    <tr>\n",
       "      <th>05:00:00</th>\n",
       "      <td>28057.0</td>\n",
       "      <td>2002</td>\n",
       "      <td>1</td>\n",
       "      <td>1</td>\n",
       "      <td>1</td>\n",
       "      <td>1</td>\n",
       "      <td>1</td>\n",
       "      <td>1</td>\n",
       "      <td>5</td>\n",
       "      <td>1</td>\n",
       "      <td>0</td>\n",
       "      <td>0</td>\n",
       "    </tr>\n",
       "    <tr>\n",
       "      <th>...</th>\n",
       "      <th>...</th>\n",
       "      <td>...</td>\n",
       "      <td>...</td>\n",
       "      <td>...</td>\n",
       "      <td>...</td>\n",
       "      <td>...</td>\n",
       "      <td>...</td>\n",
       "      <td>...</td>\n",
       "      <td>...</td>\n",
       "      <td>...</td>\n",
       "      <td>...</td>\n",
       "      <td>...</td>\n",
       "      <td>...</td>\n",
       "    </tr>\n",
       "    <tr>\n",
       "      <th rowspan=\"4\" valign=\"top\">2018-08-02</th>\n",
       "      <th>20:00:00</th>\n",
       "      <td>44057.0</td>\n",
       "      <td>2018</td>\n",
       "      <td>8</td>\n",
       "      <td>2</td>\n",
       "      <td>3</td>\n",
       "      <td>214</td>\n",
       "      <td>31</td>\n",
       "      <td>3</td>\n",
       "      <td>20</td>\n",
       "      <td>0</td>\n",
       "      <td>0</td>\n",
       "      <td>0</td>\n",
       "    </tr>\n",
       "    <tr>\n",
       "      <th>21:00:00</th>\n",
       "      <td>43256.0</td>\n",
       "      <td>2018</td>\n",
       "      <td>8</td>\n",
       "      <td>2</td>\n",
       "      <td>3</td>\n",
       "      <td>214</td>\n",
       "      <td>31</td>\n",
       "      <td>3</td>\n",
       "      <td>21</td>\n",
       "      <td>0</td>\n",
       "      <td>0</td>\n",
       "      <td>0</td>\n",
       "    </tr>\n",
       "    <tr>\n",
       "      <th>22:00:00</th>\n",
       "      <td>41552.0</td>\n",
       "      <td>2018</td>\n",
       "      <td>8</td>\n",
       "      <td>2</td>\n",
       "      <td>3</td>\n",
       "      <td>214</td>\n",
       "      <td>31</td>\n",
       "      <td>3</td>\n",
       "      <td>22</td>\n",
       "      <td>0</td>\n",
       "      <td>0</td>\n",
       "      <td>0</td>\n",
       "    </tr>\n",
       "    <tr>\n",
       "      <th>23:00:00</th>\n",
       "      <td>38500.0</td>\n",
       "      <td>2018</td>\n",
       "      <td>8</td>\n",
       "      <td>2</td>\n",
       "      <td>3</td>\n",
       "      <td>214</td>\n",
       "      <td>31</td>\n",
       "      <td>3</td>\n",
       "      <td>23</td>\n",
       "      <td>0</td>\n",
       "      <td>0</td>\n",
       "      <td>0</td>\n",
       "    </tr>\n",
       "    <tr>\n",
       "      <th>2018-08-03</th>\n",
       "      <th>00:00:00</th>\n",
       "      <td>35486.0</td>\n",
       "      <td>2018</td>\n",
       "      <td>8</td>\n",
       "      <td>3</td>\n",
       "      <td>3</td>\n",
       "      <td>215</td>\n",
       "      <td>31</td>\n",
       "      <td>4</td>\n",
       "      <td>0</td>\n",
       "      <td>0</td>\n",
       "      <td>0</td>\n",
       "      <td>0</td>\n",
       "    </tr>\n",
       "  </tbody>\n",
       "</table>\n",
       "<p>145370 rows × 12 columns</p>\n",
       "</div>"
      ],
      "text/plain": [
       "                     PJME_MW  year  month  dayofmonth  quarter  dayofyear  \\\n",
       "Date       Time                                                             \n",
       "2002-01-01 01:00:00  30393.0  2002      1           1        1          1   \n",
       "           02:00:00  29265.0  2002      1           1        1          1   \n",
       "           03:00:00  28357.0  2002      1           1        1          1   \n",
       "           04:00:00  27899.0  2002      1           1        1          1   \n",
       "           05:00:00  28057.0  2002      1           1        1          1   \n",
       "...                      ...   ...    ...         ...      ...        ...   \n",
       "2018-08-02 20:00:00  44057.0  2018      8           2        3        214   \n",
       "           21:00:00  43256.0  2018      8           2        3        214   \n",
       "           22:00:00  41552.0  2018      8           2        3        214   \n",
       "           23:00:00  38500.0  2018      8           2        3        214   \n",
       "2018-08-03 00:00:00  35486.0  2018      8           3        3        215   \n",
       "\n",
       "                     weekofyear  dayofweek  hour  is_holiday  is_prev_holiday  \\\n",
       "Date       Time                                                                 \n",
       "2002-01-01 01:00:00           1          1     1           1                0   \n",
       "           02:00:00           1          1     2           1                0   \n",
       "           03:00:00           1          1     3           1                0   \n",
       "           04:00:00           1          1     4           1                0   \n",
       "           05:00:00           1          1     5           1                0   \n",
       "...                         ...        ...   ...         ...              ...   \n",
       "2018-08-02 20:00:00          31          3    20           0                0   \n",
       "           21:00:00          31          3    21           0                0   \n",
       "           22:00:00          31          3    22           0                0   \n",
       "           23:00:00          31          3    23           0                0   \n",
       "2018-08-03 00:00:00          31          4     0           0                0   \n",
       "\n",
       "                     is_next_holiday  \n",
       "Date       Time                       \n",
       "2002-01-01 01:00:00                0  \n",
       "           02:00:00                0  \n",
       "           03:00:00                0  \n",
       "           04:00:00                0  \n",
       "           05:00:00                0  \n",
       "...                              ...  \n",
       "2018-08-02 20:00:00                0  \n",
       "           21:00:00                0  \n",
       "           22:00:00                0  \n",
       "           23:00:00                0  \n",
       "2018-08-03 00:00:00                0  \n",
       "\n",
       "[145370 rows x 12 columns]"
      ]
     },
     "execution_count": 23,
     "metadata": {},
     "output_type": "execute_result"
    }
   ],
   "source": [
    "data"
   ]
  },
  {
   "cell_type": "code",
   "execution_count": 24,
   "metadata": {},
   "outputs": [],
   "source": [
    "def get_model():\n",
    "    return GradientBoostingRegressor(max_depth=5, random_state=0, n_estimators=100)\n",
    "\n",
    "def model_fit(model, x, y):\n",
    "    return model.fit(x, y)\n",
    "\n",
    "def get_y(model, x):\n",
    "    return model.predict(x)"
   ]
  },
  {
   "cell_type": "code",
   "execution_count": 25,
   "metadata": {},
   "outputs": [],
   "source": [
    "start_f=0\n",
    "X_train = data.iloc[:-1,start_f:]\n",
    "y_train = data['PJME_MW'].values[1:]\n",
    "X_test = data.iloc[-1,start_f:]\n",
    "y_test = data['PJME_MW'].values[-1]"
   ]
  },
  {
   "cell_type": "code",
   "execution_count": 26,
   "metadata": {},
   "outputs": [
    {
     "data": {
      "text/plain": [
       "(PJME_MW            35486\n",
       " year                2018\n",
       " month                  8\n",
       " dayofmonth             3\n",
       " quarter                3\n",
       " dayofyear            215\n",
       " weekofyear            31\n",
       " dayofweek              4\n",
       " hour                   0\n",
       " is_holiday             0\n",
       " is_prev_holiday        0\n",
       " is_next_holiday        0\n",
       " Name: (2018-08-03 00:00:00, 00:00:00), dtype: object,\n",
       " 35486.0)"
      ]
     },
     "execution_count": 26,
     "metadata": {},
     "output_type": "execute_result"
    }
   ],
   "source": [
    "X_test, y_test"
   ]
  },
  {
   "cell_type": "code",
   "execution_count": null,
   "metadata": {},
   "outputs": [],
   "source": []
  },
  {
   "cell_type": "code",
   "execution_count": 27,
   "metadata": {},
   "outputs": [],
   "source": [
    "last = data[-1:]"
   ]
  },
  {
   "cell_type": "code",
   "execution_count": null,
   "metadata": {},
   "outputs": [
    {
     "name": "stdout",
     "output_type": "stream",
     "text": [
      " * Serving Flask app \"__main__\" (lazy loading)\n",
      " * Environment: production\n",
      "   WARNING: This is a development server. Do not use it in a production deployment.\n",
      "   Use a production WSGI server instead.\n",
      " * Debug mode: off\n"
     ]
    },
    {
     "name": "stderr",
     "output_type": "stream",
     "text": [
      " * Running on http://127.0.0.1:5000/ (Press CTRL+C to quit)\n"
     ]
    },
    {
     "name": "stdout",
     "output_type": "stream",
     "text": [
      " * Running on http://b4c3cd460b5f.ngrok.io\n",
      " * Traffic stats available on http://127.0.0.1:4040\n"
     ]
    },
    {
     "name": "stderr",
     "output_type": "stream",
     "text": [
      "127.0.0.1 - - [30/Nov/2020 18:45:45] \"\u001b[37mPOST /predict HTTP/1.1\u001b[0m\" 200 -\n"
     ]
    },
    {
     "name": "stdout",
     "output_type": "stream",
     "text": [
      "{'PJME_MW': 35486, 'year': 2018, 'month': 8, 'dayofmonth': 3, 'quarter': 3, 'dayofyear': 215, 'weekofyear': 31, 'dayofweek': 4, 'hour': 0, 'is_holiday': 0, 'is_prev_holiday': 0, 'is_next_holiday': 0}\n"
     ]
    }
   ],
   "source": [
    "# Обработчики и запуск Flask\n",
    "app = Flask(__name__)\n",
    "run_with_ngrok(app)  # Start ngrok when app is run\n",
    "\n",
    "train = data[:-1]\n",
    "\n",
    "model = get_model()\n",
    "\n",
    "@app.route('/init', methods=['GET', 'POST'])\n",
    "def init():\n",
    "#     try:\n",
    "        model_fit(model, X_train, y_train)\n",
    "        return jsonify({'model': id(model)})\n",
    "#     except:\n",
    "#         return 'Exception'\n",
    "\n",
    "\n",
    "#       return jsonify({'ID':ID, 'value_Poisson':value_Poisson, 'value_Gamma':value_Gamma, 'value_BurningCost':value_BurningCost}) \n",
    "\n",
    "\n",
    "@app.route('/predict', methods=['GET', 'POST'])\n",
    "def predict():\n",
    "#     get_y(model, X_test.reshape(1, -1))\n",
    "    json_input = request.json\n",
    "    print(json_input)\n",
    "\n",
    "    return jsonify({'ok':1})\n",
    "\n",
    "\n",
    "if __name__ == '__main__':\n",
    "    app.run()"
   ]
  },
  {
   "cell_type": "code",
   "execution_count": null,
   "metadata": {},
   "outputs": [],
   "source": []
  }
 ],
 "metadata": {
  "kernelspec": {
   "display_name": "Python 3",
   "language": "python",
   "name": "python3"
  },
  "language_info": {
   "codemirror_mode": {
    "name": "ipython",
    "version": 3
   },
   "file_extension": ".py",
   "mimetype": "text/x-python",
   "name": "python",
   "nbconvert_exporter": "python",
   "pygments_lexer": "ipython3",
   "version": "3.8.6"
  }
 },
 "nbformat": 4,
 "nbformat_minor": 4
}
