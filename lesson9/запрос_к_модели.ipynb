{
  "nbformat": 4,
  "nbformat_minor": 0,
  "metadata": {
    "colab": {
      "name": "запрос_к_модели.ipynb",
      "provenance": []
    },
    "kernelspec": {
      "name": "python3",
      "display_name": "Python 3"
    }
  },
  "cells": [
    {
      "cell_type": "code",
      "metadata": {
        "id": "Cxm28pii80xp"
      },
      "source": [
        "import requests"
      ],
      "execution_count": null,
      "outputs": []
    },
    {
      "cell_type": "code",
      "metadata": {
        "colab": {
          "base_uri": "https://localhost:8080/"
        },
        "id": "J_xtPIQt8toy",
        "outputId": "bac36fb2-1018-4a4c-a276-313026c41976"
      },
      "source": [
        "# Пример данных\n",
        "data = {\n",
        "    \"ID\": 1,\n",
        "    \"LicAge\": 450,\n",
        "    \"RecordBeg\": \"2004-01-01\",\n",
        "    \"RecordEnd\": \"\",\n",
        "    \"VehAge\": \"\",\n",
        "    \"Gender\": \"Male\",\n",
        "    \"MariStat\": \"Other\",\n",
        "    \"SocioCateg\": \"CSP20\",\n",
        "    \"VehUsage\": \"Private\",\n",
        "    \"DrivAge\": 21,\n",
        "    \"HasKmLimit\": 0,\n",
        "    \"BonusMalus\": 97,\n",
        "    \"OutUseNb\": 0,\n",
        "    \"RiskArea\": 0\n",
        "}\n",
        "\n",
        "# формируем запрос\n",
        "def send_json(data):\n",
        "    url = 'http://102546a53e62.ngrok.io/predict'\n",
        "    headers = {'content-type': 'application/json'}\n",
        "    response = requests.post(url, json=data, headers=headers)\n",
        "    return response\n",
        "\n",
        "# обращение к серверу\n",
        "if __name__ == '__main__':\n",
        "    response = send_json(data)\n",
        "    print(response.json())"
      ],
      "execution_count": null,
      "outputs": [
        {
          "output_type": "stream",
          "text": [
            "{'ID': 1, 'value_BurningCost': 301.718068809848, 'value_Gamma': 874.7446496994197, 'value_Poisson': 0.3449213080794773}\n"
          ],
          "name": "stdout"
        }
      ]
    },
    {
      "cell_type": "code",
      "metadata": {
        "id": "6hdMT1q39TuA"
      },
      "source": [
        ""
      ],
      "execution_count": null,
      "outputs": []
    }
  ]
}